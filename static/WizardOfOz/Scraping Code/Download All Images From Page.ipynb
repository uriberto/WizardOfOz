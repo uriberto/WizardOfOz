{
 "cells": [
  {
   "cell_type": "code",
   "execution_count": 1,
   "metadata": {},
   "outputs": [],
   "source": [
    "import bs4 as bs\n",
    "import urllib.request\n",
    "import requests # to get image from the web\n",
    "import shutil # to save it locally\n",
    "def download_img(image_url):\n",
    "    ## Set up the image URL and filename\n",
    "    filename = image_url.split(\"/\")[-1]\n",
    "\n",
    "    # Open the url image, set stream to True, this will return the stream content.\n",
    "    r = requests.get(image_url, stream = True)\n",
    "\n",
    "    # Check if the image was retrieved successfully\n",
    "    if r.status_code == 200:\n",
    "        # Set decode_content value to True, otherwise the downloaded image file's size will be zero.\n",
    "        r.raw.decode_content = True\n",
    "\n",
    "        # Open a local file with wb ( write binary ) permission.\n",
    "        with open(filename,'wb') as f:\n",
    "            shutil.copyfileobj(r.raw, f)\n",
    "\n",
    "        print('Image sucessfully Downloaded: ',filename)\n",
    "    else:\n",
    "        print('Image Couldn\\'t be retreived')"
   ]
  },
  {
   "cell_type": "code",
   "execution_count": 26,
   "metadata": {},
   "outputs": [
    {
     "name": "stdout",
     "output_type": "stream",
     "text": [
      "https://www.gutenberg.org/files/25581/25581-h/\n"
     ]
    }
   ],
   "source": [
    "url = 'https://www.gutenberg.org/files/25581/25581-h/25581-h.htm'\n",
    "url_base = url.rsplit('/', 1)[0]+'/'\n",
    "asoup = bs.BeautifulSoup(urllib.request.urlopen(url).read(),'lxml')\n",
    "print(url_base)"
   ]
  },
  {
   "cell_type": "code",
   "execution_count": 10,
   "metadata": {},
   "outputs": [],
   "source": [
    "def download_all_imgs(asoup,url_base):\n",
    "    for img in asoup.find_all('img'):\n",
    "        download_img(url_base + img['src'])"
   ]
  },
  {
   "cell_type": "code",
   "execution_count": 13,
   "metadata": {},
   "outputs": [],
   "source": [
    "def download_all_linked_imgs(asoup,url_base):\n",
    "    for link in asoup.find_all('a'):\n",
    "        if link.has_attr('href') and link['href'].endswith('jpg'):\n",
    "            download_img(url_base+link['href'])"
   ]
  },
  {
   "cell_type": "code",
   "execution_count": 27,
   "metadata": {},
   "outputs": [
    {
     "name": "stdout",
     "output_type": "stream",
     "text": [
      "Image sucessfully Downloaded:  cover.jpg\n",
      "Image sucessfully Downloaded:  image1.jpg\n",
      "Image sucessfully Downloaded:  image2.jpg\n",
      "Image sucessfully Downloaded:  image3.jpg\n",
      "Image sucessfully Downloaded:  image4.jpg\n",
      "Image sucessfully Downloaded:  image5.jpg\n",
      "Image sucessfully Downloaded:  image6.jpg\n",
      "Image sucessfully Downloaded:  image7.jpg\n",
      "Image sucessfully Downloaded:  image8.jpg\n",
      "Image sucessfully Downloaded:  image9.jpg\n",
      "Image sucessfully Downloaded:  image10.jpg\n",
      "Image sucessfully Downloaded:  image11.jpg\n",
      "Image sucessfully Downloaded:  image12.jpg\n",
      "Image sucessfully Downloaded:  image13.jpg\n",
      "Image sucessfully Downloaded:  image14.jpg\n",
      "Image sucessfully Downloaded:  image15.jpg\n",
      "Image sucessfully Downloaded:  image16.jpg\n",
      "Image sucessfully Downloaded:  image17.jpg\n",
      "Image sucessfully Downloaded:  image18.jpg\n",
      "Image sucessfully Downloaded:  image19.jpg\n",
      "Image sucessfully Downloaded:  image20.jpg\n",
      "Image sucessfully Downloaded:  image21.jpg\n",
      "Image sucessfully Downloaded:  image22.jpg\n",
      "Image sucessfully Downloaded:  image23.jpg\n",
      "Image sucessfully Downloaded:  image24.jpg\n",
      "Image sucessfully Downloaded:  image25.jpg\n",
      "Image sucessfully Downloaded:  image26.jpg\n",
      "Image sucessfully Downloaded:  image27.jpg\n",
      "Image sucessfully Downloaded:  image28.jpg\n",
      "Image sucessfully Downloaded:  image29.jpg\n",
      "Image sucessfully Downloaded:  image30.jpg\n",
      "Image sucessfully Downloaded:  image31.jpg\n",
      "Image sucessfully Downloaded:  image32.jpg\n",
      "Image sucessfully Downloaded:  image33.jpg\n",
      "Image sucessfully Downloaded:  image34.jpg\n",
      "Image sucessfully Downloaded:  image35.jpg\n",
      "Image sucessfully Downloaded:  image36.jpg\n",
      "Image sucessfully Downloaded:  image37.jpg\n",
      "Image sucessfully Downloaded:  image38.jpg\n",
      "Image sucessfully Downloaded:  image39.jpg\n",
      "Image sucessfully Downloaded:  image40.jpg\n",
      "Image sucessfully Downloaded:  image41.jpg\n",
      "Image sucessfully Downloaded:  image42.jpg\n",
      "Image sucessfully Downloaded:  image43.jpg\n",
      "Image sucessfully Downloaded:  image44.jpg\n",
      "Image sucessfully Downloaded:  image45.jpg\n",
      "Image sucessfully Downloaded:  image46.jpg\n",
      "Image sucessfully Downloaded:  image47.jpg\n",
      "Image sucessfully Downloaded:  image48.jpg\n",
      "Image sucessfully Downloaded:  image49.jpg\n",
      "Image sucessfully Downloaded:  image50.jpg\n",
      "Image sucessfully Downloaded:  image51.jpg\n",
      "Image sucessfully Downloaded:  image52.jpg\n",
      "Image sucessfully Downloaded:  image53.jpg\n",
      "Image sucessfully Downloaded:  image54.jpg\n",
      "Image sucessfully Downloaded:  image55.jpg\n",
      "Image sucessfully Downloaded:  image56.jpg\n",
      "Image sucessfully Downloaded:  image57.jpg\n",
      "Image sucessfully Downloaded:  image58.jpg\n",
      "Image sucessfully Downloaded:  image59.jpg\n",
      "Image sucessfully Downloaded:  image60.jpg\n",
      "Image sucessfully Downloaded:  image61.jpg\n",
      "Image sucessfully Downloaded:  image62.jpg\n",
      "Image sucessfully Downloaded:  image63.jpg\n",
      "Image sucessfully Downloaded:  image64.jpg\n",
      "Image sucessfully Downloaded:  image65.jpg\n",
      "Image sucessfully Downloaded:  image66.jpg\n",
      "Image sucessfully Downloaded:  image67.jpg\n",
      "Image sucessfully Downloaded:  image68.jpg\n",
      "Image sucessfully Downloaded:  image69.jpg\n",
      "Image sucessfully Downloaded:  image70.jpg\n",
      "Image sucessfully Downloaded:  image71.jpg\n",
      "Image sucessfully Downloaded:  image72.jpg\n",
      "Image sucessfully Downloaded:  image73.jpg\n",
      "Image sucessfully Downloaded:  image74.jpg\n",
      "Image sucessfully Downloaded:  image75.jpg\n",
      "Image sucessfully Downloaded:  image76.jpg\n",
      "Image sucessfully Downloaded:  image77.jpg\n",
      "Image sucessfully Downloaded:  image78.jpg\n",
      "Image sucessfully Downloaded:  image79.jpg\n",
      "Image sucessfully Downloaded:  image80.jpg\n",
      "Image sucessfully Downloaded:  image81.jpg\n",
      "Image sucessfully Downloaded:  image82.jpg\n",
      "Image sucessfully Downloaded:  image83.jpg\n",
      "Image sucessfully Downloaded:  image84.jpg\n",
      "Image sucessfully Downloaded:  image85.jpg\n",
      "Image sucessfully Downloaded:  image86.jpg\n",
      "Image sucessfully Downloaded:  image87.jpg\n",
      "Image sucessfully Downloaded:  image88.jpg\n",
      "Image sucessfully Downloaded:  image89.jpg\n",
      "Image sucessfully Downloaded:  image90.jpg\n",
      "Image sucessfully Downloaded:  image91.jpg\n",
      "Image sucessfully Downloaded:  image92.jpg\n",
      "Image sucessfully Downloaded:  image93.jpg\n",
      "Image sucessfully Downloaded:  image94.jpg\n",
      "Image sucessfully Downloaded:  image95.jpg\n",
      "Image sucessfully Downloaded:  image96.jpg\n",
      "Image sucessfully Downloaded:  image97.jpg\n",
      "Image sucessfully Downloaded:  image98.jpg\n",
      "Image sucessfully Downloaded:  image99.jpg\n",
      "Image sucessfully Downloaded:  image100.jpg\n",
      "Image sucessfully Downloaded:  image101.jpg\n",
      "Image sucessfully Downloaded:  image102.jpg\n",
      "Image sucessfully Downloaded:  image103.jpg\n",
      "Image sucessfully Downloaded:  image104.jpg\n",
      "Image sucessfully Downloaded:  image105.jpg\n",
      "Image sucessfully Downloaded:  image106.jpg\n",
      "Image sucessfully Downloaded:  image107.jpg\n",
      "Image sucessfully Downloaded:  image108.jpg\n",
      "Image sucessfully Downloaded:  image109.jpg\n",
      "Image sucessfully Downloaded:  image110.jpg\n",
      "Image sucessfully Downloaded:  image111.jpg\n",
      "Image sucessfully Downloaded:  flypaper.jpg\n"
     ]
    }
   ],
   "source": [
    "download_all_imgs(asoup,url_base)"
   ]
  },
  {
   "cell_type": "code",
   "execution_count": 18,
   "metadata": {},
   "outputs": [],
   "source": []
  },
  {
   "cell_type": "code",
   "execution_count": null,
   "metadata": {},
   "outputs": [],
   "source": []
  }
 ],
 "metadata": {
  "kernelspec": {
   "display_name": "Python 3",
   "language": "python",
   "name": "python3"
  },
  "language_info": {
   "codemirror_mode": {
    "name": "ipython",
    "version": 3
   },
   "file_extension": ".py",
   "mimetype": "text/x-python",
   "name": "python",
   "nbconvert_exporter": "python",
   "pygments_lexer": "ipython3",
   "version": "3.7.6"
  }
 },
 "nbformat": 4,
 "nbformat_minor": 4
}
