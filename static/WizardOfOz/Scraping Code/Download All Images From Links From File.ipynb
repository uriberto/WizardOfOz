{
 "cells": [
  {
   "cell_type": "code",
   "execution_count": 1,
   "metadata": {},
   "outputs": [],
   "source": [
    "import bs4 as bs\n",
    "import urllib.request\n",
    "import requests # to get image from the web\n",
    "import shutil # to save it locally\n",
    "def download_img(image_url):\n",
    "    ## Set up the image URL and filename\n",
    "    filename = image_url.split(\"/\")[-1]\n",
    "\n",
    "    # Open the url image, set stream to True, this will return the stream content.\n",
    "    r = requests.get(image_url, stream = True)\n",
    "\n",
    "    # Check if the image was retrieved successfully\n",
    "    if r.status_code == 200:\n",
    "        # Set decode_content value to True, otherwise the downloaded image file's size will be zero.\n",
    "        r.raw.decode_content = True\n",
    "\n",
    "        # Open a local file with wb ( write binary ) permission.\n",
    "        with open(filename,'wb') as f:\n",
    "            shutil.copyfileobj(r.raw, f)\n",
    "\n",
    "        print('Image sucessfully Downloaded: ',filename)\n",
    "    else:\n",
    "        print('Image Couldn\\'t be retreived')"
   ]
  },
  {
   "cell_type": "code",
   "execution_count": 5,
   "metadata": {},
   "outputs": [
    {
     "name": "stdout",
     "output_type": "stream",
     "text": [
      "Image sucessfully Downloaded:  0001v.jpg\n",
      "Image sucessfully Downloaded:  0011v.jpg\n",
      "Image sucessfully Downloaded:  0015v.jpg\n",
      "Image sucessfully Downloaded:  0023v.jpg\n",
      "Image sucessfully Downloaded:  0025v.jpg\n",
      "Image sucessfully Downloaded:  0041v.jpg\n",
      "Image sucessfully Downloaded:  0059v.jpg\n",
      "Image sucessfully Downloaded:  0069v.jpg\n",
      "Image sucessfully Downloaded:  0075v.jpg\n",
      "Image sucessfully Downloaded:  0081v.jpg\n",
      "Image sucessfully Downloaded:  0089v.jpg\n",
      "Image sucessfully Downloaded:  0101v.jpg\n",
      "Image sucessfully Downloaded:  0109v.jpg\n",
      "Image sucessfully Downloaded:  0114v.jpg\n",
      "Image sucessfully Downloaded:  0121v.jpg\n",
      "Image sucessfully Downloaded:  0135v.jpg\n",
      "Image sucessfully Downloaded:  0139v.jpg\n",
      "Image sucessfully Downloaded:  0151v.jpg\n",
      "Image sucessfully Downloaded:  0160v.jpg\n",
      "Image sucessfully Downloaded:  0165v.jpg\n",
      "Image sucessfully Downloaded:  0179v.jpg\n",
      "Image sucessfully Downloaded:  0185v.jpg\n",
      "Image sucessfully Downloaded:  0191v.jpg\n",
      "Image sucessfully Downloaded:  0203v.jpg\n",
      "Image sucessfully Downloaded:  0209v.jpg\n",
      "Image sucessfully Downloaded:  0215v.jpg\n",
      "Image sucessfully Downloaded:  0219v.jpg\n",
      "Image sucessfully Downloaded:  0227v.jpg\n",
      "Image sucessfully Downloaded:  0235v.jpg\n",
      "Image sucessfully Downloaded:  0251v.jpg\n",
      "Image sucessfully Downloaded:  0261v.jpg\n",
      "Image sucessfully Downloaded:  0271v.jpg\n",
      "Image sucessfully Downloaded:  0287v.jpg\n",
      "Image sucessfully Downloaded:  0291v.jpg\n",
      "Image sucessfully Downloaded:  0301v.jpg\n",
      "Image sucessfully Downloaded:  0312v.jpg\n"
     ]
    }
   ],
   "source": [
    "with open('Wonderful Wizard Of Oz Links') as f:\n",
    "    lines = f.read()\n",
    "f.close\n",
    "asoup = bs.BeautifulSoup(lines,'lxml')\n",
    "\n",
    "for img in asoup.find_all('img'):\n",
    "    download_img(img['src'].split(\"?\")[-2])"
   ]
  },
  {
   "cell_type": "code",
   "execution_count": null,
   "metadata": {},
   "outputs": [],
   "source": []
  }
 ],
 "metadata": {
  "kernelspec": {
   "display_name": "Python 3",
   "language": "python",
   "name": "python3"
  },
  "language_info": {
   "codemirror_mode": {
    "name": "ipython",
    "version": 3
   },
   "file_extension": ".py",
   "mimetype": "text/x-python",
   "name": "python",
   "nbconvert_exporter": "python",
   "pygments_lexer": "ipython3",
   "version": "3.7.6"
  }
 },
 "nbformat": 4,
 "nbformat_minor": 4
}
