{
 "cells": [
  {
   "cell_type": "code",
   "execution_count": 1,
   "metadata": {},
   "outputs": [],
   "source": [
    "twwoo_list = ['0001v.jpg',\n",
    "'0011v.jpg',\n",
    "'0015v.jpg',\n",
    "'0023v.jpg',\n",
    "'0025v.jpg',\n",
    "'0041v.jpg',\n",
    "'0059v.jpg',\n",
    "'0069v.jpg',\n",
    "'0075v.jpg',\n",
    "'0081v.jpg',\n",
    "'0089v.jpg',\n",
    "'0101v.jpg',\n",
    "'0109v.jpg',\n",
    "'0114v.jpg',\n",
    "'0121v.jpg',\n",
    "'0135v.jpg',\n",
    "'0139v.jpg',\n",
    "'0151v.jpg',\n",
    "'0160v.jpg',\n",
    "'0165v.jpg',\n",
    "'0179v.jpg',\n",
    "'0185v.jpg',\n",
    "'0191v.jpg',\n",
    "'0203v.jpg',\n",
    "'0209v.jpg',\n",
    "'0215v.jpg',\n",
    "'0219v.jpg',\n",
    "'0227v.jpg',\n",
    "'0235v.jpg',\n",
    "'0251v.jpg',\n",
    "'0261v.jpg',\n",
    "'0271v.jpg',\n",
    "'0287v.jpg',\n",
    "'0291v.jpg',\n",
    "'0301v.jpg',\n",
    "'0312v.jpg']"
   ]
  },
  {
   "cell_type": "code",
   "execution_count": 2,
   "metadata": {},
   "outputs": [],
   "source": [
    "dorothy = [2,3,4,5,7,9,11,13,14,15,16,17,19,20,21,22,23,26,28,29,31,34,35]"
   ]
  },
  {
   "cell_type": "code",
   "execution_count": 4,
   "metadata": {},
   "outputs": [],
   "source": [
    "dorothy_in_twwoo = [twwoo_list[i] for i in dorothy]"
   ]
  },
  {
   "cell_type": "code",
   "execution_count": 5,
   "metadata": {},
   "outputs": [
    {
     "data": {
      "text/plain": [
       "['0015v.jpg',\n",
       " '0023v.jpg',\n",
       " '0025v.jpg',\n",
       " '0041v.jpg',\n",
       " '0069v.jpg',\n",
       " '0081v.jpg',\n",
       " '0101v.jpg',\n",
       " '0114v.jpg',\n",
       " '0121v.jpg',\n",
       " '0135v.jpg',\n",
       " '0139v.jpg',\n",
       " '0151v.jpg',\n",
       " '0165v.jpg',\n",
       " '0179v.jpg',\n",
       " '0185v.jpg',\n",
       " '0191v.jpg',\n",
       " '0203v.jpg',\n",
       " '0219v.jpg',\n",
       " '0235v.jpg',\n",
       " '0251v.jpg',\n",
       " '0271v.jpg',\n",
       " '0301v.jpg',\n",
       " '0312v.jpg']"
      ]
     },
     "execution_count": 5,
     "metadata": {},
     "output_type": "execute_result"
    }
   ],
   "source": [
    "dorothy_in_twwoo"
   ]
  },
  {
   "cell_type": "code",
   "execution_count": 6,
   "metadata": {},
   "outputs": [],
   "source": [
    "toto = [2,3,4,5,9,11,15,16,19,25,26,28,29,31]"
   ]
  },
  {
   "cell_type": "code",
   "execution_count": 7,
   "metadata": {},
   "outputs": [],
   "source": [
    "toto_in_twwoo = [twwoo_list[i] for i in toto]"
   ]
  },
  {
   "cell_type": "code",
   "execution_count": 9,
   "metadata": {},
   "outputs": [
    {
     "data": {
      "text/plain": [
       "['0015v.jpg',\n",
       " '0023v.jpg',\n",
       " '0025v.jpg',\n",
       " '0041v.jpg',\n",
       " '0081v.jpg',\n",
       " '0101v.jpg',\n",
       " '0135v.jpg',\n",
       " '0139v.jpg',\n",
       " '0165v.jpg',\n",
       " '0215v.jpg',\n",
       " '0219v.jpg',\n",
       " '0235v.jpg',\n",
       " '0251v.jpg',\n",
       " '0271v.jpg']"
      ]
     },
     "execution_count": 9,
     "metadata": {},
     "output_type": "execute_result"
    }
   ],
   "source": [
    "toto_in_twwoo"
   ]
  },
  {
   "cell_type": "code",
   "execution_count": 10,
   "metadata": {},
   "outputs": [
    {
     "data": {
      "text/plain": [
       "['0001v.jpg',\n",
       " '0081v.jpg',\n",
       " '0135v.jpg',\n",
       " '0139v.jpg',\n",
       " '0160v.jpg',\n",
       " '0165v.jpg',\n",
       " '0179v.jpg',\n",
       " '0191v.jpg',\n",
       " '0219v.jpg',\n",
       " '0235v.jpg',\n",
       " '0251v.jpg',\n",
       " '0301v.jpg']"
      ]
     },
     "execution_count": 10,
     "metadata": {},
     "output_type": "execute_result"
    }
   ],
   "source": [
    "lion = [0,9,15,16,18,19,20,22,26,28,29,34]\n",
    "lion_in_twwoo = [twwoo_list[i] for i in lion]\n",
    "lion_in_twwoo"
   ]
  },
  {
   "cell_type": "code",
   "execution_count": 11,
   "metadata": {},
   "outputs": [
    {
     "data": {
      "text/plain": [
       "['0059v.jpg',\n",
       " '0069v.jpg',\n",
       " '0081v.jpg',\n",
       " '0109v.jpg',\n",
       " '0114v.jpg',\n",
       " '0121v.jpg',\n",
       " '0135v.jpg',\n",
       " '0139v.jpg',\n",
       " '0165v.jpg',\n",
       " '0219v.jpg',\n",
       " '0251v.jpg',\n",
       " '0261v.jpg',\n",
       " '0291v.jpg',\n",
       " '0301v.jpg',\n",
       " '0312v.jpg']"
      ]
     },
     "execution_count": 11,
     "metadata": {},
     "output_type": "execute_result"
    }
   ],
   "source": [
    "scarecrow = [6,7,9,12,13,14,15,16,19,26,29,30,33,34,35]\n",
    "scarecrow_in_twwoo = [twwoo_list[i] for i in scarecrow]\n",
    "scarecrow_in_twwoo"
   ]
  },
  {
   "cell_type": "code",
   "execution_count": 12,
   "metadata": {},
   "outputs": [
    {
     "data": {
      "text/plain": [
       "['0069v.jpg',\n",
       " '0075v.jpg',\n",
       " '0081v.jpg',\n",
       " '0114v.jpg',\n",
       " '0121v.jpg',\n",
       " '0135v.jpg',\n",
       " '0139v.jpg',\n",
       " '0165v.jpg',\n",
       " '0191v.jpg',\n",
       " '0203v.jpg',\n",
       " '0219v.jpg',\n",
       " '0235v.jpg',\n",
       " '0251v.jpg',\n",
       " '0301v.jpg',\n",
       " '0312v.jpg']"
      ]
     },
     "execution_count": 12,
     "metadata": {},
     "output_type": "execute_result"
    }
   ],
   "source": [
    "tinwoodman = [8,9,10,14,15,16,17,20,23,24,27,29,30,35,36]\n",
    "tinwoodman_in_twwoo = [twwoo_list[i-1] for i in tinwoodman]\n",
    "tinwoodman_in_twwoo"
   ]
  },
  {
   "cell_type": "code",
   "execution_count": 13,
   "metadata": {},
   "outputs": [
    {
     "data": {
      "text/plain": [
       "['0301v.jpg']"
      ]
     },
     "execution_count": 13,
     "metadata": {},
     "output_type": "execute_result"
    }
   ],
   "source": [
    "glinda = [35]\n",
    "glinda_in_twwoo = [twwoo_list[i-1] for i in glinda]\n",
    "glinda_in_twwoo "
   ]
  },
  {
   "cell_type": "code",
   "execution_count": 14,
   "metadata": {},
   "outputs": [
    {
     "data": {
      "text/plain": [
       "['0015v.jpg',\n",
       " '0023v.jpg',\n",
       " '0025v.jpg',\n",
       " '0041v.jpg',\n",
       " '0081v.jpg',\n",
       " '0101v.jpg',\n",
       " '0135v.jpg',\n",
       " '0139v.jpg',\n",
       " '0165v.jpg',\n",
       " '0203v.jpg',\n",
       " '0215v.jpg',\n",
       " '0219v.jpg',\n",
       " '0235v.jpg',\n",
       " '0251v.jpg',\n",
       " '0271v.jpg']"
      ]
     },
     "execution_count": 14,
     "metadata": {},
     "output_type": "execute_result"
    }
   ],
   "source": [
    "toto = [3,4,5,6,10,12,16,17,20,24,26,27,29,30,32]\n",
    "toto_in_twwoo = [twwoo_list[i-1] for i in toto]\n",
    "toto_in_twwoo "
   ]
  },
  {
   "cell_type": "code",
   "execution_count": 15,
   "metadata": {},
   "outputs": [
    {
     "data": {
      "text/plain": [
       "['0025v.jpg', '0041v.jpg']"
      ]
     },
     "execution_count": 15,
     "metadata": {},
     "output_type": "execute_result"
    }
   ],
   "source": [
    "munchkins = [5,6]\n",
    "munchkins_in_twwoo = [twwoo_list[i-1] for i in munchkins]\n",
    "munchkins_in_twwoo"
   ]
  },
  {
   "cell_type": "code",
   "execution_count": 16,
   "metadata": {},
   "outputs": [
    {
     "data": {
      "text/plain": [
       "['0089v.jpg', '0139v.jpg']"
      ]
     },
     "execution_count": 16,
     "metadata": {},
     "output_type": "execute_result"
    }
   ],
   "source": [
    "kalida = [11,17]\n",
    "kalida_in_twwoo = [twwoo_list[i-1] for i in kalida]\n",
    "kalida_in_twwoo"
   ]
  },
  {
   "cell_type": "code",
   "execution_count": 17,
   "metadata": {},
   "outputs": [
    {
     "data": {
      "text/plain": [
       "['0151v.jpg', '0219v.jpg']"
      ]
     },
     "execution_count": 17,
     "metadata": {},
     "output_type": "execute_result"
    }
   ],
   "source": [
    "wizardofoz = [18,27]\n",
    "wizardofoz_in_twwoo = [twwoo_list[i-1] for i in wizardofoz]\n",
    "wizardofoz_in_twwoo"
   ]
  },
  {
   "cell_type": "code",
   "execution_count": 18,
   "metadata": {},
   "outputs": [
    {
     "data": {
      "text/plain": [
       "['0179v.jpg', '0203v.jpg']"
      ]
     },
     "execution_count": 18,
     "metadata": {},
     "output_type": "execute_result"
    }
   ],
   "source": [
    "flyingmonkeys = [21,24]\n",
    "flyingmonkeys_in_twwoo = [twwoo_list[i-1] for i in flyingmonkeys]\n",
    "flyingmonkeys_in_twwoo"
   ]
  },
  {
   "cell_type": "code",
   "execution_count": 19,
   "metadata": {},
   "outputs": [
    {
     "data": {
      "text/plain": [
       "['0185v.jpg']"
      ]
     },
     "execution_count": 19,
     "metadata": {},
     "output_type": "execute_result"
    }
   ],
   "source": [
    "witchofthewest = [22]\n",
    "witchofthewest_in_twwoo = [twwoo_list[i-1] for i in witchofthewest]\n",
    "witchofthewest_in_twwoo"
   ]
  },
  {
   "cell_type": "code",
   "execution_count": 20,
   "metadata": {},
   "outputs": [
    {
     "data": {
      "text/plain": [
       "['0287v.jpg', '0291v.jpg']"
      ]
     },
     "execution_count": 20,
     "metadata": {},
     "output_type": "execute_result"
    }
   ],
   "source": [
    "witchofthewest = [33,34]\n",
    "witchofthewest_in_twwoo = [twwoo_list[i-1] for i in witchofthewest]\n",
    "witchofthewest_in_twwoo"
   ]
  },
  {
   "cell_type": "code",
   "execution_count": 23,
   "metadata": {},
   "outputs": [],
   "source": [
    "def sublist_from_indices(array,indices):\n",
    "    subarray = [array[i-1] for i in indices]\n",
    "    return subarray\n",
    "    "
   ]
  },
  {
   "cell_type": "code",
   "execution_count": 24,
   "metadata": {},
   "outputs": [
    {
     "data": {
      "text/plain": [
       "['0287v.jpg', '0291v.jpg']"
      ]
     },
     "execution_count": 24,
     "metadata": {},
     "output_type": "execute_result"
    }
   ],
   "source": [
    "sublist_from_indices(twwoo_list,[33,34])"
   ]
  },
  {
   "cell_type": "code",
   "execution_count": 25,
   "metadata": {},
   "outputs": [],
   "source": [
    "tmloo_list = ['cover.jpeg',\n",
    "'14566566900_e082ee5e23_o.jpg',\n",
    "'14566576090_e66227eb21_o.jpg',\n",
    "'14566577470_dfd254e00c_o.jpg',\n",
    "'14566597109_9e65bb92a4_o.jpg',\n",
    "'14566598868_bd97445cf9_o.jpg',\n",
    "'14566600610_74720b238f_o.jpg',\n",
    "'14566609460_d2649ec679_o.jpg',\n",
    "'14566611318_bdea79fbb1_o.jpg',\n",
    "'14566611659_1cc09e48f4_o.jpg',\n",
    "'14566616649_c053afab0f_o.jpg',\n",
    "'14566616828_aabfd71618_o.jpg',\n",
    "'14566617320_87e202b205_o.jpg',\n",
    "'14566621569_1a918e0e81_o.jpg',\n",
    "'14566622350_8182100dfa_o.jpg',\n",
    "'14566625568_66f753c221_o.jpg',\n",
    "'14566625609_75042a48fc_o.jpg',\n",
    "'14566626570_6833eb04bb_o.jpg',\n",
    "'14566629360_ecda30f330_o.jpg',\n",
    "'14566634408_758cedece4_o.jpg',\n",
    "'14566634699_4575c41847_o.jpg',\n",
    "'14566635270_16e6be3777_o.jpg',\n",
    "'14566636018_a3d718ddfc_o.jpg',\n",
    "'14566636240_15aa8684ea_o.jpg',\n",
    "'14566637188_121605d1c6_o.jpg',\n",
    "'14566638618_3cb958fea6_o.jpg',\n",
    "'14566642539_cea1ee2c65_o.jpg',\n",
    "'14566643599_6842206c26_o.jpg',\n",
    "'14566645418_8d3a1f92b0_o.jpg',\n",
    "'14566651509_90c95e2d82_o.jpg',\n",
    "'14566654499_c75e121680_o.jpg',\n",
    "'14566659598_c3363155be_o.jpg',\n",
    "'14566660128_b4dbeb54c5_o.jpg',\n",
    "'14566661588_c8557d8d2b_o.jpg',\n",
    "'14566662699_796c6f3e96_o.jpg',\n",
    "'14566664289_dae983101b_o.jpg',\n",
    "'14566666458_3cac0b62ef_o.jpg',\n",
    "'14566670979_8e6ce746b5_o.jpg',\n",
    "'14566673939_a17b389f54_o.jpg',\n",
    "'14566801187_ab45d9c5d2_o.jpg',\n",
    "'14566810057_e32a478087_o.jpg',\n",
    "'14566814317_6bde500626_o.jpg',\n",
    "'14566814817_c45697dea8_o.jpg',\n",
    "'14566815387_393c6977c8_o.jpg',\n",
    "'14566819687_c73b748c42_o.jpg',\n",
    "'14566827287_53102919c5_o.jpg',\n",
    "'14566836727_2d9997a7f2_o.jpg',\n",
    "'14566838467_c2728f6858_o.jpg',\n",
    "'14566842717_b5a11f4939_o.jpg',\n",
    "'14566843417_1dfa051533_o.jpg',\n",
    "'14566847497_3e768f26f7_o.jpg',\n",
    "'14566850117_2ab98a3d36_o.jpg',\n",
    "'14566855387_98820d07b1_o.jpg',\n",
    "'14566867227_f39dd64a36_o.jpg',\n",
    "'14730250606_8c6458970c_o.jpg',\n",
    "'14730253076_6206709ac1_o.jpg',\n",
    "'14730254546_575f089404_o.jpg',\n",
    "'14730256936_abf1cc595b_o.jpg',\n",
    "'14730265916_51514e3059_o.jpg',\n",
    "'14730266216_e1e2831005_o.jpg',\n",
    "'14730274956_18312f1eda_o.jpg',\n",
    "'14730275286_413df391d8_o.jpg',\n",
    "'14730276496_2626080a4e_o.jpg',\n",
    "'14730279566_38608359f8_o.jpg',\n",
    "'14730288596_157012d748_o.jpg',\n",
    "'14730295956_1c62a3e73e_o.jpg',\n",
    "'14730306986_07e1944e65_o.jpg',\n",
    "'14730314766_09ea2cc387_o.jpg',\n",
    "'14730322066_dbe9658892_o.jpg',\n",
    "'14750093931_3ab20948ab_o.jpg',\n",
    "'14750096681_1fc23eb66c_o.jpg',\n",
    "'14750102901_8d6c4fb26e_o.jpg',\n",
    "'14750104541_bcec574fd5_o.jpg',\n",
    "'14750106211_56eb12a00e_o.jpg',\n",
    "'14750114401_e64df62bd4_o.jpg',\n",
    "'14750118601_a4b054af2f_o.jpg',\n",
    "'14750123361_dc13ea53a8_o.jpg',\n",
    "'14750128451_39cb9a75c2_o.jpg',\n",
    "'14750133681_2b7ed29339_o.jpg',\n",
    "'14750134011_f0f0a2156e_o.jpg',\n",
    "'14750138461_cc4410b66f_o.jpg',\n",
    "'14750143251_96e433042a_o.jpg',\n",
    "'14750145161_bb63444e5d_o.jpg',\n",
    "'14750151191_16dc84875c_o.jpg',\n",
    "'14750152681_bbd4da7a27_o.jpg',\n",
    "'14750157581_14958bb896_o.jpg',\n",
    "'14750158621_c34dd0b757_o.jpg',\n",
    "'14750905364_22f6873d98_o.jpg',\n",
    "'14750907574_7ace47e249_o.jpg',\n",
    "'14750911914_200cb354a6_o.jpg',\n",
    "'14750919454_4e5c832f7e_o.jpg',\n",
    "'14750925994_8cfc345fb5_o.jpg',\n",
    "'14750927304_ee369e70f6_o.jpg',\n",
    "'14750927744_bb6c91a10a_o.jpg',\n",
    "'14750929574_0ce2e423b1_o.jpg',\n",
    "'14750930444_dff8be66ef_o.jpg',\n",
    "'14750932084_362db08613_o.jpg',\n",
    "'14750940944_967db626e3_o.jpg',\n",
    "'14750961904_ab0e99a1ca_o.jpg',\n",
    "'14750973104_e63c27aeb8_o.jpg',\n",
    "'14750974584_91d2d9e16b_o.jpg',\n",
    "'14750975894_d80400f569_o.jpg',\n",
    "'14752933482_fde21ed155_o.jpg',\n",
    "'14752944182_5b0b9d31a1_o.jpg',\n",
    "'14752957332_25fd548e07_o.jpg',\n",
    "'14752958122_7527099026_o.jpg',\n",
    "'14752967312_7383aaf519_o.jpg',\n",
    "'14752972562_793cd83b6c_o.jpg',\n",
    "'14752987252_83ba83ae9f_o.jpg',\n",
    "'14752997482_12873e5cea_o.jpg',\n",
    "'14753001882_a49ff69581_o.jpg',\n",
    "'14753005462_e85003101a_o.jpg',\n",
    "'14753248105_fd573d9c07_o.jpg',\n",
    "'14753268085_0227f24608_o.jpg',\n",
    "'14753276295_0c67d6f002_o.jpg',\n",
    "'14753278005_118800d134_o.jpg',\n",
    "'14753279655_7292af2cb4_o.jpg',\n",
    "'14753284875_442c6a6570_o.jpg',\n",
    "'14753290445_2574698115_o.jpg',\n",
    "'14753295665_a92a7acf8d_o.jpg',\n",
    "'14753297415_8af320b7ac_o.jpg',\n",
    "'14753302625_27c6dcbd01_o.jpg',\n",
    "'14753303635_d86fbd35f2_o.jpg',\n",
    "'14753305185_7b72e0cdff_o.jpg',\n",
    "'14753306155_fca353e421_o.jpg',\n",
    "'14753307455_0e0164db68_o.jpg',\n",
    "'14753308105_2344c7093e_o.jpg',\n",
    "'14753318105_487297019e_o.jpg',\n",
    "'14773121433_5157e20485_o.jpg',\n",
    "'14773124503_47ec1bf7e2_o.jpg',\n",
    "'14773125643_eed8373b8f_o.jpg',\n",
    "'14773126823_36b29767ea_o.jpg',\n",
    "'14773129193_e8e530acb5_o.jpg',\n",
    "'14773133783_2e4c4ffaaa_o.jpg',\n",
    "'14773136403_0d9a6f7bc8_o.jpg',\n",
    "'14773143843_004bf273c0_o.jpg',\n",
    "'14773147603_86cbe56009_o.jpg',\n",
    "'14773149293_065e144c9b_o.jpg',\n",
    "'14773168113_da8544f410_o.jpg',\n",
    "'14773169153_309b38aebd_o.jpg',\n",
    "'14773170393_5241543f19_o.jpg',\n",
    "'14773185943_481a24eaa5_o.jpg']"
   ]
  },
  {
   "cell_type": "code",
   "execution_count": 39,
   "metadata": {},
   "outputs": [
    {
     "data": {
      "text/plain": [
       "['14730314766_09ea2cc387_o.jpg', '14750929574_0ce2e423b1_o.jpg']"
      ]
     },
     "execution_count": 39,
     "metadata": {},
     "output_type": "execute_result"
    }
   ],
   "source": [
    "sublist_from_indices(tmloo_list,[68,95])"
   ]
  },
  {
   "cell_type": "code",
   "execution_count": 55,
   "metadata": {},
   "outputs": [],
   "source": [
    "categorization_of_pics = [['s','tw'],['t'],['tw'],['s'],['wotn'],[],['d','t'],['d','t'],['d','t'],['d','t'],\n",
    "                          ['wotn'],['d','t'],['d','t','wotn','munchkins'],['munchkins'],['d','t'],['d'],['wotn'],\n",
    "                          ['wotn'],['munchkins'],['d','munchkins'],['munchkins'],['d','t','munchkins'],\n",
    "                          ['munchkins','t'],['d','t','s'],['d','s','t'],['d','s','t'],['s','munchkins'],\n",
    "                          ['d','t','s'],['s'],[],['tw','wotn'],['tw','t'],['tw'],['tw','d','s'],['s','t'],['tw'],\n",
    "                          ['tw'],['cl'],['cl','s','d','t','tw'],['cl','d','t'],['cl'],['tw','s'],['kalida'],\n",
    "                          ['cl','d','t'],['s'],['tw','d','t','cl'],['kalida','cl','tw','d','s','t'],['cl','d'],\n",
    "                          ['tw'],['d','t'],[],['s','t'],['s'],['s'],['s'],['cl','d','tw','s'],['d','t','s','tw'],\n",
    "                          ['fieldmice'],['fieldmice'],['d','tw','s','fieldmice'],['tw','t','fieldmice'],\n",
    "                          ['cl','s','tw','fieldmice'],['fieldmice'],['gotg'],['t'],['d','cl','t','tw','s'],[],\n",
    "                          ['cl','tw','s','d','t'],[],['t','d','gotg'],['aoo'],['jj','d'],['aoo'],[],['d','t'],\n",
    "                          ['cl','d','t','tw','s'],['woz'],['woz'],['tw'],['cl','woz'],\n",
    "                          ['cl','tw','s','d','t','aoo','jj'],['wotw'],['fm'],['wotw'],['tw'],['s'],['t'],['cl'],[],\n",
    "                          ['fm','cl','d'],['fm','wotw'],['wotw','t'],['d','wotw'],['d','t','tw'],['d','s'],\n",
    "                          ['cl','d','tw'],['s'],[],['d','fm'],['fieldmice','d','t','s','tw','cl'],['fm','d','t','tw'],\n",
    "                          ['fm'],[],['fm'],['woz'],['t'],['woz','t','tw'],['cl','d','s','tw','t','woz'],\n",
    "                          ['woz'],['s','woz'],['tw'],[],['cl'],['woz','s'],['cl','tw','s','d','t'],['tw','woz'],\n",
    "                          ['cl','woz'],['woz'],['d','t'],['t','woz'],['s','woz','aoo'],['d','tw'],['s','t'],\n",
    "                          ['cl','tw','s','d','t','aoo'],['aoo'],[],['fightingtree','t'],['gotg','d'],\n",
    "                          ['fightingtree','s'],['fightingtree','s','t'],['s'],['d','china'],['d','t','china'],\n",
    "                          ['china'],['cl','tw','s','d','t'],['cl'],['cl'],['cl'],['headbonkers'],['headbonkers','s'],\n",
    "                          ['d','t'],['t'],['cl','s','tw','d','t'],['cl','tw','s','d','wots'],['wots','d','t'],[],\n",
    "                          ['d','t'],['d','t']]"
   ]
  },
  {
   "cell_type": "code",
   "execution_count": 56,
   "metadata": {},
   "outputs": [],
   "source": [
    "twwoo_list=['i001_edit.jpg',\n",
    "'i003_edit.jpg',\n",
    "'i004_edit.jpg',\n",
    "'i005_edit.jpg',\n",
    "'i006_edit.jpg',\n",
    "'i007_edit.jpg',\n",
    "'i009_edit.jpg',\n",
    "'i011_edit.jpg',\n",
    "'i013_edit.jpg',\n",
    "'i016_edit.jpg',\n",
    "'i017.jpg',\n",
    "'i019_edit.jpg',\n",
    "'i021.jpg',\n",
    "'i023_edit.jpg',\n",
    "'i024_edit.jpg',\n",
    "'i027_edit.jpg',\n",
    "'i028_edit.jpg',\n",
    "'i030_edit.jpg',\n",
    "'i031.jpg',\n",
    "'i033.jpg',\n",
    "'i035_edit.jpg',\n",
    "'i037.jpg',\n",
    "'i039_edit.jpg',\n",
    "'i041_edit.jpg',\n",
    "'i044_edit.jpg',\n",
    "'i047.jpg',\n",
    "'i049_edit.jpg',\n",
    "'i051.jpg',\n",
    "'i055_edit.jpg',\n",
    "'i057.jpg',\n",
    "'i059.jpg',\n",
    "'i061_edit.jpg',\n",
    "'i063_edit.jpg',\n",
    "'i065_edit.jpg',\n",
    "'i068_edit.jpg',\n",
    "'i070_edit.jpg',\n",
    "'i071_edit.jpg',\n",
    "'i073_edit.jpg',\n",
    "'i075_edit.jpg',\n",
    "'i076_edit.jpg',\n",
    "'i079_edit.jpg',\n",
    "'i082_edit.jpg',\n",
    "'i084_edit.jpg',\n",
    "'i086_edit.jpg',\n",
    "'i087_edit.jpg',\n",
    "'i089-i090_combo.jpg',\n",
    "'i093_edit.jpg',\n",
    "'i095_edit.jpg',\n",
    "'i096_edit.jpg',\n",
    "'i098_edit.jpg',\n",
    "'i100_edit.jpg',\n",
    "'i101_edit.jpg',\n",
    "'i102_edit.jpg',\n",
    "'i103_edit.jpg',\n",
    "'i107_edit.jpg',\n",
    "'i109-edit.jpg',\n",
    "'i111_edit.jpg',\n",
    "'i112_edit.jpg',\n",
    "'i114_edit.jpg',\n",
    "'i116_edit.jpg',\n",
    "'i118_edit.jpg',\n",
    "'i121-i122_combo.jpg',\n",
    "'i123_edit.jpg',\n",
    "'i124_edit.jpg',\n",
    "'i126_edit.jpg',\n",
    "'i127-i128_combo.jpg',\n",
    "'i130_edit.jpg',\n",
    "'i132_edit.jpg',\n",
    "'i135_edit.jpg',\n",
    "'i136_edit.jpg',\n",
    "'i138_edit.jpg',\n",
    "'i140_edit.jpg',\n",
    "'i142_edit.jpg',\n",
    "'i143_edit.jpg',\n",
    "'i144_edit.jpg',\n",
    "'i148_edit.jpg',\n",
    "'i150_edit.jpg',\n",
    "'i152_edit.jpg',\n",
    "'i154_edit.jpg',\n",
    "'i155_edit.jpg',\n",
    "'i158_edit.jpg',\n",
    "'i160_edit.jpg',\n",
    "'i162_edit.jpg',\n",
    "'i163_edit.jpg',\n",
    "'i165_edit.jpg',\n",
    "'i167_edit.jpg',\n",
    "'i168_edit.jpg',\n",
    "'i169_edit.jpg',\n",
    "'i170_edit.jpg',\n",
    "'i172_edit.jpg',\n",
    "'i174_edit.jpg',\n",
    "'i178_edit.jpg',\n",
    "'i180_edit.jpg',\n",
    "'i182_edit.jpg',\n",
    "'i184_edit.jpg',\n",
    "'i186_edit.jpg',\n",
    "'i190_edit.jpg',\n",
    "'i192_edit.jpg',\n",
    "'i194_edit.jpg',\n",
    "'i195-196_combo.jpg',\n",
    "'i198_edit.jpg',\n",
    "'i202_edit.jpg',\n",
    "'i204_edit.jpg',\n",
    "'i206_edit.jpg',\n",
    "'i208_edit.jpg',\n",
    "'i210_edit.jpg',\n",
    "'i212_edit.jpg',\n",
    "'i214_edit.jpg',\n",
    "'i218_edit.jpg',\n",
    "'i220_edit.jpg',\n",
    "'i221_edit.jpg',\n",
    "'i222_edit.jpg',\n",
    "'i224_edit.jpg',\n",
    "'i226_edit.jpg',\n",
    "'i228_edit.jpg',\n",
    "'i230_edit.jpg',\n",
    "'i231_edit.jpg',\n",
    "'i234_edit.jpg',\n",
    "'i236_edit.jpg',\n",
    "'i238_edit.jpg',\n",
    "'i240_edit.jpg',\n",
    "'i242_edit.jpg',\n",
    "'i244_edit.jpg',\n",
    "'i246_edit.jpg',\n",
    "'i249_edit.jpg',\n",
    "'i251_edit.jpg',\n",
    "'i252_edit.jpg',\n",
    "'i254_edit.jpg',\n",
    "'i256_edit.jpg',\n",
    "'i259_edit.jpg',\n",
    "'i262_edit.jpg',\n",
    "'i264_edit.jpg',\n",
    "'i266_edit.jpg',\n",
    "'i270_edit.jpg',\n",
    "'i272_edit.jpg',\n",
    "'i274_edit.jpg',\n",
    "'i276_edit.jpg',\n",
    "'i278_edit.jpg',\n",
    "'i282_edit.jpg',\n",
    "'i284_edit.jpg',\n",
    "'i286_edit.jpg',\n",
    "'i290_edit.jpg',\n",
    "'i292_edit.jpg',\n",
    "'i294_edit.jpg',\n",
    "'i296_edit.jpg',\n",
    "'i299_edit.jpg',\n",
    "'i301_edit.jpg',\n",
    "'i304_edit.jpg']"
   ]
  },
  {
   "cell_type": "code",
   "execution_count": 1,
   "metadata": {},
   "outputs": [],
   "source": [
    "tpgoo_list = ['cover.jpg',\n",
    "'endpaper.jpg',\n",
    "'i001.jpg',\n",
    "'i003.jpg',\n",
    "'i006.jpg',\n",
    "'i007.jpg',\n",
    "'i008.jpg',\n",
    "'i009.jpg',\n",
    "'i010.jpg',\n",
    "'i013a.jpg',\n",
    "'i013b.jpg',\n",
    "'i014.jpg',\n",
    "'i015a.jpg',\n",
    "'i015b.jpg',\n",
    "'i018.jpg',\n",
    "'i019a.jpg',\n",
    "'i019b.jpg',\n",
    "'i025.jpg',\n",
    "'i029.jpg',\n",
    "'i030.jpg',\n",
    "'i031a.jpg',\n",
    "'i031b.jpg',\n",
    "'i035.jpg',\n",
    "'i040.jpg',\n",
    "'i041.jpg',\n",
    "'i042.jpg',\n",
    "'i043a.jpg',\n",
    "'i043b.jpg',\n",
    "'i049.jpg',\n",
    "'i050.jpg',\n",
    "'i051a.jpg',\n",
    "'i051b.jpg',\n",
    "'i054.jpg',\n",
    "'i063a.jpg',\n",
    "'i063b.jpg',\n",
    "'i067.jpg',\n",
    "'i073.jpg',\n",
    "'i077.jpg',\n",
    "'i078.jpg',\n",
    "'i079a.jpg',\n",
    "'i079b.jpg',\n",
    "'i082.jpg',\n",
    "'i087a.jpg',\n",
    "'i087b.jpg',\n",
    "'i091.jpg',\n",
    "'i093.jpg',\n",
    "'i094.jpg',\n",
    "'i095a.jpg',\n",
    "'i095b.jpg',\n",
    "'i103.jpg',\n",
    "'i107.jpg',\n",
    "'i109.jpg',\n",
    "'i110.jpg',\n",
    "'i111a.jpg',\n",
    "'i111b.jpg',\n",
    "'i114.jpg',\n",
    "'i119.jpg',\n",
    "'i121.jpg',\n",
    "'i122.jpg',\n",
    "'i123a.jpg',\n",
    "'i123b.jpg',\n",
    "'i127.jpg',\n",
    "'i134.jpg',\n",
    "'i139.jpg',\n",
    "'i141.jpg',\n",
    "'i142.jpg',\n",
    "'i143a.jpg',\n",
    "'i143b.jpg',\n",
    "'i146.jpg',\n",
    "'i149.jpg',\n",
    "'i150.jpg',\n",
    "'i151.jpg',\n",
    "'i155a.jpg',\n",
    "'i155b.jpg',\n",
    "'i156-157.jpg',\n",
    "'i162.jpg',\n",
    "'i166-167.jpg',\n",
    "'i171.jpg',\n",
    "'i173.jpg',\n",
    "'i174.jpg',\n",
    "'i175a.jpg',\n",
    "'i175b.jpg',\n",
    "'i178-179.jpg',\n",
    "'i184.jpg',\n",
    "'i185.jpg',\n",
    "'i186.jpg',\n",
    "'i187a.jpg',\n",
    "'i187b.jpg',\n",
    "'i189.jpg',\n",
    "'i195.jpg',\n",
    "'i197.jpg',\n",
    "'i198.jpg',\n",
    "'i199a.jpg',\n",
    "'i199b.jpg',\n",
    "'i201.jpg',\n",
    "'i207.jpg',\n",
    "'i209.jpg',\n",
    "'i210.jpg',\n",
    "'i211a.jpg',\n",
    "'i211b.jpg',\n",
    "'i214.jpg',\n",
    "'i217.jpg',\n",
    "'i218.jpg',\n",
    "'i219a.jpg',\n",
    "'i219b.jpg',\n",
    "'i222-223.jpg',\n",
    "'i230.jpg',\n",
    "'i231a.jpg',\n",
    "'i231b.jpg',\n",
    "'i232-233.jpg',\n",
    "'i238.jpg',\n",
    "'i239.jpg',\n",
    "'i243.jpg',\n",
    "'i246-247.jpg',\n",
    "'i249.jpg',\n",
    "'i250.jpg',\n",
    "'i251a.jpg',\n",
    "'i251b.jpg',\n",
    "'i255.jpg',\n",
    "'i261.jpg',\n",
    "'i262.jpg',\n",
    "'i263a.jpg',\n",
    "'i263b.jpg',\n",
    "'i271a.jpg',\n",
    "'i271b.jpg',\n",
    "'i277.jpg',\n",
    "'i278-279.jpg',\n",
    "'i283a.jpg',\n",
    "'i283b.jpg',\n",
    "'i291.jpg',\n",
    "'i293.jpg',\n",
    "'i294.jpg',\n",
    "'i295a.jpg',\n",
    "'i295b.jpg',\n",
    "'i298.jpg',\n",
    "'i299a.jpg',\n",
    "'i299b.jpg',\n",
    "'i307a.jpg',\n",
    "'i307b.jpg',\n",
    "'i311.jpg',\n",
    "'i314-315.jpg',\n",
    "'i319a.jpg',\n",
    "'i319b.jpg',\n",
    "'i321.jpg',\n",
    "'i327.jpg',\n",
    "'i329.jpg',\n",
    "'i330.jpg',\n",
    "'i331a.jpg',\n",
    "'i331b.jpg',\n",
    "'i333.jpg',\n",
    "'i335.jpg',\n",
    "'i337.jpg']"
   ]
  },
  {
   "cell_type": "code",
   "execution_count": 5,
   "metadata": {},
   "outputs": [],
   "source": [
    "def list_for_char(character):\n",
    "    list = [];\n",
    "    for i in range(len(categorization_of_pics_tlpoo)):\n",
    "        if(character in categorization_of_pics_tlpoo[i]):\n",
    "            list=list+[tlpoo_list[i]]\n",
    "    return list"
   ]
  },
  {
   "cell_type": "code",
   "execution_count": 89,
   "metadata": {},
   "outputs": [
    {
     "name": "stdout",
     "output_type": "stream",
     "text": [
      "{'garee', 'zella', 's', 'pinkerbloo', 'buzzub', 'd', 'choggenmugger', 'nomes', 'giant', 'woz', 'bb', 'kaliko', 'cor', 'betsy', 'r', 'nikobob', 'ozma', 'warrior', 'inga', 'peopleofregos', 'trot', 'glinda', 'kk', 'seafairies', 'gos'}\n"
     ]
    }
   ],
   "source": [
    "print(set([item for sublist in categorization_of_pics_rio for item in sublist]))\n"
   ]
  },
  {
   "cell_type": "code",
   "execution_count": 115,
   "metadata": {},
   "outputs": [
    {
     "data": {
      "text/plain": [
       "['image60.jpg', 'image72.jpg', 'image79.jpg', 'image80.jpg']"
      ]
     },
     "execution_count": 115,
     "metadata": {},
     "output_type": "execute_result"
    }
   ],
   "source": [
    "list_for_char('gos')\n"
   ]
  },
  {
   "cell_type": "code",
   "execution_count": 100,
   "metadata": {},
   "outputs": [],
   "source": [
    "categorization_of_pics_ooz = [['o','d'],[],[],['ht'],['o'],['tt'],['d','b'],['s','b'],[],['d'],['d'],['d'],['d'],['b'],['d','b'],['d','b'],['d','b'],['d','b','wheeler'],['wheeler'],['d','b'],['d','b'],['d','b','tt'],['d','b','tt'],['d','b','tt'],['d','b','tt'],['b'],['d','b','tt'],['d','b'],[],['d','b','tt'],['tt','wheeler','d'],['d','b','tt','wheeler'],['d','b','tt','wheeler'],['d','b','tt','nanda'],['b','nanda'],['lang'],['d'],['b'],['cl','ht','o','s','sh','tw','army'],['d'],['d','cl','ht','o','s','sh','tw','army'],['lang','o','tw','s'],['s'],['lang','o','d'],['ht'],['ht','nanda'],['b','d'],['ht','cl','d','b','tw','s'],['lang','o','d','tw','s','b','tt'],['tw','d','s'],['s','d'],['d','b'],['ht','cl','d','o','s','sh','tw','tt','army'],['ig','ht','cl','d','o'],['ig','sh','army'],['army','s'],['nomes'],['d','s','o','tw'],['kingofev'],['nomeking','d','o'],['nomeking','d','o','s','tt','tw','army','b','nomes'],['o','s'],['o'],['o'],['b'],['d'],['nomeking','nomes'],['d','nomeking'],['d','royalev'],['d','royalev'],['b','nomeking'],['s'],['nomeking'],['nomeking','b'],['royalev','b'],['royalev'],['nomeking','s'],['nomeking','d','b','s'],['nomeking'],['nomes'],['tw'],['royalev'],['b'],['jinjur'],['o','army'],['ht'],['glinda','dorothy'],['d','b','tt','s','tw','cl','ht','o'],['d','unclehenry']]"
   ]
  },
  {
   "cell_type": "code",
   "execution_count": 84,
   "metadata": {},
   "outputs": [],
   "source": [
    "ooo_list = ['cover.jpg',\n",
    "'005.jpg',\n",
    "'i001.jpg',\n",
    "'i003.jpg',\n",
    "'i004.jpg',\n",
    "'i006.jpg',\n",
    "'i007.jpg',\n",
    "'i010.jpg',\n",
    "'i011.jpg',\n",
    "'i012.jpg',\n",
    "'i017.jpg',\n",
    "'i021.jpg',\n",
    "'i023.jpg',\n",
    "'i029.jpg',\n",
    "'i033.jpg',\n",
    "'i036.jpg',\n",
    "'i041.jpg',\n",
    "'i043.jpg',\n",
    "'i045.jpg',\n",
    "'i048.jpg',\n",
    "'i051.jpg',\n",
    "'i053.jpg',\n",
    "'i057.jpg',\n",
    "'i059.jpg',\n",
    "'i061.jpg',\n",
    "'i063.jpg',\n",
    "'i066.jpg',\n",
    "'i069.jpg',\n",
    "'i073.jpg',\n",
    "'i075.jpg',\n",
    "'i079.jpg',\n",
    "'i081.jpg',\n",
    "'i085.jpg',\n",
    "'i087.jpg',\n",
    "'i089.jpg',\n",
    "'i093.jpg',\n",
    "'i097.jpg',\n",
    "'i100.jpg',\n",
    "'i105.jpg',\n",
    "'i107.jpg',\n",
    "'i109.jpg',\n",
    "'i111.jpg',\n",
    "'i113.jpg',\n",
    "'i116.jpg',\n",
    "'i119.jpg',\n",
    "'i121.jpg',\n",
    "'i125.jpg',\n",
    "'i127.jpg',\n",
    "'i133.jpg',\n",
    "'i136.jpg',\n",
    "'i138.jpg',\n",
    "'i143.jpg',\n",
    "'i145.jpg',\n",
    "'i149.jpg',\n",
    "'i153.jpg',\n",
    "'i155.jpg',\n",
    "'i160.jpg',\n",
    "'i162.jpg',\n",
    "'i165.jpg',\n",
    "'i167.jpg',\n",
    "'i171.jpg',\n",
    "'i174.jpg',\n",
    "'i178.jpg',\n",
    "'i181.jpg',\n",
    "'i187.jpg',\n",
    "'i190.jpg',\n",
    "'i193.jpg',\n",
    "'i197.jpg',\n",
    "'i202.jpg',\n",
    "'i204.jpg',\n",
    "'i209.jpg',\n",
    "'i211.jpg',\n",
    "'i212.jpg',\n",
    "'i215.jpg',\n",
    "'i221.jpg',\n",
    "'i225.jpg',\n",
    "'i231.jpg',\n",
    "'i239.jpg',\n",
    "'i241.jpg',\n",
    "'i244.jpg',\n",
    "'i249.jpg',\n",
    "'i251.jpg',\n",
    "'i253.jpg',\n",
    "'i257.jpg',\n",
    "'i259.jpg',\n",
    "'i262.jpg',\n",
    "'i266.jpg',\n",
    "'i269.jpg',\n",
    "'i270.jpg']"
   ]
  },
  {
   "cell_type": "code",
   "execution_count": 113,
   "metadata": {},
   "outputs": [
    {
     "data": {
      "text/plain": [
       "['i087.jpg', 'i089.jpg', 'i121.jpg']"
      ]
     },
     "execution_count": 113,
     "metadata": {},
     "output_type": "execute_result"
    }
   ],
   "source": [
    "list_for_char('nanda')"
   ]
  },
  {
   "cell_type": "code",
   "execution_count": 134,
   "metadata": {},
   "outputs": [],
   "source": [
    "\n",
    "\n",
    "categorization_of_pics_datwio = [['d','woz','e','p'],['d','j','z'],[],['woz','mangaboo'],[],['z','gargoyle'],['p'],['ht','j','z'],['tw'],['d','z'],['d'],['j','d','z','woz'],['j','z','woz','d','e'],['d','ozma'],['sh'],['d','ozma','woz','tw','s','jp','e','z','j'],['ozma'],['d','e','tw'],['ozma','p'],['d','woz'],['d','z','j'],['d','z','e'],['woz'],['woz','j','d','z'],['army'],[],['e'],['wb'],['e','wb','tw'],['j'],[],['d','woz','z','j'],['d','e'],['d'],['gargoyle'],['j','d'],['d','e','woz','z'],['j','z','woz'],['s','tw'],['j','cl','ht'],['woz'],['tw','p'],['mangaboo','d','woz'],['mangaboo','d','woz'],['woz'],['e'],['j','z','d','e','woz'],['d','z','woz','j','e'],['braidedman','d'],['d','woz','gargoyle'],['d','woz'],['e'],['d','woz'],['s','gargoyle'],['jp'],['d'],['d','z','woz','dragonette'],['j'],[],[],['z'],['z','d','woz'],['j','sh','e'],['j'],['j'],['d','woz','z'],['woz','gargoyle'],['woz','z','d','e','j'],['woz','p'],['woz','p','ozma','e','tw','s','d'],['b']]\n",
    "\n",
    "\n",
    "\n",
    "\n",
    "\n"
   ]
  },
  {
   "cell_type": "code",
   "execution_count": 144,
   "metadata": {},
   "outputs": [
    {
     "data": {
      "text/plain": [
       "['14752747532_ecf3134192_o.jpg']"
      ]
     },
     "execution_count": 144,
     "metadata": {},
     "output_type": "execute_result"
    }
   ],
   "source": [
    "list_for_char('dragonette')"
   ]
  },
  {
   "cell_type": "code",
   "execution_count": 7,
   "metadata": {},
   "outputs": [
    {
     "name": "stdout",
     "output_type": "stream",
     "text": [
      "112\n"
     ]
    }
   ],
   "source": [
    "tsoo_list = ['cover.jpg',\n",
    "'cover2.jpg',\n",
    "'color_1.png',\n",
    "'color_10.png',\n",
    "'color_11.png',\n",
    "'color_12.png',\n",
    "'color_2.png',\n",
    "'color_3.png',\n",
    "'color_4.png',\n",
    "'color_5.png',\n",
    "'color_6.png',\n",
    "'color_7.png',\n",
    "'color_8.png',\n",
    "'color_9.png',\n",
    "'page_1.png',\n",
    "'page_3.png',\n",
    "'page_4.png',\n",
    "'page_5.png',\n",
    "'page_6.png',\n",
    "'page_7.png',\n",
    "'page_9.png',\n",
    "'page_10-11_sm.png',\n",
    "'page_12.png',\n",
    "'page_13.png',\n",
    "'page_18-19_sm.png',\n",
    "'page_22.png',\n",
    "'page_27.png',\n",
    "'page_32.png',\n",
    "'page_33.png',\n",
    "'page_39.png',\n",
    "'page_43.png',\n",
    "'page_51.png',\n",
    "'page_52.png',\n",
    "'page_56-57.png',\n",
    "'page_59.png',\n",
    "'page_61.png',\n",
    "'page_62.png',\n",
    "'page_67.png',\n",
    "'page_71.png',\n",
    "'page_77.png',\n",
    "'page_81.png',\n",
    "'page_82.png',\n",
    "'page_88.png',\n",
    "'page_89.png',\n",
    "'page_96-97.png',\n",
    "'page_99.png',\n",
    "'page_101.png',\n",
    "'page_105.png',\n",
    "'page_109.png',\n",
    "'page_113.png',\n",
    "'page_116-117.png',\n",
    "'page_119.png',\n",
    "'page_123.png',\n",
    "'page_127.png',\n",
    "'page_130.png',\n",
    "'page_131.png',\n",
    "'page_137.png',\n",
    "'page_138.png',\n",
    "'page_143.png',\n",
    "'page_147.png',\n",
    "'page_149.png',\n",
    "'page_150.png',\n",
    "'page_151.png',\n",
    "'page_155.png',\n",
    "'page_159.png',\n",
    "'page_163.png',\n",
    "'page_166.png',\n",
    "'page_167.png',\n",
    "'page_169.png',\n",
    "'page_173.png',\n",
    "'page_175.png',\n",
    "'page_176-177.png',\n",
    "'page_178.png',\n",
    "'page_183.png',\n",
    "'page_187.png',\n",
    "'page_191.png',\n",
    "'page_194.png',\n",
    "'page_195.png',\n",
    "'page_198.png',\n",
    "'page_201.png',\n",
    "'page_203.png',\n",
    "'page_204.png',\n",
    "'page_207.png',\n",
    "'page_209.png',\n",
    "'page_212.png',\n",
    "'page_213.png',\n",
    "'page_215.png',\n",
    "'page_219.png',\n",
    "'page_220.png',\n",
    "'page_221.png',\n",
    "'page_225.png',\n",
    "'page_229.png',\n",
    "'page_230.png',\n",
    "'page_233.png',\n",
    "'page_237.png',\n",
    "'page_239.png',\n",
    "'page_241.png',\n",
    "'page_245.png',\n",
    "'page_250-251.png',\n",
    "'page_255.png',\n",
    "'page_259.png',\n",
    "'page_261.png',\n",
    "'page_263.png',\n",
    "'page_264.png',\n",
    "'page_269.png',\n",
    "'page_272.png',\n",
    "'page_273.png',\n",
    "'page_277.png',\n",
    "'page_278.png',\n",
    "'page_284.png',\n",
    "'page_285.png',\n",
    "'page_288.png']\n",
    "print(len(tsoo_list))"
   ]
  },
  {
   "cell_type": "code",
   "execution_count": 149,
   "metadata": {},
   "outputs": [],
   "source": [
    "\n",
    "categorization_of_pics_trto = [['sm'],['t','d','bb','sm'],['fox','d'],['fox'],['poly'],['jp'],['scoodler'],[],['woz'],[],[],[],['t','sm'],['sm'],['b'],['tt','bb'],['donkey'],['bb','t'],['sm'],['t'],['jd'],['d','poly'],['d','poly','t','sm'],['t','d','bb','sm','poly'],['jp'],['cl'],['cl','t'],['woz','s','tw','t','bb','d','jp'],['glinda'],['queenofmerryland','candyman'],['queenzixi'],['candyman'],['ht','cl','t','rubberbear','donkey','fox','sh'],['santa','fox','donkey','bb','kingbud','princessfluff'],['bb'],['d'],['fox'],['fox'],['d','bb','t'],['poly'],['sm','bb'],[],['sm','t','d','bb','poly'],['sm','t','d','bb','poly'],['d','t'],['poly'],['d','cl'],['sm'],['sm'],['piggies'],['t'],['donkey','d','sm','bb'],['t','scoodler'],['poly','tw','d','t','sm','bb'],['ht'],['fieldmice','ozma','santa','s','tw','jp','woz'],['woz','glinda','s','tw','cl','tiktok','jp'],['sm','bb','d','t'],['sm','bb','d','poly','t','scoodler'],['scoodler'],['sm','bb','d','poly','t'],['tiktok','b'],['sm'],['ozma','d'],['d','t'],['t','bb','d','sm'],['poly'],['sm'],['sm','d','bb','poly','t'],['s'],['braidedman'],['ozma','bearrug'],['d'],['fox'],['donkey','d','sm','bb'],['poly','scoodler'],['johnnydoit'],['tiktok','b'],['santa','knook','ryl'],['poly'],['bb','d','sm','t'],['sm'],['musicker','bb'],['t','poly','sm','bb','d'],['tw'],['ht'],['gotg','tw','t','d','bb','poly','cl'],['ozma'],['ozma','poly'],['johndough','chickthecherub','rubberbear'],['sm'],['sm'],['poly','d'],['musicker'],['scoodler','t'],['jp'],['ht'],['bearrug','dyna'],['jp'],['johndough']]\n"
   ]
  },
  {
   "cell_type": "code",
   "execution_count": 6,
   "metadata": {},
   "outputs": [
    {
     "name": "stdout",
     "output_type": "stream",
     "text": [
      "109\n",
      "109\n"
     ]
    }
   ],
   "source": [
    "print(len(categorization_of_pics_tecoo))\n",
    "print(len(tecoo_list))\n"
   ]
  },
  {
   "cell_type": "code",
   "execution_count": 3,
   "metadata": {},
   "outputs": [
    {
     "name": "stdout",
     "output_type": "stream",
     "text": [
      "{'s', 'shaggy', 'peacock', 'fakegirlarmy', 'tiktok', 'jp', 'woz', 'betsy', 'kingbear', 'bb', 'unhappyferryman', 'fm', 'thists', 'hank', 'ojo', 'pb', 'bearking', 't', 'yips', 'ozma', 'woozy', 'czarover', 'cl', 'shaggybrother', 'ugu', 'tw', 'd', 'bears', 'ccc', 'giantsofherku', 'winkies', 'glinda', 'swans', 'auntem', 'trot', 'pg', 'sh'}\n"
     ]
    }
   ],
   "source": [
    "print(set([item for sublist in categorization_of_pics_tlpoo for item in sublist]))\n"
   ]
  },
  {
   "cell_type": "code",
   "execution_count": 41,
   "metadata": {},
   "outputs": [
    {
     "data": {
      "text/plain": [
       "['p008.png',\n",
       " 'p092.png',\n",
       " 'p155.png',\n",
       " 'p158.png',\n",
       " 'p171.png',\n",
       " 'p187.png',\n",
       " 'p201.png',\n",
       " 'p225.png',\n",
       " 'p239.png']"
      ]
     },
     "execution_count": 41,
     "metadata": {},
     "output_type": "execute_result"
    }
   ],
   "source": [
    "list_for_char('nomeking')"
   ]
  },
  {
   "cell_type": "code",
   "execution_count": 46,
   "metadata": {},
   "outputs": [],
   "source": [
    "categorization_of_pics_tecoo = [['ozma','s','tw','piggies'],[],['tw','s'],['sawhorse','woz','d','ombyamby'],['mice','piggies'],['s','d','auntem','tw','ombyamby','unclehenry'],['ozma','sawhorse'],['bunny'],['bunny'],['bunny','d'],['woz'],['bunny'],['nomes'],['nomeking'],['nomeking'],['nomeking'],['unclehenry','eureka'],['d'],['unclehenry','auntem'],['munchkin','eureka'],['d','ozma'],['ozma'],['nomeking','nomes'],['nomeking','guph'],['guph'],['guph'],['d'],['auntem','unclehenry'],['ozma','ht','cl'],['d'],['guph'],['guph','whimsies'],['whimsies'],['nomes'],['d','auntem','unclehenry'],['unclehenry'],['cl','auntem','unclehenry'],['cl'],['guph'],['growleywog'],['guph'],['auntem'],['wogglebug','unclehenry','auntem','d','woz','sawhorse','ombyamby','sm'],['b'],['sm','sawhorse','d','unclehenry','auntem','woz','ombyamby'],['d','cuttenclips'],['sm','cuttenclips'],['ozma','sawhorse'],['guph'],['aligator','phanfasms','guph'],['guph','phanfasms'],['guph'],['sawhorse'],['kangaroo'],['d','woz','fuddles'],['unclehenry'],['nomeking','guph'],['nomeking'],['sawhorse','d','woz','unclehenry','ombyamby'],['sawhorse'],['auntem'],['auntem','ombyamby','woz','d','unclehenry','sm'],['zebraandcrab'],['d','t','utensils','b'],['d','t','utensils','b'],['t','utensils'],['d','t','b','utensils'],['utensils'],['d'],['buns'],['buns'],['ozma'],['d'],['bunny'],['bunny'],['d','bunny'],['bunny'],['bunny'],['d','bunny'],['bunny'],['d','b','t'],['sawhorse','woz','d','unclehenry'],['woz','rigmarole'],['d','woz','unclehenry','auntem','ombyamby'],['sawhorse','d','woz','unclehenry','ombyamby','sm'],['sawhorse','d','woz','unclehenry','ombyamby','sm'],['flutterbudget'],['ombyamby'],['tw'],['tw'],['s'],['s','tw','d','sawhorse','woz','ombyamby','unclehenry','auntem','sm'],['sawhorse','woz','d','unclehenry','auntem','jp','tw','s','ombyamby','sm'],['ozma'],['d','ozma','tw','jp','s','sawhorse','woz','wogglebug'],['s'],['d'],['jp'],['growleywog','guph'],['nomes','nomeking'],['tiktok','tw','jp','s'],['phanfasms','ozma','s','tw','jp','d','woz','unclehenry'],['nomeking'],['ozma'],['ozma'],['glinda','ozma','d'],['glinda'],[],['ozma','d','woz']]\n",
    "\n",
    "\n"
   ]
  },
  {
   "cell_type": "code",
   "execution_count": 33,
   "metadata": {},
   "outputs": [],
   "source": [
    "categorization_of_pics_tpgoo = [['pg'],['s','cl','tw','ht'],['woozy'],['pg'],['d'],[],['s'],['s','tw','d','ozma','wb'],['sm'],[],[],['pg'],[],['ojo'],['un'],[],['un','ojo'],['cm'],['marg','pg'],['ojo'],[],['pg'],['ojo'],['glasscat'],['cm'],['pg'],[],['glasscat'],['pg'],['glasscat'],[],['pg'],['phono'],[],['pg'],['pg','ojo'],['pg','ojo','glasscat'],['pg'],['glasscat'],[],['pg'],['phono'],[],['foolishowl','wisedonkey'],['wisedonkey'],['wisedonkey'],['foolishowl'],[],['pg','ojo','glasscat'],['ojo','pg','glasscat','woozy'],['woozy'],['pg'],['woozy'],[],['glasscat'],['ojo','envelopingleaves'],['ojo','envelopingleaves','sm'],['woozy'],['ojo','envelopingleaves'],[],['sm'],['pg'],['pg','phono'],['pg','ojo'],['glasscat'],['sm'],[],['ojo'],['pg'],['woozy'],['chiss'],['pg','ojo','chiss'],[],['sm','pg','ojo'],['sm','ojo','pg','woozy','glasscat'],['sh','s'],['s','pg'],['ojo','pg'],['woozy','sh'],['s'],[],['ojo','pg'],['ojo','pg','woozy','s'],['ojo'],['aoo'],['pg'],[],['gotg'],['ojo'],['ojo','TollydiggleTheJailer'],['ojo'],['ojo'],[],['d','t'],['pg'],['d'],['d','woozy'],['d','t'],[],['jinjur','s'],['ojo'],['glinda'],['jp','sh'],[],['s','d','ozma'],['ozma','pg','ojo','cl','ht'],['s','ojo'],[],['jp'],['jp'],['tottenhots'],['tottenhots','d'],['tottenhots','s'],['s','pg'],['d','s','pg','ojo'],['d','t'],[],['s'],['d','pg','ojo','s','yoop'],['d','pg','ojo','s'],['hoppers'],[],['hoppers'],[],['horners'],['pg','s'],['horners'],[],['s'],['ojo','s','d','pg'],['ojo','horners'],['horners','pg'],[],['s','pg','horners','ojo','d'],['ojo'],[],['pg'],[],['s','pg','d','ojo'],['t','d','pg','s','ojo'],['t','d','pg','s','ojo'],[],['tw'],['tw','ojo'],['ozma'],['s','ojo','d'],['tw','t'],[],['woz'],['ht','cl'],['woz'],['ojo','un']]\n"
   ]
  },
  {
   "cell_type": "code",
   "execution_count": 6,
   "metadata": {},
   "outputs": [],
   "source": [
    "categorization_of_pics_ttoo = [['tt','bb','hank'],[],['tt'],['tt','bb','hank'],['nomes'],['ozma'],['nomes','nomeking','hank'],['tt'],['tt','hank'],['queenann'],['queenann','files'],[],['queenann'],['files','ooo','queenann'],['queenann'],['glinda'],['files'],['bb','hank'],['roses'],['gardener'],['sm'],['roses'],['sm','bb','roses','ozga'],['ozga','bb'],['ozga','roses'],['polychrome'],['sm'],['files','bb','sm','tt','hank','ozga'],['sm'],['files','ozga','bb','polychrome'],['nomeking'],['tt','ooo'],['kaliko'],['tt'],['tt'],['queenann','tubekins'],['tt','files','hank','ozga','bb','polychrome','sm','queenann'],['hank'],['tt','ttthc'],['bb','queenoflight'],['bb'],['lightfairies'],['bb'],['kaq'],['polychrome'],['longear'],['nomeking','kaliko'],['nomeking'],['quox'],['quox','nomes','bb','hank','ooo','tt','queenann','files','sm'],['tt','nomes'],['tt'],['sm'],['tt','nomeking','kaliko'],['sm','polychrom','ozga','files'],['tt','nomes'],['sm','nomes'],['nomeking','polychrome'],['polychrome'],['polychrome','quox'],['nomeking'],['tt'],['bb','hank'],['kaliko','guph'],['kaliko','tt'],['quox'],['tt','kaliko','bb'],['queenann'],['nomeking'],['polychrome'],['bb','bro'],['nomeking'],['polychrome','queenann','polychrome','tt','sm','bb'],['polychrome'],['sm'],['guph'],['d'],['t'],['sh','hank'],['sh','hank','bb','ozma','d'],['nomes'],['nomes','hank','bb','sm','tt','polychrome','ozga'],['nomes','hank','bb','sm','tt','polychrome','ozga']]\n",
    "\n",
    "\n",
    "\n"
   ]
  },
  {
   "cell_type": "code",
   "execution_count": 7,
   "metadata": {},
   "outputs": [
    {
     "data": {
      "text/plain": [
       "83"
      ]
     },
     "execution_count": 7,
     "metadata": {},
     "output_type": "execute_result"
    }
   ],
   "source": [
    "len(categorization_of_pics_ttoo)"
   ]
  },
  {
   "cell_type": "code",
   "execution_count": 22,
   "metadata": {},
   "outputs": [
    {
     "data": {
      "text/plain": [
       "112"
      ]
     },
     "execution_count": 22,
     "metadata": {},
     "output_type": "execute_result"
    }
   ],
   "source": [
    "categorization_of_pics_tsoo = [['s','cb'],['s'],['cb','trot'],['cb','s','trot','bub'],['s','trot','cb','bub'],['cb','s','bub','trot'],['cb','trot','orc'],['cb','trot'],['orc'],['pon','gloria','guard'],['s'],['s','cb'],\n",
    "                               ['s','orc','krewl'],['blinkie','orc'],['s'],['s'],['woz'],[],[],['s'],['s'],['jp','pon','woz','d','woozy','bub','tiktok','ozma','glinda','s','tw'],['seafairies'],\n",
    "                               ['cb'],['cb','trot'],['seafairies'],['trot'],['orc'],['orc'],['cb'],['orc'],['cb'],['cb','orc'],['cb','trot'],['cb','trot'],\n",
    "                               ['trot'],['pessim'],['trot','orc'],['pessim','frog'],['orc'],['trot','cb'],['cb','trot'],['trot','cb'],['cb','trot'],['bumpyman','cb','trot'],['bumpyman'],\n",
    "                               ['bub'],['bumpyman','bub','trot','cb'],['bub','bumpyman'],['orc','bub'],['birds','bub','trot','cb'],['birds','trot'],['trot'],['thewoman'],['cb','trot'],\n",
    "                               ['pon'],['pon'],['guard','cb'],['gg'],['gg','krewl'],['pon'],['gloria'],['trot','gloria'],['krewl','gg','blinkie'],['cb','blinkie'],\n",
    "                               ['trot'],['pon'],['glinda'],['s','d','woozy'],['s','glinda'],['s'],['s'],['bub'],['trot'],['blinkie','witches'],['pon','gloria'],['pon','trot'],['s'],['s','blinkie'],\n",
    "                               ['cb'],['s'],['pon','cb','trot','s','gloria'],['s'],['pon'],['s'],[],['orc'],['bub'],['s'],['s'],['s','krewl'],['gg'],['cb'],\n",
    "                               ['blinkie'],['pon','gloria'],['s','blinkie'],['gloria'],['krewl'],['orc','s','cb','trot','bub'],['ozma'],['ozma','d'],['d'],['bb'],['cb','trot','bub','s'],['s'],['bub'],\n",
    "                               ['s','cb'],['s','cb','bub','trot'],['woz'],['hank','cl','woozy','sawhorse','ht','piggies','toto','eureka'],['wogglebug','tiktok','tw','jp','sm','smbrother'],['s','glinda','bb','d','trot','cb','bub']]\n",
    "len(categorization_of_pics_tsoo)\n",
    "\n",
    "\n",
    "\n",
    "\n"
   ]
  },
  {
   "cell_type": "code",
   "execution_count": 64,
   "metadata": {},
   "outputs": [
    {
     "data": {
      "text/plain": [
       "113"
      ]
     },
     "execution_count": 64,
     "metadata": {},
     "output_type": "execute_result"
    }
   ],
   "source": [
    "rio_list = ['cover.jpg',\n",
    "'flypaper.jpg',\n",
    "'image1.jpg',\n",
    "'image2.jpg',\n",
    "'image3.jpg',\n",
    "'image4.jpg',\n",
    "'image5.jpg',\n",
    "'image6.jpg',\n",
    "'image7.jpg',\n",
    "'image8.jpg',\n",
    "'image9.jpg',\n",
    "'image10.jpg',\n",
    "'image11.jpg',\n",
    "'image12.jpg',\n",
    "'image13.jpg',\n",
    "'image14.jpg',\n",
    "'image15.jpg',\n",
    "'image16.jpg',\n",
    "'image17.jpg',\n",
    "'image18.jpg',\n",
    "'image19.jpg',\n",
    "'image20.jpg',\n",
    "'image21.jpg',\n",
    "'image22.jpg',\n",
    "'image23.jpg',\n",
    "'image24.jpg',\n",
    "'image25.jpg',\n",
    "'image26.jpg',\n",
    "'image27.jpg',\n",
    "'image28.jpg',\n",
    "'image29.jpg',\n",
    "'image30.jpg',\n",
    "'image31.jpg',\n",
    "'image32.jpg',\n",
    "'image33.jpg',\n",
    "'image34.jpg',\n",
    "'image35.jpg',\n",
    "'image36.jpg',\n",
    "'image37.jpg',\n",
    "'image38.jpg',\n",
    "'image39.jpg',\n",
    "'image40.jpg',\n",
    "'image41.jpg',\n",
    "'image42.jpg',\n",
    "'image43.jpg',\n",
    "'image44.jpg',\n",
    "'image45.jpg',\n",
    "'image46.jpg',\n",
    "'image47.jpg',\n",
    "'image48.jpg',\n",
    "'image49.jpg',\n",
    "'image50.jpg',\n",
    "'image51.jpg',\n",
    "'image52.jpg',\n",
    "'image53.jpg',\n",
    "'image54.jpg',\n",
    "'image55.jpg',\n",
    "'image56.jpg',\n",
    "'image57.jpg',\n",
    "'image58.jpg',\n",
    "'image59.jpg',\n",
    "'image60.jpg',\n",
    "'image61.jpg',\n",
    "'image62.jpg',\n",
    "'image63.jpg',\n",
    "'image64.jpg',\n",
    "'image65.jpg',\n",
    "'image66.jpg',\n",
    "'image67.jpg',\n",
    "'image68.jpg',\n",
    "'image69.jpg',\n",
    "'image70.jpg',\n",
    "'image71.jpg',\n",
    "'image72.jpg',\n",
    "'image73.jpg',\n",
    "'image74.jpg',\n",
    "'image75.jpg',\n",
    "'image76.jpg',\n",
    "'image77.jpg',\n",
    "'image78.jpg',\n",
    "'image79.jpg',\n",
    "'image80.jpg',\n",
    "'image81.jpg',\n",
    "'image82.jpg',\n",
    "'image83.jpg',\n",
    "'image84.jpg',\n",
    "'image85.jpg',\n",
    "'image86.jpg',\n",
    "'image87.jpg',\n",
    "'image88.jpg',\n",
    "'image89.jpg',\n",
    "'image90.jpg',\n",
    "'image91.jpg',\n",
    "'image92.jpg',\n",
    "'image93.jpg',\n",
    "'image94.jpg',\n",
    "'image95.jpg',\n",
    "'image96.jpg',\n",
    "'image97.jpg',\n",
    "'image98.jpg',\n",
    "'image99.jpg',\n",
    "'image100.jpg',\n",
    "'image101.jpg',\n",
    "'image102.jpg',\n",
    "'image103.jpg',\n",
    "'image104.jpg',\n",
    "'image105.jpg',\n",
    "'image106.jpg',\n",
    "'image107.jpg',\n",
    "'image108.jpg',\n",
    "'image109.jpg',\n",
    "'image110.jpg',\n",
    "'image111.jpg'];\n",
    "len(rio_list)"
   ]
  },
  {
   "cell_type": "code",
   "execution_count": 86,
   "metadata": {},
   "outputs": [],
   "source": [
    "categorization_of_pics_rio = [['r','bb','inga'],['seafairies'],[],['r','bb'],['bb'],['r','inga'],[],['nomes'],['inga'],\n",
    "                              ['r','bb'],['bb'],['inga'],['inga'],['inga'],['inga','kk'],['inga'],[],['r'],['r','bb'],\n",
    "                             ['r'],['kk'],['inga'],['kk','warrior'],['warrior'],['inga'],['inga','bb','r'],['inga','bb','r'],\n",
    "                             [],['r','inga'],[],['inga','r','bb'],['inga'],[],['inga','bb'],['bb'],['inga','r'],['inga','r','bb'],\n",
    "                             ['inga'],['r','bb'],['inga','r'],['inga','r','bb'],['inga'],['peopleofregos'],['bb','inga','r'],\n",
    "                              ['inga','r'],['inga','r'],['inga','r'],[],['nikobob'],['nikobob'],['nikobob','choggenmugger'],\n",
    "                              ['cor'],['zella'],['cor','inga','r'],['r'],['cor'],[],['zella'],['zella'],['zella'],['bb'],['bb','gos'],\n",
    "                              ['bb'],['inga'],['inga','zella'],['inga','r','bb','zella'],['r'],['zella'],['bb','zella'],['warrior','r','bb','inga'],\n",
    "                              ['inga'],['buzzub'],['cor','garee'],['cor','gos'],['inga'],['zella'],['inga','nikobob'],['warrior'],['inga'],\n",
    "                              ['kaliko'],['kaliko','cor','gos'],['nomes','cor','gos'],['inga'],['kaliko'],['kaliko','bb'],['inga'],['inga','giant'],\n",
    "                              ['inga'],['inga'],['kaliko','nomes'],['r'],['r','nomes'],['d'],['d','woz'],['d'],['d','glinda'],['kaliko'],['d'],['bb','woz'],\n",
    "                              ['kaliko','d'],['ozma'],['bb'],['bb'],['betsy','trot'],['ozma','d'],['glinda','bb'],['r'],['s'],\n",
    "                              ['r','garee','kk','inga','bb'],['kk'],['r','pinkerbloo'],['r'],['r','bb']]"
   ]
  },
  {
   "cell_type": "code",
   "execution_count": 87,
   "metadata": {},
   "outputs": [
    {
     "data": {
      "text/plain": [
       "113"
      ]
     },
     "execution_count": 87,
     "metadata": {},
     "output_type": "execute_result"
    }
   ],
   "source": [
    "len(categorization_of_pics_rio)"
   ]
  },
  {
   "cell_type": "code",
   "execution_count": 8,
   "metadata": {},
   "outputs": [
    {
     "data": {
      "text/plain": [
       "114"
      ]
     },
     "execution_count": 8,
     "metadata": {},
     "output_type": "execute_result"
    }
   ],
   "source": [
    "tlpoo_list = ['i_cover.png',\n",
    "'front_th.png',\n",
    "'i001.png',\n",
    "'i003.png',\n",
    "'i004.png',\n",
    "'i006_th.png',\n",
    "'i007.png',\n",
    "'i008.png',\n",
    "'i009.png',\n",
    "'i010.png',\n",
    "'i011.png',\n",
    "'i013.png',\n",
    "'i014.png',\n",
    "'i015.png',\n",
    "'i017.png',\n",
    "'i021.png',\n",
    "'i023.png',\n",
    "'i025.png',\n",
    "'i027.png',\n",
    "'i028.png',\n",
    "'i031.png',\n",
    "'i033.png',\n",
    "'i035.png',\n",
    "'i036.png',\n",
    "'i039.png',\n",
    "'i043_th.png',\n",
    "'i047.png',\n",
    "'i055.png',\n",
    "'i056.png',\n",
    "'i057.png',\n",
    "'i061.png',\n",
    "'i063.png',\n",
    "'i064.png',\n",
    "'i067.png',\n",
    "'i071_th.png',\n",
    "'i077.png',\n",
    "'i078.png',\n",
    "'i079.png',\n",
    "'i081.png',\n",
    "'i085.png',\n",
    "'i091.png',\n",
    "'i094.png',\n",
    "'i095.png',\n",
    "'i102.png',\n",
    "'i103.png',\n",
    "'i107_th.png',\n",
    "'i112.png',\n",
    "'i115.png',\n",
    "'i123.png',\n",
    "'i127.png',\n",
    "'i128.png',\n",
    "'i131_th.png',\n",
    "'i139.png',\n",
    "'i146.png',\n",
    "'i147.png',\n",
    "'i151.png',\n",
    "'i155.png',\n",
    "'i156.png',\n",
    "'i163_th.png',\n",
    "'i168.png',\n",
    "'i169.png',\n",
    "'i173.png',\n",
    "'i179.png',\n",
    "'i185.png',\n",
    "'i191.png',\n",
    "'i193.png',\n",
    "'i195.png',\n",
    "'i196.png',\n",
    "'i199.png',\n",
    "'i203.png',\n",
    "'i205.png',\n",
    "'i206.png',\n",
    "'i211_th.png',\n",
    "'i213.png',\n",
    "'i215.png',\n",
    "'i216.png',\n",
    "'i219.png',\n",
    "'i223_th.png',\n",
    "'i227.png',\n",
    "'i229.png',\n",
    "'i231.png',\n",
    "'i232.png',\n",
    "'i235.png',\n",
    "'i238_th.png',\n",
    "'i244.png',\n",
    "'i245.png',\n",
    "'i247.png',\n",
    "'i248.png',\n",
    "'i255.png',\n",
    "'i261.png',\n",
    "'i262.png',\n",
    "'i263.png',\n",
    "'i269.png',\n",
    "'i271_th.png',\n",
    "'i275.png',\n",
    "'i276.png',\n",
    "'i279_th.png',\n",
    "'i285.png',\n",
    "'i287.png',\n",
    "'i293.png',\n",
    "'i297.png',\n",
    "'i299.png',\n",
    "'i301.png',\n",
    "'i302.png',\n",
    "'i305.png',\n",
    "'i310.png',\n",
    "'i311.png',\n",
    "'i313.png',\n",
    "'i316.png',\n",
    "'i317.png',\n",
    "'i323.png',\n",
    "'i325.png',\n",
    "'i327_th.png',\n",
    "'i333.png']\n",
    "len(tlpoo_list)"
   ]
  },
  {
   "cell_type": "code",
   "execution_count": 2,
   "metadata": {},
   "outputs": [
    {
     "data": {
      "text/plain": [
       "114"
      ]
     },
     "execution_count": 2,
     "metadata": {},
     "output_type": "execute_result"
    }
   ],
   "source": [
    "categorization_of_pics_tlpoo = [['d','fm'],['ccc','woz','jp','d','bb','betsy','cl','trot','ojo','woozy'],['pb'],['jp','t','woozy'],['glinda','swans'],\n",
    "                                ['ozma'],[],['fm','pb'],['ccc'],['woozy'],['t'],['d'],['ozma'],['ozma'],['d','trot','betsy'],['d'],\n",
    "                               ['auntem','pg'],['pg'],['d','trot','betsy'],['glinda'],['glinda'],['woz','sh'],['glinda'],[],\n",
    "                                ['ccc'],['ccc','fm'],['ccc','fm','yips'],['fm','ccc'],['fm'],['tw'],['fm','winkies'],['ccc'],\n",
    "                                ['pg'],['woz'],['ojo','bb'],[],['tiktok','jp','shaggy','shaggybrother'],['s','tw'],['pg','woozy'],['t'],\n",
    "                                ['d','t'],['winkies'],['woz','d'],['pg'],['sh','hank','t','d','cl','bb','woz','trot','betsy','woozy'],\n",
    "                                ['d','t'],['cl'],['pg','cl','sh','woz','t','d','bb','betsy','trot'],['cl','woozy'],['woz'],['pg'],\n",
    "                                ['thists'],['thists','pg'],['d'],['d','trot','betsy'],['hank','woozy'],['t'],['pg'],['bb'],['woozy'],['trot'],\n",
    "                               ['giantsofherku','woz'],['giantsofherku','czarover'],['fm'],['fm'],['fm','ccc'],['fm'],['ccc'],['ccc','fm'],\n",
    "                                ['fm','ccc','unhappyferryman'],['fm','ccc'],['bears'],['fm','bears'],['fm','kingbear','bears'],['bears'],['pb'],\n",
    "                               ['ccc','bears'],['fm','bears'],['ugu'],['kingbear','pb'],['bears'],['pg','fm'],['fm'],['pg','fm'],['kingbear','pb','woozy','t','cl','sh','ugu','fm'],\n",
    "                                ['cl','sh','ccc','fm','woz','pg','trot','bb','betsy','d'],['kingbear'],['woz'],['ugu'],['ugu','ozma'],['ugu'],[],\n",
    "                                ['pg','woozy','hank','fm','ccc','woz','bearking','d','betsy','trot','t','sh','pb','cl'],['fm'],['woz'],['pg'],['woz'],\n",
    "                                ['pg','fakegirlarmy'],['peacock'],['woozy','pg','woz','sh','cl','t','fm','bearking','pb','ccc','d','betsy','bb','trot','hank'],\n",
    "                                ['pg','d','betsy','trot','bb','ccc','woz','fm','bearking','pb'],['pg'],['pg'],['d'],['fm','ugu'],['ozma'],['bearking','pb'],['pg','pb'],\n",
    "                                ['ozma'],['t'],['woz','sh','bb','trot','betsy','jp','s','tw','glinda','t'],['tw'],['tw','s'],['ozma']]\n",
    "len(categorization_of_pics_tlpoo)"
   ]
  },
  {
   "cell_type": "code",
   "execution_count": 4,
   "metadata": {},
   "outputs": [
    {
     "name": "stdout",
     "output_type": "stream",
     "text": [
      "{'s', 'shaggy', 'peacock', 'fakegirlarmy', 'tiktok', 'jp', 'woz', 'betsy', 'kingbear', 'bb', 'unhappyferryman', 'fm', 'thists', 'hank', 'ojo', 'pb', 'bearking', 't', 'yips', 'ozma', 'woozy', 'czarover', 'cl', 'shaggybrother', 'ugu', 'tw', 'd', 'bears', 'ccc', 'giantsofherku', 'winkies', 'glinda', 'swans', 'auntem', 'trot', 'pg', 'sh'}\n"
     ]
    }
   ],
   "source": [
    "print(set([item for sublist in categorization_of_pics_ttwoo for item in sublist]))"
   ]
  },
  {
   "cell_type": "code",
   "execution_count": 50,
   "metadata": {},
   "outputs": [],
   "source": [
    "def list_for_char(character):\n",
    "    list = [];\n",
    "    for i in range(len(categorization_of_pics_ttwoo)):\n",
    "        if(character in categorization_of_pics_ttwoo[i]):\n",
    "            list=list+[ttwoo_list[i]]\n",
    "    return list"
   ]
  },
  {
   "cell_type": "code",
   "execution_count": 45,
   "metadata": {},
   "outputs": [
    {
     "data": {
      "text/plain": [
       "['i033.png',\n",
       " 'i103.png',\n",
       " 'i115.png',\n",
       " 'i244.png',\n",
       " 'i245.png',\n",
       " 'i269.png',\n",
       " 'i293.png',\n",
       " 'i323.png']"
      ]
     },
     "execution_count": 45,
     "metadata": {},
     "output_type": "execute_result"
    }
   ],
   "source": [
    "list_for_char('sh')"
   ]
  },
  {
   "cell_type": "code",
   "execution_count": 49,
   "metadata": {},
   "outputs": [
    {
     "data": {
      "text/plain": [
       "72"
      ]
     },
     "execution_count": 49,
     "metadata": {},
     "output_type": "execute_result"
    }
   ],
   "source": [
    "ttwoo_list = ['icover.jpg',\n",
    "'endpapers.png',\n",
    "'i003.png',\n",
    "'i004.png',\n",
    "'i006.jpg',\n",
    "'i007.png',\n",
    "'i008.png',\n",
    "'i009.png',\n",
    "'i010.png',\n",
    "'i014.png',\n",
    "'i020-21s.png',\n",
    "'i023.png',\n",
    "'i028.jpg',\n",
    "'i031.png',\n",
    "'i037.png',\n",
    "'i041.png',\n",
    "'i045.png',\n",
    "'i047.jpg',\n",
    "'i051.png',\n",
    "'i054.png',\n",
    "'i063.png',\n",
    "'i065.png',\n",
    "'i068-69s.png',\n",
    "'i071.png',\n",
    "'i075.jpg',\n",
    "'i084-85s.png',\n",
    "'i087.png',\n",
    "'i095.png',\n",
    "'i099.png',\n",
    "'i103.png',\n",
    "'i105.png',\n",
    "'i111.png',\n",
    "'i113.png',\n",
    "'i119.jpg',\n",
    "'i126.png',\n",
    "'i129.png',\n",
    "'i131.png',\n",
    "'i137.png',\n",
    "'i140.png',\n",
    "'i147.png',\n",
    "'i151.png',\n",
    "'i155.png',\n",
    "'i160-161s.png',\n",
    "'i163.jpg',\n",
    "'i173.png',\n",
    "'i175.png',\n",
    "'i182.jpg',\n",
    "'i185.png',\n",
    "'i191.png',\n",
    "'i192.png',\n",
    "'i195.png',\n",
    "'i198.png',\n",
    "'i207.jpg',\n",
    "'i218-219s.png',\n",
    "'i224.png',\n",
    "'i227.png',\n",
    "'i234-235s.png',\n",
    "'i237.png',\n",
    "'i241.png',\n",
    "'i243.jpg',\n",
    "'i251.png',\n",
    "'i259.jpg',\n",
    "'i261.png',\n",
    "'i267.png',\n",
    "'i270.png',\n",
    "'i276-277s.png',\n",
    "'i283.png',\n",
    "'i286.png',\n",
    "'i295.jpg',\n",
    "'i297.png',\n",
    "'i307.jpg',\n",
    "'i312.png']\n",
    "len(ttwoo_list)"
   ]
  },
  {
   "cell_type": "code",
   "execution_count": 48,
   "metadata": {},
   "outputs": [
    {
     "data": {
      "text/plain": [
       "72"
      ]
     },
     "execution_count": 48,
     "metadata": {},
     "output_type": "execute_result"
    }
   ],
   "source": [
    "categorization_of_pics_ttwoo = [['tw','w','ts'],['ts','glinda','w','s','d','ozma','tw','bb','trot','woz','jp','pg'],[],['d'],['tw','ts'],\n",
    "                                [],['ts','loon'],['poly'],['ozma'],['w'],['w','s','tw'],['tw'],['witcheast','na','tw'],['tw','kk'],['tw','s'],\n",
    "                                ['s'],['w','s','tw'],['s','tw'],['s'],['s'],['loon'],['loon'],['loon','w','s','tw'],['loon'],['w','tw'],\n",
    "                                ['yoop','s','tw','w'],['w','yoop'],['w'],['s'],['s'],['poly'],['w'],['w','poly'],['s','tw'],['jaguar','w'],\n",
    "                                ['jaguar','poly'],['w'],['dragon','w'],['w'],['tks'],['tks','poly'],['poly','tw'],['tw','s','w','poly','jinjur'],\n",
    "                                ['jinjur','w'],['ozma','d'],['ozma','d','t','sawhorse'],['s','ozma'],['ozma','w'],['poly'],['jinjur'],\n",
    "                                ['ozma'],['bunny'],['poly','ts'],['tw','s','w','ts','poly'],['ts','tw'],['tw','twhead'],['w','ts','tw','poly','kk'],\n",
    "                                ['na','witcheast'],['kk','chopfyt'],['poly'],['w'],['tw','ts'],['s','hg'],['poly','hg'],['w','s'],['s','tw','ts','w','swyne'],\n",
    "                                ['poly'],['poly','bluerabbit'],['ts','chopfyt'],['tw','ts'],['poly','w'],['ts']]\n",
    "len(categorization_of_pics_ttwoo)"
   ]
  },
  {
   "cell_type": "code",
   "execution_count": 51,
   "metadata": {},
   "outputs": [
    {
     "name": "stdout",
     "output_type": "stream",
     "text": [
      "{'s', 'sawhorse', 'w', 'ts', 'jp', 'yoop', 'woz', 'tks', 'bb', 'swyne', 'kk', 'loon', 't', 'ozma', 'chopfyt', 'witcheast', 'na', 'twhead', 'tw', 'd', 'jinjur', 'glinda', 'poly', 'bunny', 'trot', 'hg', 'dragon', 'pg', 'bluerabbit', 'jaguar'}\n"
     ]
    }
   ],
   "source": [
    "print(set([item for sublist in categorization_of_pics_ttwoo for item in sublist]))"
   ]
  },
  {
   "cell_type": "code",
   "execution_count": 84,
   "metadata": {},
   "outputs": [
    {
     "data": {
      "text/plain": [
       "['i126.png', 'i129.png']"
      ]
     },
     "execution_count": 84,
     "metadata": {},
     "output_type": "execute_result"
    }
   ],
   "source": [
    "list_for_char('jaguar')"
   ]
  },
  {
   "cell_type": "code",
   "execution_count": null,
   "metadata": {},
   "outputs": [],
   "source": []
  },
  {
   "cell_type": "code",
   "execution_count": null,
   "metadata": {},
   "outputs": [],
   "source": []
  }
 ],
 "metadata": {
  "kernelspec": {
   "display_name": "Python 3",
   "language": "python",
   "name": "python3"
  },
  "language_info": {
   "codemirror_mode": {
    "name": "ipython",
    "version": 3
   },
   "file_extension": ".py",
   "mimetype": "text/x-python",
   "name": "python",
   "nbconvert_exporter": "python",
   "pygments_lexer": "ipython3",
   "version": "3.7.6"
  }
 },
 "nbformat": 4,
 "nbformat_minor": 4
}
