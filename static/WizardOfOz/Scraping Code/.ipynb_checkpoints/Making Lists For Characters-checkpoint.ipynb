{
 "cells": [
  {
   "cell_type": "code",
   "execution_count": 1,
   "metadata": {},
   "outputs": [],
   "source": [
    "twwoo_list = ['0001v.jpg',\n",
    "'0011v.jpg',\n",
    "'0015v.jpg',\n",
    "'0023v.jpg',\n",
    "'0025v.jpg',\n",
    "'0041v.jpg',\n",
    "'0059v.jpg',\n",
    "'0069v.jpg',\n",
    "'0075v.jpg',\n",
    "'0081v.jpg',\n",
    "'0089v.jpg',\n",
    "'0101v.jpg',\n",
    "'0109v.jpg',\n",
    "'0114v.jpg',\n",
    "'0121v.jpg',\n",
    "'0135v.jpg',\n",
    "'0139v.jpg',\n",
    "'0151v.jpg',\n",
    "'0160v.jpg',\n",
    "'0165v.jpg',\n",
    "'0179v.jpg',\n",
    "'0185v.jpg',\n",
    "'0191v.jpg',\n",
    "'0203v.jpg',\n",
    "'0209v.jpg',\n",
    "'0215v.jpg',\n",
    "'0219v.jpg',\n",
    "'0227v.jpg',\n",
    "'0235v.jpg',\n",
    "'0251v.jpg',\n",
    "'0261v.jpg',\n",
    "'0271v.jpg',\n",
    "'0287v.jpg',\n",
    "'0291v.jpg',\n",
    "'0301v.jpg',\n",
    "'0312v.jpg']"
   ]
  },
  {
   "cell_type": "code",
   "execution_count": 2,
   "metadata": {},
   "outputs": [],
   "source": [
    "dorothy = [2,3,4,5,7,9,11,13,14,15,16,17,19,20,21,22,23,26,28,29,31,34,35]"
   ]
  },
  {
   "cell_type": "code",
   "execution_count": 4,
   "metadata": {},
   "outputs": [],
   "source": [
    "dorothy_in_twwoo = [twwoo_list[i] for i in dorothy]"
   ]
  },
  {
   "cell_type": "code",
   "execution_count": 5,
   "metadata": {},
   "outputs": [
    {
     "data": {
      "text/plain": [
       "['0015v.jpg',\n",
       " '0023v.jpg',\n",
       " '0025v.jpg',\n",
       " '0041v.jpg',\n",
       " '0069v.jpg',\n",
       " '0081v.jpg',\n",
       " '0101v.jpg',\n",
       " '0114v.jpg',\n",
       " '0121v.jpg',\n",
       " '0135v.jpg',\n",
       " '0139v.jpg',\n",
       " '0151v.jpg',\n",
       " '0165v.jpg',\n",
       " '0179v.jpg',\n",
       " '0185v.jpg',\n",
       " '0191v.jpg',\n",
       " '0203v.jpg',\n",
       " '0219v.jpg',\n",
       " '0235v.jpg',\n",
       " '0251v.jpg',\n",
       " '0271v.jpg',\n",
       " '0301v.jpg',\n",
       " '0312v.jpg']"
      ]
     },
     "execution_count": 5,
     "metadata": {},
     "output_type": "execute_result"
    }
   ],
   "source": [
    "dorothy_in_twwoo"
   ]
  },
  {
   "cell_type": "code",
   "execution_count": 6,
   "metadata": {},
   "outputs": [],
   "source": [
    "toto = [2,3,4,5,9,11,15,16,19,25,26,28,29,31]"
   ]
  },
  {
   "cell_type": "code",
   "execution_count": 7,
   "metadata": {},
   "outputs": [],
   "source": [
    "toto_in_twwoo = [twwoo_list[i] for i in toto]"
   ]
  },
  {
   "cell_type": "code",
   "execution_count": 9,
   "metadata": {},
   "outputs": [
    {
     "data": {
      "text/plain": [
       "['0015v.jpg',\n",
       " '0023v.jpg',\n",
       " '0025v.jpg',\n",
       " '0041v.jpg',\n",
       " '0081v.jpg',\n",
       " '0101v.jpg',\n",
       " '0135v.jpg',\n",
       " '0139v.jpg',\n",
       " '0165v.jpg',\n",
       " '0215v.jpg',\n",
       " '0219v.jpg',\n",
       " '0235v.jpg',\n",
       " '0251v.jpg',\n",
       " '0271v.jpg']"
      ]
     },
     "execution_count": 9,
     "metadata": {},
     "output_type": "execute_result"
    }
   ],
   "source": [
    "toto_in_twwoo"
   ]
  },
  {
   "cell_type": "code",
   "execution_count": 10,
   "metadata": {},
   "outputs": [
    {
     "data": {
      "text/plain": [
       "['0001v.jpg',\n",
       " '0081v.jpg',\n",
       " '0135v.jpg',\n",
       " '0139v.jpg',\n",
       " '0160v.jpg',\n",
       " '0165v.jpg',\n",
       " '0179v.jpg',\n",
       " '0191v.jpg',\n",
       " '0219v.jpg',\n",
       " '0235v.jpg',\n",
       " '0251v.jpg',\n",
       " '0301v.jpg']"
      ]
     },
     "execution_count": 10,
     "metadata": {},
     "output_type": "execute_result"
    }
   ],
   "source": [
    "lion = [0,9,15,16,18,19,20,22,26,28,29,34]\n",
    "lion_in_twwoo = [twwoo_list[i] for i in lion]\n",
    "lion_in_twwoo"
   ]
  },
  {
   "cell_type": "code",
   "execution_count": 11,
   "metadata": {},
   "outputs": [
    {
     "data": {
      "text/plain": [
       "['0059v.jpg',\n",
       " '0069v.jpg',\n",
       " '0081v.jpg',\n",
       " '0109v.jpg',\n",
       " '0114v.jpg',\n",
       " '0121v.jpg',\n",
       " '0135v.jpg',\n",
       " '0139v.jpg',\n",
       " '0165v.jpg',\n",
       " '0219v.jpg',\n",
       " '0251v.jpg',\n",
       " '0261v.jpg',\n",
       " '0291v.jpg',\n",
       " '0301v.jpg',\n",
       " '0312v.jpg']"
      ]
     },
     "execution_count": 11,
     "metadata": {},
     "output_type": "execute_result"
    }
   ],
   "source": [
    "scarecrow = [6,7,9,12,13,14,15,16,19,26,29,30,33,34,35]\n",
    "scarecrow_in_twwoo = [twwoo_list[i] for i in scarecrow]\n",
    "scarecrow_in_twwoo"
   ]
  },
  {
   "cell_type": "code",
   "execution_count": 12,
   "metadata": {},
   "outputs": [
    {
     "data": {
      "text/plain": [
       "['0069v.jpg',\n",
       " '0075v.jpg',\n",
       " '0081v.jpg',\n",
       " '0114v.jpg',\n",
       " '0121v.jpg',\n",
       " '0135v.jpg',\n",
       " '0139v.jpg',\n",
       " '0165v.jpg',\n",
       " '0191v.jpg',\n",
       " '0203v.jpg',\n",
       " '0219v.jpg',\n",
       " '0235v.jpg',\n",
       " '0251v.jpg',\n",
       " '0301v.jpg',\n",
       " '0312v.jpg']"
      ]
     },
     "execution_count": 12,
     "metadata": {},
     "output_type": "execute_result"
    }
   ],
   "source": [
    "tinwoodman = [8,9,10,14,15,16,17,20,23,24,27,29,30,35,36]\n",
    "tinwoodman_in_twwoo = [twwoo_list[i-1] for i in tinwoodman]\n",
    "tinwoodman_in_twwoo"
   ]
  },
  {
   "cell_type": "code",
   "execution_count": 13,
   "metadata": {},
   "outputs": [
    {
     "data": {
      "text/plain": [
       "['0301v.jpg']"
      ]
     },
     "execution_count": 13,
     "metadata": {},
     "output_type": "execute_result"
    }
   ],
   "source": [
    "glinda = [35]\n",
    "glinda_in_twwoo = [twwoo_list[i-1] for i in glinda]\n",
    "glinda_in_twwoo "
   ]
  },
  {
   "cell_type": "code",
   "execution_count": 14,
   "metadata": {},
   "outputs": [
    {
     "data": {
      "text/plain": [
       "['0015v.jpg',\n",
       " '0023v.jpg',\n",
       " '0025v.jpg',\n",
       " '0041v.jpg',\n",
       " '0081v.jpg',\n",
       " '0101v.jpg',\n",
       " '0135v.jpg',\n",
       " '0139v.jpg',\n",
       " '0165v.jpg',\n",
       " '0203v.jpg',\n",
       " '0215v.jpg',\n",
       " '0219v.jpg',\n",
       " '0235v.jpg',\n",
       " '0251v.jpg',\n",
       " '0271v.jpg']"
      ]
     },
     "execution_count": 14,
     "metadata": {},
     "output_type": "execute_result"
    }
   ],
   "source": [
    "toto = [3,4,5,6,10,12,16,17,20,24,26,27,29,30,32]\n",
    "toto_in_twwoo = [twwoo_list[i-1] for i in toto]\n",
    "toto_in_twwoo "
   ]
  },
  {
   "cell_type": "code",
   "execution_count": 15,
   "metadata": {},
   "outputs": [
    {
     "data": {
      "text/plain": [
       "['0025v.jpg', '0041v.jpg']"
      ]
     },
     "execution_count": 15,
     "metadata": {},
     "output_type": "execute_result"
    }
   ],
   "source": [
    "munchkins = [5,6]\n",
    "munchkins_in_twwoo = [twwoo_list[i-1] for i in munchkins]\n",
    "munchkins_in_twwoo"
   ]
  },
  {
   "cell_type": "code",
   "execution_count": 16,
   "metadata": {},
   "outputs": [
    {
     "data": {
      "text/plain": [
       "['0089v.jpg', '0139v.jpg']"
      ]
     },
     "execution_count": 16,
     "metadata": {},
     "output_type": "execute_result"
    }
   ],
   "source": [
    "kalida = [11,17]\n",
    "kalida_in_twwoo = [twwoo_list[i-1] for i in kalida]\n",
    "kalida_in_twwoo"
   ]
  },
  {
   "cell_type": "code",
   "execution_count": 17,
   "metadata": {},
   "outputs": [
    {
     "data": {
      "text/plain": [
       "['0151v.jpg', '0219v.jpg']"
      ]
     },
     "execution_count": 17,
     "metadata": {},
     "output_type": "execute_result"
    }
   ],
   "source": [
    "wizardofoz = [18,27]\n",
    "wizardofoz_in_twwoo = [twwoo_list[i-1] for i in wizardofoz]\n",
    "wizardofoz_in_twwoo"
   ]
  },
  {
   "cell_type": "code",
   "execution_count": 18,
   "metadata": {},
   "outputs": [
    {
     "data": {
      "text/plain": [
       "['0179v.jpg', '0203v.jpg']"
      ]
     },
     "execution_count": 18,
     "metadata": {},
     "output_type": "execute_result"
    }
   ],
   "source": [
    "flyingmonkeys = [21,24]\n",
    "flyingmonkeys_in_twwoo = [twwoo_list[i-1] for i in flyingmonkeys]\n",
    "flyingmonkeys_in_twwoo"
   ]
  },
  {
   "cell_type": "code",
   "execution_count": 19,
   "metadata": {},
   "outputs": [
    {
     "data": {
      "text/plain": [
       "['0185v.jpg']"
      ]
     },
     "execution_count": 19,
     "metadata": {},
     "output_type": "execute_result"
    }
   ],
   "source": [
    "witchofthewest = [22]\n",
    "witchofthewest_in_twwoo = [twwoo_list[i-1] for i in witchofthewest]\n",
    "witchofthewest_in_twwoo"
   ]
  },
  {
   "cell_type": "code",
   "execution_count": 20,
   "metadata": {},
   "outputs": [
    {
     "data": {
      "text/plain": [
       "['0287v.jpg', '0291v.jpg']"
      ]
     },
     "execution_count": 20,
     "metadata": {},
     "output_type": "execute_result"
    }
   ],
   "source": [
    "witchofthewest = [33,34]\n",
    "witchofthewest_in_twwoo = [twwoo_list[i-1] for i in witchofthewest]\n",
    "witchofthewest_in_twwoo"
   ]
  },
  {
   "cell_type": "code",
   "execution_count": 23,
   "metadata": {},
   "outputs": [],
   "source": [
    "def sublist_from_indices(array,indices):\n",
    "    subarray = [array[i-1] for i in indices]\n",
    "    return subarray\n",
    "    "
   ]
  },
  {
   "cell_type": "code",
   "execution_count": 24,
   "metadata": {},
   "outputs": [
    {
     "data": {
      "text/plain": [
       "['0287v.jpg', '0291v.jpg']"
      ]
     },
     "execution_count": 24,
     "metadata": {},
     "output_type": "execute_result"
    }
   ],
   "source": [
    "sublist_from_indices(twwoo_list,[33,34])"
   ]
  },
  {
   "cell_type": "code",
   "execution_count": 25,
   "metadata": {},
   "outputs": [],
   "source": [
    "tmloo_list = ['cover.jpeg',\n",
    "'14566566900_e082ee5e23_o.jpg',\n",
    "'14566576090_e66227eb21_o.jpg',\n",
    "'14566577470_dfd254e00c_o.jpg',\n",
    "'14566597109_9e65bb92a4_o.jpg',\n",
    "'14566598868_bd97445cf9_o.jpg',\n",
    "'14566600610_74720b238f_o.jpg',\n",
    "'14566609460_d2649ec679_o.jpg',\n",
    "'14566611318_bdea79fbb1_o.jpg',\n",
    "'14566611659_1cc09e48f4_o.jpg',\n",
    "'14566616649_c053afab0f_o.jpg',\n",
    "'14566616828_aabfd71618_o.jpg',\n",
    "'14566617320_87e202b205_o.jpg',\n",
    "'14566621569_1a918e0e81_o.jpg',\n",
    "'14566622350_8182100dfa_o.jpg',\n",
    "'14566625568_66f753c221_o.jpg',\n",
    "'14566625609_75042a48fc_o.jpg',\n",
    "'14566626570_6833eb04bb_o.jpg',\n",
    "'14566629360_ecda30f330_o.jpg',\n",
    "'14566634408_758cedece4_o.jpg',\n",
    "'14566634699_4575c41847_o.jpg',\n",
    "'14566635270_16e6be3777_o.jpg',\n",
    "'14566636018_a3d718ddfc_o.jpg',\n",
    "'14566636240_15aa8684ea_o.jpg',\n",
    "'14566637188_121605d1c6_o.jpg',\n",
    "'14566638618_3cb958fea6_o.jpg',\n",
    "'14566642539_cea1ee2c65_o.jpg',\n",
    "'14566643599_6842206c26_o.jpg',\n",
    "'14566645418_8d3a1f92b0_o.jpg',\n",
    "'14566651509_90c95e2d82_o.jpg',\n",
    "'14566654499_c75e121680_o.jpg',\n",
    "'14566659598_c3363155be_o.jpg',\n",
    "'14566660128_b4dbeb54c5_o.jpg',\n",
    "'14566661588_c8557d8d2b_o.jpg',\n",
    "'14566662699_796c6f3e96_o.jpg',\n",
    "'14566664289_dae983101b_o.jpg',\n",
    "'14566666458_3cac0b62ef_o.jpg',\n",
    "'14566670979_8e6ce746b5_o.jpg',\n",
    "'14566673939_a17b389f54_o.jpg',\n",
    "'14566801187_ab45d9c5d2_o.jpg',\n",
    "'14566810057_e32a478087_o.jpg',\n",
    "'14566814317_6bde500626_o.jpg',\n",
    "'14566814817_c45697dea8_o.jpg',\n",
    "'14566815387_393c6977c8_o.jpg',\n",
    "'14566819687_c73b748c42_o.jpg',\n",
    "'14566827287_53102919c5_o.jpg',\n",
    "'14566836727_2d9997a7f2_o.jpg',\n",
    "'14566838467_c2728f6858_o.jpg',\n",
    "'14566842717_b5a11f4939_o.jpg',\n",
    "'14566843417_1dfa051533_o.jpg',\n",
    "'14566847497_3e768f26f7_o.jpg',\n",
    "'14566850117_2ab98a3d36_o.jpg',\n",
    "'14566855387_98820d07b1_o.jpg',\n",
    "'14566867227_f39dd64a36_o.jpg',\n",
    "'14730250606_8c6458970c_o.jpg',\n",
    "'14730253076_6206709ac1_o.jpg',\n",
    "'14730254546_575f089404_o.jpg',\n",
    "'14730256936_abf1cc595b_o.jpg',\n",
    "'14730265916_51514e3059_o.jpg',\n",
    "'14730266216_e1e2831005_o.jpg',\n",
    "'14730274956_18312f1eda_o.jpg',\n",
    "'14730275286_413df391d8_o.jpg',\n",
    "'14730276496_2626080a4e_o.jpg',\n",
    "'14730279566_38608359f8_o.jpg',\n",
    "'14730288596_157012d748_o.jpg',\n",
    "'14730295956_1c62a3e73e_o.jpg',\n",
    "'14730306986_07e1944e65_o.jpg',\n",
    "'14730314766_09ea2cc387_o.jpg',\n",
    "'14730322066_dbe9658892_o.jpg',\n",
    "'14750093931_3ab20948ab_o.jpg',\n",
    "'14750096681_1fc23eb66c_o.jpg',\n",
    "'14750102901_8d6c4fb26e_o.jpg',\n",
    "'14750104541_bcec574fd5_o.jpg',\n",
    "'14750106211_56eb12a00e_o.jpg',\n",
    "'14750114401_e64df62bd4_o.jpg',\n",
    "'14750118601_a4b054af2f_o.jpg',\n",
    "'14750123361_dc13ea53a8_o.jpg',\n",
    "'14750128451_39cb9a75c2_o.jpg',\n",
    "'14750133681_2b7ed29339_o.jpg',\n",
    "'14750134011_f0f0a2156e_o.jpg',\n",
    "'14750138461_cc4410b66f_o.jpg',\n",
    "'14750143251_96e433042a_o.jpg',\n",
    "'14750145161_bb63444e5d_o.jpg',\n",
    "'14750151191_16dc84875c_o.jpg',\n",
    "'14750152681_bbd4da7a27_o.jpg',\n",
    "'14750157581_14958bb896_o.jpg',\n",
    "'14750158621_c34dd0b757_o.jpg',\n",
    "'14750905364_22f6873d98_o.jpg',\n",
    "'14750907574_7ace47e249_o.jpg',\n",
    "'14750911914_200cb354a6_o.jpg',\n",
    "'14750919454_4e5c832f7e_o.jpg',\n",
    "'14750925994_8cfc345fb5_o.jpg',\n",
    "'14750927304_ee369e70f6_o.jpg',\n",
    "'14750927744_bb6c91a10a_o.jpg',\n",
    "'14750929574_0ce2e423b1_o.jpg',\n",
    "'14750930444_dff8be66ef_o.jpg',\n",
    "'14750932084_362db08613_o.jpg',\n",
    "'14750940944_967db626e3_o.jpg',\n",
    "'14750961904_ab0e99a1ca_o.jpg',\n",
    "'14750973104_e63c27aeb8_o.jpg',\n",
    "'14750974584_91d2d9e16b_o.jpg',\n",
    "'14750975894_d80400f569_o.jpg',\n",
    "'14752933482_fde21ed155_o.jpg',\n",
    "'14752944182_5b0b9d31a1_o.jpg',\n",
    "'14752957332_25fd548e07_o.jpg',\n",
    "'14752958122_7527099026_o.jpg',\n",
    "'14752967312_7383aaf519_o.jpg',\n",
    "'14752972562_793cd83b6c_o.jpg',\n",
    "'14752987252_83ba83ae9f_o.jpg',\n",
    "'14752997482_12873e5cea_o.jpg',\n",
    "'14753001882_a49ff69581_o.jpg',\n",
    "'14753005462_e85003101a_o.jpg',\n",
    "'14753248105_fd573d9c07_o.jpg',\n",
    "'14753268085_0227f24608_o.jpg',\n",
    "'14753276295_0c67d6f002_o.jpg',\n",
    "'14753278005_118800d134_o.jpg',\n",
    "'14753279655_7292af2cb4_o.jpg',\n",
    "'14753284875_442c6a6570_o.jpg',\n",
    "'14753290445_2574698115_o.jpg',\n",
    "'14753295665_a92a7acf8d_o.jpg',\n",
    "'14753297415_8af320b7ac_o.jpg',\n",
    "'14753302625_27c6dcbd01_o.jpg',\n",
    "'14753303635_d86fbd35f2_o.jpg',\n",
    "'14753305185_7b72e0cdff_o.jpg',\n",
    "'14753306155_fca353e421_o.jpg',\n",
    "'14753307455_0e0164db68_o.jpg',\n",
    "'14753308105_2344c7093e_o.jpg',\n",
    "'14753318105_487297019e_o.jpg',\n",
    "'14773121433_5157e20485_o.jpg',\n",
    "'14773124503_47ec1bf7e2_o.jpg',\n",
    "'14773125643_eed8373b8f_o.jpg',\n",
    "'14773126823_36b29767ea_o.jpg',\n",
    "'14773129193_e8e530acb5_o.jpg',\n",
    "'14773133783_2e4c4ffaaa_o.jpg',\n",
    "'14773136403_0d9a6f7bc8_o.jpg',\n",
    "'14773143843_004bf273c0_o.jpg',\n",
    "'14773147603_86cbe56009_o.jpg',\n",
    "'14773149293_065e144c9b_o.jpg',\n",
    "'14773168113_da8544f410_o.jpg',\n",
    "'14773169153_309b38aebd_o.jpg',\n",
    "'14773170393_5241543f19_o.jpg',\n",
    "'14773185943_481a24eaa5_o.jpg']"
   ]
  },
  {
   "cell_type": "code",
   "execution_count": 39,
   "metadata": {},
   "outputs": [
    {
     "data": {
      "text/plain": [
       "['14730314766_09ea2cc387_o.jpg', '14750929574_0ce2e423b1_o.jpg']"
      ]
     },
     "execution_count": 39,
     "metadata": {},
     "output_type": "execute_result"
    }
   ],
   "source": [
    "sublist_from_indices(tmloo_list,[68,95])"
   ]
  },
  {
   "cell_type": "code",
   "execution_count": 55,
   "metadata": {},
   "outputs": [],
   "source": [
    "categorization_of_pics = [['s','tw'],['t'],['tw'],['s'],['wotn'],[],['d','t'],['d','t'],['d','t'],['d','t'],\n",
    "                          ['wotn'],['d','t'],['d','t','wotn','munchkins'],['munchkins'],['d','t'],['d'],['wotn'],\n",
    "                          ['wotn'],['munchkins'],['d','munchkins'],['munchkins'],['d','t','munchkins'],\n",
    "                          ['munchkins','t'],['d','t','s'],['d','s','t'],['d','s','t'],['s','munchkins'],\n",
    "                          ['d','t','s'],['s'],[],['tw','wotn'],['tw','t'],['tw'],['tw','d','s'],['s','t'],['tw'],\n",
    "                          ['tw'],['cl'],['cl','s','d','t','tw'],['cl','d','t'],['cl'],['tw','s'],['kalida'],\n",
    "                          ['cl','d','t'],['s'],['tw','d','t','cl'],['kalida','cl','tw','d','s','t'],['cl','d'],\n",
    "                          ['tw'],['d','t'],[],['s','t'],['s'],['s'],['s'],['cl','d','tw','s'],['d','t','s','tw'],\n",
    "                          ['fieldmice'],['fieldmice'],['d','tw','s','fieldmice'],['tw','t','fieldmice'],\n",
    "                          ['cl','s','tw','fieldmice'],['fieldmice'],['gotg'],['t'],['d','cl','t','tw','s'],[],\n",
    "                          ['cl','tw','s','d','t'],[],['t','d','gotg'],['aoo'],['jj','d'],['aoo'],[],['d','t'],\n",
    "                          ['cl','d','t','tw','s'],['woz'],['woz'],['tw'],['cl','woz'],\n",
    "                          ['cl','tw','s','d','t','aoo','jj'],['wotw'],['fm'],['wotw'],['tw'],['s'],['t'],['cl'],[],\n",
    "                          ['fm','cl','d'],['fm','wotw'],['wotw','t'],['d','wotw'],['d','t','tw'],['d','s'],\n",
    "                          ['cl','d','tw'],['s'],[],['d','fm'],['fieldmice','d','t','s','tw','cl'],['fm','d','t','tw'],\n",
    "                          ['fm'],[],['fm'],['woz'],['t'],['woz','t','tw'],['cl','d','s','tw','t','woz'],\n",
    "                          ['woz'],['s','woz'],['tw'],[],['cl'],['woz','s'],['cl','tw','s','d','t'],['tw','woz'],\n",
    "                          ['cl','woz'],['woz'],['d','t'],['t','woz'],['s','woz','aoo'],['d','tw'],['s','t'],\n",
    "                          ['cl','tw','s','d','t','aoo'],['aoo'],[],['fightingtree','t'],['gotg','d'],\n",
    "                          ['fightingtree','s'],['fightingtree','s','t'],['s'],['d','china'],['d','t','china'],\n",
    "                          ['china'],['cl','tw','s','d','t'],['cl'],['cl'],['cl'],['headbonkers'],['headbonkers','s'],\n",
    "                          ['d','t'],['t'],['cl','s','tw','d','t'],['cl','tw','s','d','wots'],['wots','d','t'],[],\n",
    "                          ['d','t'],['d','t']]"
   ]
  },
  {
   "cell_type": "code",
   "execution_count": 56,
   "metadata": {},
   "outputs": [],
   "source": [
    "twwoo_list=['i001_edit.jpg',\n",
    "'i003_edit.jpg',\n",
    "'i004_edit.jpg',\n",
    "'i005_edit.jpg',\n",
    "'i006_edit.jpg',\n",
    "'i007_edit.jpg',\n",
    "'i009_edit.jpg',\n",
    "'i011_edit.jpg',\n",
    "'i013_edit.jpg',\n",
    "'i016_edit.jpg',\n",
    "'i017.jpg',\n",
    "'i019_edit.jpg',\n",
    "'i021.jpg',\n",
    "'i023_edit.jpg',\n",
    "'i024_edit.jpg',\n",
    "'i027_edit.jpg',\n",
    "'i028_edit.jpg',\n",
    "'i030_edit.jpg',\n",
    "'i031.jpg',\n",
    "'i033.jpg',\n",
    "'i035_edit.jpg',\n",
    "'i037.jpg',\n",
    "'i039_edit.jpg',\n",
    "'i041_edit.jpg',\n",
    "'i044_edit.jpg',\n",
    "'i047.jpg',\n",
    "'i049_edit.jpg',\n",
    "'i051.jpg',\n",
    "'i055_edit.jpg',\n",
    "'i057.jpg',\n",
    "'i059.jpg',\n",
    "'i061_edit.jpg',\n",
    "'i063_edit.jpg',\n",
    "'i065_edit.jpg',\n",
    "'i068_edit.jpg',\n",
    "'i070_edit.jpg',\n",
    "'i071_edit.jpg',\n",
    "'i073_edit.jpg',\n",
    "'i075_edit.jpg',\n",
    "'i076_edit.jpg',\n",
    "'i079_edit.jpg',\n",
    "'i082_edit.jpg',\n",
    "'i084_edit.jpg',\n",
    "'i086_edit.jpg',\n",
    "'i087_edit.jpg',\n",
    "'i089-i090_combo.jpg',\n",
    "'i093_edit.jpg',\n",
    "'i095_edit.jpg',\n",
    "'i096_edit.jpg',\n",
    "'i098_edit.jpg',\n",
    "'i100_edit.jpg',\n",
    "'i101_edit.jpg',\n",
    "'i102_edit.jpg',\n",
    "'i103_edit.jpg',\n",
    "'i107_edit.jpg',\n",
    "'i109-edit.jpg',\n",
    "'i111_edit.jpg',\n",
    "'i112_edit.jpg',\n",
    "'i114_edit.jpg',\n",
    "'i116_edit.jpg',\n",
    "'i118_edit.jpg',\n",
    "'i121-i122_combo.jpg',\n",
    "'i123_edit.jpg',\n",
    "'i124_edit.jpg',\n",
    "'i126_edit.jpg',\n",
    "'i127-i128_combo.jpg',\n",
    "'i130_edit.jpg',\n",
    "'i132_edit.jpg',\n",
    "'i135_edit.jpg',\n",
    "'i136_edit.jpg',\n",
    "'i138_edit.jpg',\n",
    "'i140_edit.jpg',\n",
    "'i142_edit.jpg',\n",
    "'i143_edit.jpg',\n",
    "'i144_edit.jpg',\n",
    "'i148_edit.jpg',\n",
    "'i150_edit.jpg',\n",
    "'i152_edit.jpg',\n",
    "'i154_edit.jpg',\n",
    "'i155_edit.jpg',\n",
    "'i158_edit.jpg',\n",
    "'i160_edit.jpg',\n",
    "'i162_edit.jpg',\n",
    "'i163_edit.jpg',\n",
    "'i165_edit.jpg',\n",
    "'i167_edit.jpg',\n",
    "'i168_edit.jpg',\n",
    "'i169_edit.jpg',\n",
    "'i170_edit.jpg',\n",
    "'i172_edit.jpg',\n",
    "'i174_edit.jpg',\n",
    "'i178_edit.jpg',\n",
    "'i180_edit.jpg',\n",
    "'i182_edit.jpg',\n",
    "'i184_edit.jpg',\n",
    "'i186_edit.jpg',\n",
    "'i190_edit.jpg',\n",
    "'i192_edit.jpg',\n",
    "'i194_edit.jpg',\n",
    "'i195-196_combo.jpg',\n",
    "'i198_edit.jpg',\n",
    "'i202_edit.jpg',\n",
    "'i204_edit.jpg',\n",
    "'i206_edit.jpg',\n",
    "'i208_edit.jpg',\n",
    "'i210_edit.jpg',\n",
    "'i212_edit.jpg',\n",
    "'i214_edit.jpg',\n",
    "'i218_edit.jpg',\n",
    "'i220_edit.jpg',\n",
    "'i221_edit.jpg',\n",
    "'i222_edit.jpg',\n",
    "'i224_edit.jpg',\n",
    "'i226_edit.jpg',\n",
    "'i228_edit.jpg',\n",
    "'i230_edit.jpg',\n",
    "'i231_edit.jpg',\n",
    "'i234_edit.jpg',\n",
    "'i236_edit.jpg',\n",
    "'i238_edit.jpg',\n",
    "'i240_edit.jpg',\n",
    "'i242_edit.jpg',\n",
    "'i244_edit.jpg',\n",
    "'i246_edit.jpg',\n",
    "'i249_edit.jpg',\n",
    "'i251_edit.jpg',\n",
    "'i252_edit.jpg',\n",
    "'i254_edit.jpg',\n",
    "'i256_edit.jpg',\n",
    "'i259_edit.jpg',\n",
    "'i262_edit.jpg',\n",
    "'i264_edit.jpg',\n",
    "'i266_edit.jpg',\n",
    "'i270_edit.jpg',\n",
    "'i272_edit.jpg',\n",
    "'i274_edit.jpg',\n",
    "'i276_edit.jpg',\n",
    "'i278_edit.jpg',\n",
    "'i282_edit.jpg',\n",
    "'i284_edit.jpg',\n",
    "'i286_edit.jpg',\n",
    "'i290_edit.jpg',\n",
    "'i292_edit.jpg',\n",
    "'i294_edit.jpg',\n",
    "'i296_edit.jpg',\n",
    "'i299_edit.jpg',\n",
    "'i301_edit.jpg',\n",
    "'i304_edit.jpg']"
   ]
  },
  {
   "cell_type": "code",
   "execution_count": 116,
   "metadata": {},
   "outputs": [],
   "source": [
    "datwio_list = ['cover.jpeg',\n",
    "'14566355950_99d6a1e788_o.jpg',\n",
    "'14566359570_87f58878df_o.jpg',\n",
    "'14566360820_9d21a968a1_o.jpg',\n",
    "'14566370420_b55c73a0c6_o.jpg',\n",
    "'14566374270_1e0f0fe773_o.jpg',\n",
    "'14566384930_fa31435a9d_o.jpg',\n",
    "'14566385830_f13fc01705_o.jpg',\n",
    "'14566386539_80c45c2d9d_o.jpg',\n",
    "'14566387769_5b9d9c0f95_o.jpg',\n",
    "'14566392218_5e7f6e9c60_o.jpg',\n",
    "'14566394388_be99220a5a_o.jpg',\n",
    "'14566407859_a8827f4057_o.jpg',\n",
    "'14566410168_6234433a0f_o.jpg',\n",
    "'14566419179_082c2117c8_o.jpg',\n",
    "'14566420818_ace4de01eb_o.jpg',\n",
    "'14566421438_19a401912a_o.jpg',\n",
    "'14566422008_3cf5cb528a_o.jpg',\n",
    "'14566426359_188e77a008_o.jpg',\n",
    "'14566589597_78d0be3f7f_o.jpg',\n",
    "'14566594877_822b7a4ccd_o.jpg',\n",
    "'14566595617_8995dc3760_o.jpg',\n",
    "'14566597997_013d4de8fd_o.jpg',\n",
    "'14566603807_1fa74d6bab_o.jpg',\n",
    "'14566616057_bdee2ddf48_o.jpg',\n",
    "'14566616617_ced5057d9b_o.jpg',\n",
    "'14566623767_68f568b624_o.jpg',\n",
    "'14566625537_58d9c10a00_o.jpg',\n",
    "'14566626027_0af6e28a64_o.jpg',\n",
    "'14730042076_37114478de_o.jpg',\n",
    "'14730043496_d9fde96698_o.jpg',\n",
    "'14730050756_96670dce74_o.jpg',\n",
    "'14730052126_1879fe8170_o.jpg',\n",
    "'14730056906_69ec16ff12_o.jpg',\n",
    "'14730057646_6b1dfb7fb8_o.jpg',\n",
    "'14730060376_affb234a34_o.jpg',\n",
    "'14730062756_76a7b12b52_o.jpg',\n",
    "'14730063206_1c1c6cec36_o.jpg',\n",
    "'14730065066_d42e728f5a_o.jpg',\n",
    "'14730067706_e5221e255d_o.jpg',\n",
    "'14730071726_dc5fb62c6d_o.jpg',\n",
    "'14730072326_9ddc1378a3_o.jpg',\n",
    "'14749876521_b62b3155c9_o.jpg',\n",
    "'14749885281_42b6516244_o.jpg',\n",
    "'14749886891_14c282c656_o.jpg',\n",
    "'14749888171_2ea1db0c99_o.jpg',\n",
    "'14749892441_30534f106b_o.jpg',\n",
    "'14749893461_0cf746b224_o.jpg',\n",
    "'14749895071_c6efe5f0a2_o.jpg',\n",
    "'14749898111_ee685e84b4_o.jpg',\n",
    "'14750702444_a22afda3cb_o.jpg',\n",
    "'14750706734_2eefe95a41_o.jpg',\n",
    "'14750714484_c508fdb364_o.jpg',\n",
    "'14752724602_2f79438b8e_o.jpg',\n",
    "'14752725952_4c1eb0f6b1_o.jpg',\n",
    "'14752728022_f76206cbe6_o.jpg',\n",
    "'14752747532_ecf3134192_o.jpg',\n",
    "'14752752692_36df69aee4_o.jpg',\n",
    "'14752761232_341d3c4452_o.jpg',\n",
    "'14753042175_42d2284d93_o.jpg',\n",
    "'14753043985_4726329832_o.jpg',\n",
    "'14753044615_b56ed898dd_o.jpg',\n",
    "'14753063625_df1147c85e_o.jpg',\n",
    "'14753065125_281fae945f_o.jpg',\n",
    "'14772918523_bc89603c6c_o.jpg',\n",
    "'14772923243_5e76d47bc2_o.jpg',\n",
    "'14772925503_571e9dd553_o.jpg',\n",
    "'14772930283_359dae11e2_o.jpg',\n",
    "'14772930643_660a65d082_o.jpg',\n",
    "'14772937703_dfb4fff8cc_o.jpg',\n",
    "'14772943233_3a52116956_o.jpg']"
   ]
  },
  {
   "cell_type": "code",
   "execution_count": 117,
   "metadata": {},
   "outputs": [
    {
     "name": "stdout",
     "output_type": "stream",
     "text": [
      "71\n",
      "71\n"
     ]
    }
   ],
   "source": [
    "print(len(categorization_of_pics_datwio))\n",
    "print(len(datwio_list))\n",
    "def list_for_char(character):\n",
    "    list = [];\n",
    "    for i in range(len(categorization_of_pics_datwio)):\n",
    "        if(character in categorization_of_pics_datwio[i]):\n",
    "            list=list+[datwio_list[i]]\n",
    "    return list"
   ]
  },
  {
   "cell_type": "code",
   "execution_count": 124,
   "metadata": {},
   "outputs": [
    {
     "name": "stdout",
     "output_type": "stream",
     "text": [
      "{'jp', 's', 'cl', 'wb', 'gargoyle', 'p', 'e', 'w', 'j', 'mangaboo', 'braidedman', 'tw', 'z', 'ozma', 'sh', 'woz', 'b', 'army', 'ht', 'dragonette', 'd'}\n"
     ]
    }
   ],
   "source": [
    "print(set([item for sublist in categorization_of_pics_datwio for item in sublist]))\n"
   ]
  },
  {
   "cell_type": "code",
   "execution_count": 80,
   "metadata": {},
   "outputs": [
    {
     "data": {
      "text/plain": [
       "['i264_edit.jpg', 'i266_edit.jpg', 'i270_edit.jpg']"
      ]
     },
     "execution_count": 80,
     "metadata": {},
     "output_type": "execute_result"
    }
   ],
   "source": [
    "list_for_char('china')"
   ]
  },
  {
   "cell_type": "code",
   "execution_count": 100,
   "metadata": {},
   "outputs": [],
   "source": [
    "categorization_of_pics_ooz = [['o','d'],[],[],['ht'],['o'],['tt'],['d','b'],['s','b'],[],['d'],['d'],['d'],['d'],['b'],['d','b'],['d','b'],['d','b'],['d','b','wheeler'],['wheeler'],['d','b'],['d','b'],['d','b','tt'],['d','b','tt'],['d','b','tt'],['d','b','tt'],['b'],['d','b','tt'],['d','b'],[],['d','b','tt'],['tt','wheeler','d'],['d','b','tt','wheeler'],['d','b','tt','wheeler'],['d','b','tt','nanda'],['b','nanda'],['lang'],['d'],['b'],['cl','ht','o','s','sh','tw','army'],['d'],['d','cl','ht','o','s','sh','tw','army'],['lang','o','tw','s'],['s'],['lang','o','d'],['ht'],['ht','nanda'],['b','d'],['ht','cl','d','b','tw','s'],['lang','o','d','tw','s','b','tt'],['tw','d','s'],['s','d'],['d','b'],['ht','cl','d','o','s','sh','tw','tt','army'],['ig','ht','cl','d','o'],['ig','sh','army'],['army','s'],['nomes'],['d','s','o','tw'],['kingofev'],['nomeking','d','o'],['nomeking','d','o','s','tt','tw','army','b','nomes'],['o','s'],['o'],['o'],['b'],['d'],['nomeking','nomes'],['d','nomeking'],['d','royalev'],['d','royalev'],['b','nomeking'],['s'],['nomeking'],['nomeking','b'],['royalev','b'],['royalev'],['nomeking','s'],['nomeking','d','b','s'],['nomeking'],['nomes'],['tw'],['royalev'],['b'],['jinjur'],['o','army'],['ht'],['glinda','dorothy'],['d','b','tt','s','tw','cl','ht','o'],['d','unclehenry']]"
   ]
  },
  {
   "cell_type": "code",
   "execution_count": 84,
   "metadata": {},
   "outputs": [],
   "source": [
    "ooo_list = ['cover.jpg',\n",
    "'005.jpg',\n",
    "'i001.jpg',\n",
    "'i003.jpg',\n",
    "'i004.jpg',\n",
    "'i006.jpg',\n",
    "'i007.jpg',\n",
    "'i010.jpg',\n",
    "'i011.jpg',\n",
    "'i012.jpg',\n",
    "'i017.jpg',\n",
    "'i021.jpg',\n",
    "'i023.jpg',\n",
    "'i029.jpg',\n",
    "'i033.jpg',\n",
    "'i036.jpg',\n",
    "'i041.jpg',\n",
    "'i043.jpg',\n",
    "'i045.jpg',\n",
    "'i048.jpg',\n",
    "'i051.jpg',\n",
    "'i053.jpg',\n",
    "'i057.jpg',\n",
    "'i059.jpg',\n",
    "'i061.jpg',\n",
    "'i063.jpg',\n",
    "'i066.jpg',\n",
    "'i069.jpg',\n",
    "'i073.jpg',\n",
    "'i075.jpg',\n",
    "'i079.jpg',\n",
    "'i081.jpg',\n",
    "'i085.jpg',\n",
    "'i087.jpg',\n",
    "'i089.jpg',\n",
    "'i093.jpg',\n",
    "'i097.jpg',\n",
    "'i100.jpg',\n",
    "'i105.jpg',\n",
    "'i107.jpg',\n",
    "'i109.jpg',\n",
    "'i111.jpg',\n",
    "'i113.jpg',\n",
    "'i116.jpg',\n",
    "'i119.jpg',\n",
    "'i121.jpg',\n",
    "'i125.jpg',\n",
    "'i127.jpg',\n",
    "'i133.jpg',\n",
    "'i136.jpg',\n",
    "'i138.jpg',\n",
    "'i143.jpg',\n",
    "'i145.jpg',\n",
    "'i149.jpg',\n",
    "'i153.jpg',\n",
    "'i155.jpg',\n",
    "'i160.jpg',\n",
    "'i162.jpg',\n",
    "'i165.jpg',\n",
    "'i167.jpg',\n",
    "'i171.jpg',\n",
    "'i174.jpg',\n",
    "'i178.jpg',\n",
    "'i181.jpg',\n",
    "'i187.jpg',\n",
    "'i190.jpg',\n",
    "'i193.jpg',\n",
    "'i197.jpg',\n",
    "'i202.jpg',\n",
    "'i204.jpg',\n",
    "'i209.jpg',\n",
    "'i211.jpg',\n",
    "'i212.jpg',\n",
    "'i215.jpg',\n",
    "'i221.jpg',\n",
    "'i225.jpg',\n",
    "'i231.jpg',\n",
    "'i239.jpg',\n",
    "'i241.jpg',\n",
    "'i244.jpg',\n",
    "'i249.jpg',\n",
    "'i251.jpg',\n",
    "'i253.jpg',\n",
    "'i257.jpg',\n",
    "'i259.jpg',\n",
    "'i262.jpg',\n",
    "'i266.jpg',\n",
    "'i269.jpg',\n",
    "'i270.jpg']"
   ]
  },
  {
   "cell_type": "code",
   "execution_count": 113,
   "metadata": {},
   "outputs": [
    {
     "data": {
      "text/plain": [
       "['i087.jpg', 'i089.jpg', 'i121.jpg']"
      ]
     },
     "execution_count": 113,
     "metadata": {},
     "output_type": "execute_result"
    }
   ],
   "source": [
    "list_for_char('nanda')"
   ]
  },
  {
   "cell_type": "code",
   "execution_count": 115,
   "metadata": {},
   "outputs": [],
   "source": [
    "\n",
    "\n",
    "categorization_of_pics_datwio = [['d','woz','e','p'],['d','j','z'],[],['woz','mangaboo'],[],['z','gargoyle'],['p'],['ht','j','z'],['tw'],['d','z'],['d'],['j','d','z','woz'],['j','z','woz','d','e'],['d','ozma'],['sh'],['d','ozma','woz','tw','s','jp','e','z','j'],['ozma'],['d','e','tw'],['ozma','p'],['d','woz'],['d','z','j'],['d','z','e'],['woz'],['woz','j','d','z'],['army'],[],['e'],['wb'],['e','wb','tw'],['j'],[],['d','woz','z','j'],['d','e'],['d'],['gargoyle'],['j','d'],['d','e','woz','z'],['j','z','woz'],['s','tw'],['j','cl','ht'],['woz'],['tw','p'],['mangaboo','d','woz'],['mangaboo','d','woz'],['woz'],['e'],['j','z','d','e','woz'],['d','z','woz','j','e'],['braidedman','d'],['d','woz','gargoyle'],['d','woz'],['e'],['d','woz'],['s','gargoyle'],['jp'],['d'],['d','z','woz','dragonette'],['j'],[],[],['z'],['z','d','woz'],['j','sh','e'],['j'],['j'],['d','woz','z'],['woz','gargoyle'],['woz','z','d','e','j'],['woz','p'],['woz','p','ozma','e','tw','s','d'],['b']]\n",
    "\n",
    "\n",
    "\n",
    "\n",
    "\n"
   ]
  },
  {
   "cell_type": "code",
   "execution_count": 129,
   "metadata": {},
   "outputs": [
    {
     "data": {
      "text/plain": [
       "['14566374270_1e0f0fe773_o.jpg',\n",
       " '14730057646_6b1dfb7fb8_o.jpg',\n",
       " '14749898111_ee685e84b4_o.jpg',\n",
       " '14752724602_2f79438b8e_o.jpg',\n",
       " '14772925503_571e9dd553_o.jpg']"
      ]
     },
     "execution_count": 129,
     "metadata": {},
     "output_type": "execute_result"
    }
   ],
   "source": [
    "list_for_char('gargoyle')"
   ]
  },
  {
   "cell_type": "code",
   "execution_count": null,
   "metadata": {},
   "outputs": [],
   "source": []
  }
 ],
 "metadata": {
  "kernelspec": {
   "display_name": "Python 3",
   "language": "python",
   "name": "python3"
  },
  "language_info": {
   "codemirror_mode": {
    "name": "ipython",
    "version": 3
   },
   "file_extension": ".py",
   "mimetype": "text/x-python",
   "name": "python",
   "nbconvert_exporter": "python",
   "pygments_lexer": "ipython3",
   "version": "3.7.6"
  }
 },
 "nbformat": 4,
 "nbformat_minor": 4
}
