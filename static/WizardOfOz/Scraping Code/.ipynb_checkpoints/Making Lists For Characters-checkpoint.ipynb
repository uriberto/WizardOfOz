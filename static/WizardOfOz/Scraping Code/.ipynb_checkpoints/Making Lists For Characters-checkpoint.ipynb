{
 "cells": [
  {
   "cell_type": "code",
   "execution_count": 1,
   "metadata": {},
   "outputs": [],
   "source": [
    "twwoo_list = ['0001v.jpg',\n",
    "'0011v.jpg',\n",
    "'0015v.jpg',\n",
    "'0023v.jpg',\n",
    "'0025v.jpg',\n",
    "'0041v.jpg',\n",
    "'0059v.jpg',\n",
    "'0069v.jpg',\n",
    "'0075v.jpg',\n",
    "'0081v.jpg',\n",
    "'0089v.jpg',\n",
    "'0101v.jpg',\n",
    "'0109v.jpg',\n",
    "'0114v.jpg',\n",
    "'0121v.jpg',\n",
    "'0135v.jpg',\n",
    "'0139v.jpg',\n",
    "'0151v.jpg',\n",
    "'0160v.jpg',\n",
    "'0165v.jpg',\n",
    "'0179v.jpg',\n",
    "'0185v.jpg',\n",
    "'0191v.jpg',\n",
    "'0203v.jpg',\n",
    "'0209v.jpg',\n",
    "'0215v.jpg',\n",
    "'0219v.jpg',\n",
    "'0227v.jpg',\n",
    "'0235v.jpg',\n",
    "'0251v.jpg',\n",
    "'0261v.jpg',\n",
    "'0271v.jpg',\n",
    "'0287v.jpg',\n",
    "'0291v.jpg',\n",
    "'0301v.jpg',\n",
    "'0312v.jpg']"
   ]
  },
  {
   "cell_type": "code",
   "execution_count": 2,
   "metadata": {},
   "outputs": [],
   "source": [
    "dorothy = [2,3,4,5,7,9,11,13,14,15,16,17,19,20,21,22,23,26,28,29,31,34,35]"
   ]
  },
  {
   "cell_type": "code",
   "execution_count": 4,
   "metadata": {},
   "outputs": [],
   "source": [
    "dorothy_in_twwoo = [twwoo_list[i] for i in dorothy]"
   ]
  },
  {
   "cell_type": "code",
   "execution_count": 5,
   "metadata": {},
   "outputs": [
    {
     "data": {
      "text/plain": [
       "['0015v.jpg',\n",
       " '0023v.jpg',\n",
       " '0025v.jpg',\n",
       " '0041v.jpg',\n",
       " '0069v.jpg',\n",
       " '0081v.jpg',\n",
       " '0101v.jpg',\n",
       " '0114v.jpg',\n",
       " '0121v.jpg',\n",
       " '0135v.jpg',\n",
       " '0139v.jpg',\n",
       " '0151v.jpg',\n",
       " '0165v.jpg',\n",
       " '0179v.jpg',\n",
       " '0185v.jpg',\n",
       " '0191v.jpg',\n",
       " '0203v.jpg',\n",
       " '0219v.jpg',\n",
       " '0235v.jpg',\n",
       " '0251v.jpg',\n",
       " '0271v.jpg',\n",
       " '0301v.jpg',\n",
       " '0312v.jpg']"
      ]
     },
     "execution_count": 5,
     "metadata": {},
     "output_type": "execute_result"
    }
   ],
   "source": [
    "dorothy_in_twwoo"
   ]
  },
  {
   "cell_type": "code",
   "execution_count": 6,
   "metadata": {},
   "outputs": [],
   "source": [
    "toto = [2,3,4,5,9,11,15,16,19,25,26,28,29,31]"
   ]
  },
  {
   "cell_type": "code",
   "execution_count": 7,
   "metadata": {},
   "outputs": [],
   "source": [
    "toto_in_twwoo = [twwoo_list[i] for i in toto]"
   ]
  },
  {
   "cell_type": "code",
   "execution_count": 9,
   "metadata": {},
   "outputs": [
    {
     "data": {
      "text/plain": [
       "['0015v.jpg',\n",
       " '0023v.jpg',\n",
       " '0025v.jpg',\n",
       " '0041v.jpg',\n",
       " '0081v.jpg',\n",
       " '0101v.jpg',\n",
       " '0135v.jpg',\n",
       " '0139v.jpg',\n",
       " '0165v.jpg',\n",
       " '0215v.jpg',\n",
       " '0219v.jpg',\n",
       " '0235v.jpg',\n",
       " '0251v.jpg',\n",
       " '0271v.jpg']"
      ]
     },
     "execution_count": 9,
     "metadata": {},
     "output_type": "execute_result"
    }
   ],
   "source": [
    "toto_in_twwoo"
   ]
  },
  {
   "cell_type": "code",
   "execution_count": 10,
   "metadata": {},
   "outputs": [
    {
     "data": {
      "text/plain": [
       "['0001v.jpg',\n",
       " '0081v.jpg',\n",
       " '0135v.jpg',\n",
       " '0139v.jpg',\n",
       " '0160v.jpg',\n",
       " '0165v.jpg',\n",
       " '0179v.jpg',\n",
       " '0191v.jpg',\n",
       " '0219v.jpg',\n",
       " '0235v.jpg',\n",
       " '0251v.jpg',\n",
       " '0301v.jpg']"
      ]
     },
     "execution_count": 10,
     "metadata": {},
     "output_type": "execute_result"
    }
   ],
   "source": [
    "lion = [0,9,15,16,18,19,20,22,26,28,29,34]\n",
    "lion_in_twwoo = [twwoo_list[i] for i in lion]\n",
    "lion_in_twwoo"
   ]
  },
  {
   "cell_type": "code",
   "execution_count": 11,
   "metadata": {},
   "outputs": [
    {
     "data": {
      "text/plain": [
       "['0059v.jpg',\n",
       " '0069v.jpg',\n",
       " '0081v.jpg',\n",
       " '0109v.jpg',\n",
       " '0114v.jpg',\n",
       " '0121v.jpg',\n",
       " '0135v.jpg',\n",
       " '0139v.jpg',\n",
       " '0165v.jpg',\n",
       " '0219v.jpg',\n",
       " '0251v.jpg',\n",
       " '0261v.jpg',\n",
       " '0291v.jpg',\n",
       " '0301v.jpg',\n",
       " '0312v.jpg']"
      ]
     },
     "execution_count": 11,
     "metadata": {},
     "output_type": "execute_result"
    }
   ],
   "source": [
    "scarecrow = [6,7,9,12,13,14,15,16,19,26,29,30,33,34,35]\n",
    "scarecrow_in_twwoo = [twwoo_list[i] for i in scarecrow]\n",
    "scarecrow_in_twwoo"
   ]
  },
  {
   "cell_type": "code",
   "execution_count": 12,
   "metadata": {},
   "outputs": [
    {
     "data": {
      "text/plain": [
       "['0069v.jpg',\n",
       " '0075v.jpg',\n",
       " '0081v.jpg',\n",
       " '0114v.jpg',\n",
       " '0121v.jpg',\n",
       " '0135v.jpg',\n",
       " '0139v.jpg',\n",
       " '0165v.jpg',\n",
       " '0191v.jpg',\n",
       " '0203v.jpg',\n",
       " '0219v.jpg',\n",
       " '0235v.jpg',\n",
       " '0251v.jpg',\n",
       " '0301v.jpg',\n",
       " '0312v.jpg']"
      ]
     },
     "execution_count": 12,
     "metadata": {},
     "output_type": "execute_result"
    }
   ],
   "source": [
    "tinwoodman = [8,9,10,14,15,16,17,20,23,24,27,29,30,35,36]\n",
    "tinwoodman_in_twwoo = [twwoo_list[i-1] for i in tinwoodman]\n",
    "tinwoodman_in_twwoo"
   ]
  },
  {
   "cell_type": "code",
   "execution_count": 13,
   "metadata": {},
   "outputs": [
    {
     "data": {
      "text/plain": [
       "['0301v.jpg']"
      ]
     },
     "execution_count": 13,
     "metadata": {},
     "output_type": "execute_result"
    }
   ],
   "source": [
    "glinda = [35]\n",
    "glinda_in_twwoo = [twwoo_list[i-1] for i in glinda]\n",
    "glinda_in_twwoo "
   ]
  },
  {
   "cell_type": "code",
   "execution_count": 14,
   "metadata": {},
   "outputs": [
    {
     "data": {
      "text/plain": [
       "['0015v.jpg',\n",
       " '0023v.jpg',\n",
       " '0025v.jpg',\n",
       " '0041v.jpg',\n",
       " '0081v.jpg',\n",
       " '0101v.jpg',\n",
       " '0135v.jpg',\n",
       " '0139v.jpg',\n",
       " '0165v.jpg',\n",
       " '0203v.jpg',\n",
       " '0215v.jpg',\n",
       " '0219v.jpg',\n",
       " '0235v.jpg',\n",
       " '0251v.jpg',\n",
       " '0271v.jpg']"
      ]
     },
     "execution_count": 14,
     "metadata": {},
     "output_type": "execute_result"
    }
   ],
   "source": [
    "toto = [3,4,5,6,10,12,16,17,20,24,26,27,29,30,32]\n",
    "toto_in_twwoo = [twwoo_list[i-1] for i in toto]\n",
    "toto_in_twwoo "
   ]
  },
  {
   "cell_type": "code",
   "execution_count": 15,
   "metadata": {},
   "outputs": [
    {
     "data": {
      "text/plain": [
       "['0025v.jpg', '0041v.jpg']"
      ]
     },
     "execution_count": 15,
     "metadata": {},
     "output_type": "execute_result"
    }
   ],
   "source": [
    "munchkins = [5,6]\n",
    "munchkins_in_twwoo = [twwoo_list[i-1] for i in munchkins]\n",
    "munchkins_in_twwoo"
   ]
  },
  {
   "cell_type": "code",
   "execution_count": 16,
   "metadata": {},
   "outputs": [
    {
     "data": {
      "text/plain": [
       "['0089v.jpg', '0139v.jpg']"
      ]
     },
     "execution_count": 16,
     "metadata": {},
     "output_type": "execute_result"
    }
   ],
   "source": [
    "kalida = [11,17]\n",
    "kalida_in_twwoo = [twwoo_list[i-1] for i in kalida]\n",
    "kalida_in_twwoo"
   ]
  },
  {
   "cell_type": "code",
   "execution_count": 17,
   "metadata": {},
   "outputs": [
    {
     "data": {
      "text/plain": [
       "['0151v.jpg', '0219v.jpg']"
      ]
     },
     "execution_count": 17,
     "metadata": {},
     "output_type": "execute_result"
    }
   ],
   "source": [
    "wizardofoz = [18,27]\n",
    "wizardofoz_in_twwoo = [twwoo_list[i-1] for i in wizardofoz]\n",
    "wizardofoz_in_twwoo"
   ]
  },
  {
   "cell_type": "code",
   "execution_count": 18,
   "metadata": {},
   "outputs": [
    {
     "data": {
      "text/plain": [
       "['0179v.jpg', '0203v.jpg']"
      ]
     },
     "execution_count": 18,
     "metadata": {},
     "output_type": "execute_result"
    }
   ],
   "source": [
    "flyingmonkeys = [21,24]\n",
    "flyingmonkeys_in_twwoo = [twwoo_list[i-1] for i in flyingmonkeys]\n",
    "flyingmonkeys_in_twwoo"
   ]
  },
  {
   "cell_type": "code",
   "execution_count": 19,
   "metadata": {},
   "outputs": [
    {
     "data": {
      "text/plain": [
       "['0185v.jpg']"
      ]
     },
     "execution_count": 19,
     "metadata": {},
     "output_type": "execute_result"
    }
   ],
   "source": [
    "witchofthewest = [22]\n",
    "witchofthewest_in_twwoo = [twwoo_list[i-1] for i in witchofthewest]\n",
    "witchofthewest_in_twwoo"
   ]
  },
  {
   "cell_type": "code",
   "execution_count": 20,
   "metadata": {},
   "outputs": [
    {
     "data": {
      "text/plain": [
       "['0287v.jpg', '0291v.jpg']"
      ]
     },
     "execution_count": 20,
     "metadata": {},
     "output_type": "execute_result"
    }
   ],
   "source": [
    "witchofthewest = [33,34]\n",
    "witchofthewest_in_twwoo = [twwoo_list[i-1] for i in witchofthewest]\n",
    "witchofthewest_in_twwoo"
   ]
  },
  {
   "cell_type": "code",
   "execution_count": 23,
   "metadata": {},
   "outputs": [],
   "source": [
    "def sublist_from_indices(array,indices):\n",
    "    subarray = [array[i-1] for i in indices]\n",
    "    return subarray\n",
    "    "
   ]
  },
  {
   "cell_type": "code",
   "execution_count": 24,
   "metadata": {},
   "outputs": [
    {
     "data": {
      "text/plain": [
       "['0287v.jpg', '0291v.jpg']"
      ]
     },
     "execution_count": 24,
     "metadata": {},
     "output_type": "execute_result"
    }
   ],
   "source": [
    "sublist_from_indices(twwoo_list,[33,34])"
   ]
  },
  {
   "cell_type": "code",
   "execution_count": 25,
   "metadata": {},
   "outputs": [],
   "source": [
    "tmloo_list = ['cover.jpeg',\n",
    "'14566566900_e082ee5e23_o.jpg',\n",
    "'14566576090_e66227eb21_o.jpg',\n",
    "'14566577470_dfd254e00c_o.jpg',\n",
    "'14566597109_9e65bb92a4_o.jpg',\n",
    "'14566598868_bd97445cf9_o.jpg',\n",
    "'14566600610_74720b238f_o.jpg',\n",
    "'14566609460_d2649ec679_o.jpg',\n",
    "'14566611318_bdea79fbb1_o.jpg',\n",
    "'14566611659_1cc09e48f4_o.jpg',\n",
    "'14566616649_c053afab0f_o.jpg',\n",
    "'14566616828_aabfd71618_o.jpg',\n",
    "'14566617320_87e202b205_o.jpg',\n",
    "'14566621569_1a918e0e81_o.jpg',\n",
    "'14566622350_8182100dfa_o.jpg',\n",
    "'14566625568_66f753c221_o.jpg',\n",
    "'14566625609_75042a48fc_o.jpg',\n",
    "'14566626570_6833eb04bb_o.jpg',\n",
    "'14566629360_ecda30f330_o.jpg',\n",
    "'14566634408_758cedece4_o.jpg',\n",
    "'14566634699_4575c41847_o.jpg',\n",
    "'14566635270_16e6be3777_o.jpg',\n",
    "'14566636018_a3d718ddfc_o.jpg',\n",
    "'14566636240_15aa8684ea_o.jpg',\n",
    "'14566637188_121605d1c6_o.jpg',\n",
    "'14566638618_3cb958fea6_o.jpg',\n",
    "'14566642539_cea1ee2c65_o.jpg',\n",
    "'14566643599_6842206c26_o.jpg',\n",
    "'14566645418_8d3a1f92b0_o.jpg',\n",
    "'14566651509_90c95e2d82_o.jpg',\n",
    "'14566654499_c75e121680_o.jpg',\n",
    "'14566659598_c3363155be_o.jpg',\n",
    "'14566660128_b4dbeb54c5_o.jpg',\n",
    "'14566661588_c8557d8d2b_o.jpg',\n",
    "'14566662699_796c6f3e96_o.jpg',\n",
    "'14566664289_dae983101b_o.jpg',\n",
    "'14566666458_3cac0b62ef_o.jpg',\n",
    "'14566670979_8e6ce746b5_o.jpg',\n",
    "'14566673939_a17b389f54_o.jpg',\n",
    "'14566801187_ab45d9c5d2_o.jpg',\n",
    "'14566810057_e32a478087_o.jpg',\n",
    "'14566814317_6bde500626_o.jpg',\n",
    "'14566814817_c45697dea8_o.jpg',\n",
    "'14566815387_393c6977c8_o.jpg',\n",
    "'14566819687_c73b748c42_o.jpg',\n",
    "'14566827287_53102919c5_o.jpg',\n",
    "'14566836727_2d9997a7f2_o.jpg',\n",
    "'14566838467_c2728f6858_o.jpg',\n",
    "'14566842717_b5a11f4939_o.jpg',\n",
    "'14566843417_1dfa051533_o.jpg',\n",
    "'14566847497_3e768f26f7_o.jpg',\n",
    "'14566850117_2ab98a3d36_o.jpg',\n",
    "'14566855387_98820d07b1_o.jpg',\n",
    "'14566867227_f39dd64a36_o.jpg',\n",
    "'14730250606_8c6458970c_o.jpg',\n",
    "'14730253076_6206709ac1_o.jpg',\n",
    "'14730254546_575f089404_o.jpg',\n",
    "'14730256936_abf1cc595b_o.jpg',\n",
    "'14730265916_51514e3059_o.jpg',\n",
    "'14730266216_e1e2831005_o.jpg',\n",
    "'14730274956_18312f1eda_o.jpg',\n",
    "'14730275286_413df391d8_o.jpg',\n",
    "'14730276496_2626080a4e_o.jpg',\n",
    "'14730279566_38608359f8_o.jpg',\n",
    "'14730288596_157012d748_o.jpg',\n",
    "'14730295956_1c62a3e73e_o.jpg',\n",
    "'14730306986_07e1944e65_o.jpg',\n",
    "'14730314766_09ea2cc387_o.jpg',\n",
    "'14730322066_dbe9658892_o.jpg',\n",
    "'14750093931_3ab20948ab_o.jpg',\n",
    "'14750096681_1fc23eb66c_o.jpg',\n",
    "'14750102901_8d6c4fb26e_o.jpg',\n",
    "'14750104541_bcec574fd5_o.jpg',\n",
    "'14750106211_56eb12a00e_o.jpg',\n",
    "'14750114401_e64df62bd4_o.jpg',\n",
    "'14750118601_a4b054af2f_o.jpg',\n",
    "'14750123361_dc13ea53a8_o.jpg',\n",
    "'14750128451_39cb9a75c2_o.jpg',\n",
    "'14750133681_2b7ed29339_o.jpg',\n",
    "'14750134011_f0f0a2156e_o.jpg',\n",
    "'14750138461_cc4410b66f_o.jpg',\n",
    "'14750143251_96e433042a_o.jpg',\n",
    "'14750145161_bb63444e5d_o.jpg',\n",
    "'14750151191_16dc84875c_o.jpg',\n",
    "'14750152681_bbd4da7a27_o.jpg',\n",
    "'14750157581_14958bb896_o.jpg',\n",
    "'14750158621_c34dd0b757_o.jpg',\n",
    "'14750905364_22f6873d98_o.jpg',\n",
    "'14750907574_7ace47e249_o.jpg',\n",
    "'14750911914_200cb354a6_o.jpg',\n",
    "'14750919454_4e5c832f7e_o.jpg',\n",
    "'14750925994_8cfc345fb5_o.jpg',\n",
    "'14750927304_ee369e70f6_o.jpg',\n",
    "'14750927744_bb6c91a10a_o.jpg',\n",
    "'14750929574_0ce2e423b1_o.jpg',\n",
    "'14750930444_dff8be66ef_o.jpg',\n",
    "'14750932084_362db08613_o.jpg',\n",
    "'14750940944_967db626e3_o.jpg',\n",
    "'14750961904_ab0e99a1ca_o.jpg',\n",
    "'14750973104_e63c27aeb8_o.jpg',\n",
    "'14750974584_91d2d9e16b_o.jpg',\n",
    "'14750975894_d80400f569_o.jpg',\n",
    "'14752933482_fde21ed155_o.jpg',\n",
    "'14752944182_5b0b9d31a1_o.jpg',\n",
    "'14752957332_25fd548e07_o.jpg',\n",
    "'14752958122_7527099026_o.jpg',\n",
    "'14752967312_7383aaf519_o.jpg',\n",
    "'14752972562_793cd83b6c_o.jpg',\n",
    "'14752987252_83ba83ae9f_o.jpg',\n",
    "'14752997482_12873e5cea_o.jpg',\n",
    "'14753001882_a49ff69581_o.jpg',\n",
    "'14753005462_e85003101a_o.jpg',\n",
    "'14753248105_fd573d9c07_o.jpg',\n",
    "'14753268085_0227f24608_o.jpg',\n",
    "'14753276295_0c67d6f002_o.jpg',\n",
    "'14753278005_118800d134_o.jpg',\n",
    "'14753279655_7292af2cb4_o.jpg',\n",
    "'14753284875_442c6a6570_o.jpg',\n",
    "'14753290445_2574698115_o.jpg',\n",
    "'14753295665_a92a7acf8d_o.jpg',\n",
    "'14753297415_8af320b7ac_o.jpg',\n",
    "'14753302625_27c6dcbd01_o.jpg',\n",
    "'14753303635_d86fbd35f2_o.jpg',\n",
    "'14753305185_7b72e0cdff_o.jpg',\n",
    "'14753306155_fca353e421_o.jpg',\n",
    "'14753307455_0e0164db68_o.jpg',\n",
    "'14753308105_2344c7093e_o.jpg',\n",
    "'14753318105_487297019e_o.jpg',\n",
    "'14773121433_5157e20485_o.jpg',\n",
    "'14773124503_47ec1bf7e2_o.jpg',\n",
    "'14773125643_eed8373b8f_o.jpg',\n",
    "'14773126823_36b29767ea_o.jpg',\n",
    "'14773129193_e8e530acb5_o.jpg',\n",
    "'14773133783_2e4c4ffaaa_o.jpg',\n",
    "'14773136403_0d9a6f7bc8_o.jpg',\n",
    "'14773143843_004bf273c0_o.jpg',\n",
    "'14773147603_86cbe56009_o.jpg',\n",
    "'14773149293_065e144c9b_o.jpg',\n",
    "'14773168113_da8544f410_o.jpg',\n",
    "'14773169153_309b38aebd_o.jpg',\n",
    "'14773170393_5241543f19_o.jpg',\n",
    "'14773185943_481a24eaa5_o.jpg']"
   ]
  },
  {
   "cell_type": "code",
   "execution_count": 39,
   "metadata": {},
   "outputs": [
    {
     "data": {
      "text/plain": [
       "['14730314766_09ea2cc387_o.jpg', '14750929574_0ce2e423b1_o.jpg']"
      ]
     },
     "execution_count": 39,
     "metadata": {},
     "output_type": "execute_result"
    }
   ],
   "source": [
    "sublist_from_indices(tmloo_list,[68,95])"
   ]
  },
  {
   "cell_type": "code",
   "execution_count": 55,
   "metadata": {},
   "outputs": [],
   "source": [
    "categorization_of_pics = [['s','tw'],['t'],['tw'],['s'],['wotn'],[],['d','t'],['d','t'],['d','t'],['d','t'],\n",
    "                          ['wotn'],['d','t'],['d','t','wotn','munchkins'],['munchkins'],['d','t'],['d'],['wotn'],\n",
    "                          ['wotn'],['munchkins'],['d','munchkins'],['munchkins'],['d','t','munchkins'],\n",
    "                          ['munchkins','t'],['d','t','s'],['d','s','t'],['d','s','t'],['s','munchkins'],\n",
    "                          ['d','t','s'],['s'],[],['tw','wotn'],['tw','t'],['tw'],['tw','d','s'],['s','t'],['tw'],\n",
    "                          ['tw'],['cl'],['cl','s','d','t','tw'],['cl','d','t'],['cl'],['tw','s'],['kalida'],\n",
    "                          ['cl','d','t'],['s'],['tw','d','t','cl'],['kalida','cl','tw','d','s','t'],['cl','d'],\n",
    "                          ['tw'],['d','t'],[],['s','t'],['s'],['s'],['s'],['cl','d','tw','s'],['d','t','s','tw'],\n",
    "                          ['fieldmice'],['fieldmice'],['d','tw','s','fieldmice'],['tw','t','fieldmice'],\n",
    "                          ['cl','s','tw','fieldmice'],['fieldmice'],['gotg'],['t'],['d','cl','t','tw','s'],[],\n",
    "                          ['cl','tw','s','d','t'],[],['t','d','gotg'],['aoo'],['jj','d'],['aoo'],[],['d','t'],\n",
    "                          ['cl','d','t','tw','s'],['woz'],['woz'],['tw'],['cl','woz'],\n",
    "                          ['cl','tw','s','d','t','aoo','jj'],['wotw'],['fm'],['wotw'],['tw'],['s'],['t'],['cl'],[],\n",
    "                          ['fm','cl','d'],['fm','wotw'],['wotw','t'],['d','wotw'],['d','t','tw'],['d','s'],\n",
    "                          ['cl','d','tw'],['s'],[],['d','fm'],['fieldmice','d','t','s','tw','cl'],['fm','d','t','tw'],\n",
    "                          ['fm'],[],['fm'],['woz'],['t'],['woz','t','tw'],['cl','d','s','tw','t','woz'],\n",
    "                          ['woz'],['s','woz'],['tw'],[],['cl'],['woz','s'],['cl','tw','s','d','t'],['tw','woz'],\n",
    "                          ['cl','woz'],['woz'],['d','t'],['t','woz'],['s','woz','aoo'],['d','tw'],['s','t'],\n",
    "                          ['cl','tw','s','d','t','aoo'],['aoo'],[],['fightingtree','t'],['gotg','d'],\n",
    "                          ['fightingtree','s'],['fightingtree','s','t'],['s'],['d','china'],['d','t','china'],\n",
    "                          ['china'],['cl','tw','s','d','t'],['cl'],['cl'],['cl'],['headbonkers'],['headbonkers','s'],\n",
    "                          ['d','t'],['t'],['cl','s','tw','d','t'],['cl','tw','s','d','wots'],['wots','d','t'],[],\n",
    "                          ['d','t'],['d','t']]"
   ]
  },
  {
   "cell_type": "code",
   "execution_count": 56,
   "metadata": {},
   "outputs": [],
   "source": [
    "twwoo_list=['i001_edit.jpg',\n",
    "'i003_edit.jpg',\n",
    "'i004_edit.jpg',\n",
    "'i005_edit.jpg',\n",
    "'i006_edit.jpg',\n",
    "'i007_edit.jpg',\n",
    "'i009_edit.jpg',\n",
    "'i011_edit.jpg',\n",
    "'i013_edit.jpg',\n",
    "'i016_edit.jpg',\n",
    "'i017.jpg',\n",
    "'i019_edit.jpg',\n",
    "'i021.jpg',\n",
    "'i023_edit.jpg',\n",
    "'i024_edit.jpg',\n",
    "'i027_edit.jpg',\n",
    "'i028_edit.jpg',\n",
    "'i030_edit.jpg',\n",
    "'i031.jpg',\n",
    "'i033.jpg',\n",
    "'i035_edit.jpg',\n",
    "'i037.jpg',\n",
    "'i039_edit.jpg',\n",
    "'i041_edit.jpg',\n",
    "'i044_edit.jpg',\n",
    "'i047.jpg',\n",
    "'i049_edit.jpg',\n",
    "'i051.jpg',\n",
    "'i055_edit.jpg',\n",
    "'i057.jpg',\n",
    "'i059.jpg',\n",
    "'i061_edit.jpg',\n",
    "'i063_edit.jpg',\n",
    "'i065_edit.jpg',\n",
    "'i068_edit.jpg',\n",
    "'i070_edit.jpg',\n",
    "'i071_edit.jpg',\n",
    "'i073_edit.jpg',\n",
    "'i075_edit.jpg',\n",
    "'i076_edit.jpg',\n",
    "'i079_edit.jpg',\n",
    "'i082_edit.jpg',\n",
    "'i084_edit.jpg',\n",
    "'i086_edit.jpg',\n",
    "'i087_edit.jpg',\n",
    "'i089-i090_combo.jpg',\n",
    "'i093_edit.jpg',\n",
    "'i095_edit.jpg',\n",
    "'i096_edit.jpg',\n",
    "'i098_edit.jpg',\n",
    "'i100_edit.jpg',\n",
    "'i101_edit.jpg',\n",
    "'i102_edit.jpg',\n",
    "'i103_edit.jpg',\n",
    "'i107_edit.jpg',\n",
    "'i109-edit.jpg',\n",
    "'i111_edit.jpg',\n",
    "'i112_edit.jpg',\n",
    "'i114_edit.jpg',\n",
    "'i116_edit.jpg',\n",
    "'i118_edit.jpg',\n",
    "'i121-i122_combo.jpg',\n",
    "'i123_edit.jpg',\n",
    "'i124_edit.jpg',\n",
    "'i126_edit.jpg',\n",
    "'i127-i128_combo.jpg',\n",
    "'i130_edit.jpg',\n",
    "'i132_edit.jpg',\n",
    "'i135_edit.jpg',\n",
    "'i136_edit.jpg',\n",
    "'i138_edit.jpg',\n",
    "'i140_edit.jpg',\n",
    "'i142_edit.jpg',\n",
    "'i143_edit.jpg',\n",
    "'i144_edit.jpg',\n",
    "'i148_edit.jpg',\n",
    "'i150_edit.jpg',\n",
    "'i152_edit.jpg',\n",
    "'i154_edit.jpg',\n",
    "'i155_edit.jpg',\n",
    "'i158_edit.jpg',\n",
    "'i160_edit.jpg',\n",
    "'i162_edit.jpg',\n",
    "'i163_edit.jpg',\n",
    "'i165_edit.jpg',\n",
    "'i167_edit.jpg',\n",
    "'i168_edit.jpg',\n",
    "'i169_edit.jpg',\n",
    "'i170_edit.jpg',\n",
    "'i172_edit.jpg',\n",
    "'i174_edit.jpg',\n",
    "'i178_edit.jpg',\n",
    "'i180_edit.jpg',\n",
    "'i182_edit.jpg',\n",
    "'i184_edit.jpg',\n",
    "'i186_edit.jpg',\n",
    "'i190_edit.jpg',\n",
    "'i192_edit.jpg',\n",
    "'i194_edit.jpg',\n",
    "'i195-196_combo.jpg',\n",
    "'i198_edit.jpg',\n",
    "'i202_edit.jpg',\n",
    "'i204_edit.jpg',\n",
    "'i206_edit.jpg',\n",
    "'i208_edit.jpg',\n",
    "'i210_edit.jpg',\n",
    "'i212_edit.jpg',\n",
    "'i214_edit.jpg',\n",
    "'i218_edit.jpg',\n",
    "'i220_edit.jpg',\n",
    "'i221_edit.jpg',\n",
    "'i222_edit.jpg',\n",
    "'i224_edit.jpg',\n",
    "'i226_edit.jpg',\n",
    "'i228_edit.jpg',\n",
    "'i230_edit.jpg',\n",
    "'i231_edit.jpg',\n",
    "'i234_edit.jpg',\n",
    "'i236_edit.jpg',\n",
    "'i238_edit.jpg',\n",
    "'i240_edit.jpg',\n",
    "'i242_edit.jpg',\n",
    "'i244_edit.jpg',\n",
    "'i246_edit.jpg',\n",
    "'i249_edit.jpg',\n",
    "'i251_edit.jpg',\n",
    "'i252_edit.jpg',\n",
    "'i254_edit.jpg',\n",
    "'i256_edit.jpg',\n",
    "'i259_edit.jpg',\n",
    "'i262_edit.jpg',\n",
    "'i264_edit.jpg',\n",
    "'i266_edit.jpg',\n",
    "'i270_edit.jpg',\n",
    "'i272_edit.jpg',\n",
    "'i274_edit.jpg',\n",
    "'i276_edit.jpg',\n",
    "'i278_edit.jpg',\n",
    "'i282_edit.jpg',\n",
    "'i284_edit.jpg',\n",
    "'i286_edit.jpg',\n",
    "'i290_edit.jpg',\n",
    "'i292_edit.jpg',\n",
    "'i294_edit.jpg',\n",
    "'i296_edit.jpg',\n",
    "'i299_edit.jpg',\n",
    "'i301_edit.jpg',\n",
    "'i304_edit.jpg']"
   ]
  },
  {
   "cell_type": "code",
   "execution_count": 4,
   "metadata": {},
   "outputs": [],
   "source": [
    "tecoo_list = ['cover.jpg',\n",
    "'i001l.jpg',\n",
    "'i003l.jpg',\n",
    "'i004al.jpg',\n",
    "'i004cl.jpg',\n",
    "'i006l.jpg',\n",
    "'i008l.jpg',\n",
    "'i009al.jpg',\n",
    "'i009cl.jpg',\n",
    "'i010l.jpg',\n",
    "'i011l.jpg',\n",
    "'i012l.jpg',\n",
    "'i013l.jpg',\n",
    "'i015l.jpg',\n",
    "'i020l.jpg',\n",
    "'i022l.jpg',\n",
    "'i023l.jpg',\n",
    "'i027l.jpg',\n",
    "'i032l.jpg',\n",
    "'i033l.jpg',\n",
    "'i041l.jpg',\n",
    "'i042l.jpg',\n",
    "'i043l.jpg',\n",
    "'i047l.jpg',\n",
    "'i049l.jpg',\n",
    "'i051l.jpg',\n",
    "'i052l.jpg',\n",
    "'i059l.jpg',\n",
    "'i063l.jpg',\n",
    "'i064l.jpg',\n",
    "'i065l.jpg',\n",
    "'i069l.jpg',\n",
    "'i070l.jpg',\n",
    "'i071l.jpg',\n",
    "'i072l.jpg',\n",
    "'i075l.jpg',\n",
    "'i081l.jpg',\n",
    "'i085l.jpg',\n",
    "'i086l.jpg',\n",
    "'i089l.jpg',\n",
    "'i093l.jpg',\n",
    "'i095l.jpg',\n",
    "'i101l.jpg',\n",
    "'i105l.jpg',\n",
    "'i108l.jpg',\n",
    "'i117l.jpg',\n",
    "'i121l.jpg',\n",
    "'i123l.jpg',\n",
    "'i124l.jpg',\n",
    "'i127l.jpg',\n",
    "'i133l.jpg',\n",
    "'i137l.jpg',\n",
    "'i139l.jpg',\n",
    "'i141l.jpg',\n",
    "'i149l.jpg',\n",
    "'i153l.jpg',\n",
    "'i155l.jpg',\n",
    "'i159l.jpg',\n",
    "'i161l.jpg',\n",
    "'i169l.jpg',\n",
    "'i171l.jpg',\n",
    "'i172l.jpg',\n",
    "'i177l.jpg',\n",
    "'i181l.jpg',\n",
    "'i184l.jpg',\n",
    "'i185l.jpg',\n",
    "'i187l.jpg',\n",
    "'i195l.jpg',\n",
    "'i196l.jpg',\n",
    "'i203l.jpg',\n",
    "'i209l.jpg',\n",
    "'i210l.jpg',\n",
    "'i214l.jpg',\n",
    "'i221l.jpg',\n",
    "'i223l.jpg',\n",
    "'i227l.jpg',\n",
    "'i233l.jpg',\n",
    "'i234l.jpg',\n",
    "'i241l.jpg',\n",
    "'i245l.jpg',\n",
    "'i246l.jpg',\n",
    "'i251l.jpg',\n",
    "'i253l.jpg',\n",
    "'i257l.jpg',\n",
    "'i258l.jpg',\n",
    "'i259l.jpg',\n",
    "'i263l.jpg',\n",
    "'i269l.jpg',\n",
    "'i271l.jpg',\n",
    "'i278l.jpg',\n",
    "'i279l.jpg',\n",
    "'i283l.jpg',\n",
    "'i287l.jpg',\n",
    "'i289l.jpg',\n",
    "'i291l.jpg',\n",
    "'i299l.jpg',\n",
    "'i301l.jpg',\n",
    "'i302l.jpg',\n",
    "'i303l.jpg',\n",
    "'i305l.jpg',\n",
    "'i308l.jpg',\n",
    "'i311l.jpg',\n",
    "'i315l.jpg',\n",
    "'i317l.jpg',\n",
    "'i319l.jpg',\n",
    "'i323l.jpg',\n",
    "'i324l.jpg',\n",
    "'i327l.jpg',\n",
    "'i328l.jpg'];"
   ]
  },
  {
   "cell_type": "code",
   "execution_count": 2,
   "metadata": {},
   "outputs": [],
   "source": [
    "def list_for_char(character):\n",
    "    list = [];\n",
    "    for i in range(len(categorization_of_pics_tecoo)):\n",
    "        if(character in categorization_of_pics_tecoo[i]):\n",
    "            list=list+[tecoo_list[i]]\n",
    "    return list"
   ]
  },
  {
   "cell_type": "code",
   "execution_count": 135,
   "metadata": {},
   "outputs": [
    {
     "name": "stdout",
     "output_type": "stream",
     "text": [
      "{'jp', 's', 'cl', 'wb', 'gargoyle', 'p', 'e', 'j', 'mangaboo', 'braidedman', 'tw', 'z', 'ozma', 'sh', 'woz', 'b', 'army', 'ht', 'dragonette', 'd'}\n"
     ]
    }
   ],
   "source": [
    "print(set([item for sublist in categorization_of_pics_trto for item in sublist]))\n"
   ]
  },
  {
   "cell_type": "code",
   "execution_count": 80,
   "metadata": {},
   "outputs": [
    {
     "data": {
      "text/plain": [
       "['i264_edit.jpg', 'i266_edit.jpg', 'i270_edit.jpg']"
      ]
     },
     "execution_count": 80,
     "metadata": {},
     "output_type": "execute_result"
    }
   ],
   "source": [
    "list_for_char('china')"
   ]
  },
  {
   "cell_type": "code",
   "execution_count": 100,
   "metadata": {},
   "outputs": [],
   "source": [
    "categorization_of_pics_ooz = [['o','d'],[],[],['ht'],['o'],['tt'],['d','b'],['s','b'],[],['d'],['d'],['d'],['d'],['b'],['d','b'],['d','b'],['d','b'],['d','b','wheeler'],['wheeler'],['d','b'],['d','b'],['d','b','tt'],['d','b','tt'],['d','b','tt'],['d','b','tt'],['b'],['d','b','tt'],['d','b'],[],['d','b','tt'],['tt','wheeler','d'],['d','b','tt','wheeler'],['d','b','tt','wheeler'],['d','b','tt','nanda'],['b','nanda'],['lang'],['d'],['b'],['cl','ht','o','s','sh','tw','army'],['d'],['d','cl','ht','o','s','sh','tw','army'],['lang','o','tw','s'],['s'],['lang','o','d'],['ht'],['ht','nanda'],['b','d'],['ht','cl','d','b','tw','s'],['lang','o','d','tw','s','b','tt'],['tw','d','s'],['s','d'],['d','b'],['ht','cl','d','o','s','sh','tw','tt','army'],['ig','ht','cl','d','o'],['ig','sh','army'],['army','s'],['nomes'],['d','s','o','tw'],['kingofev'],['nomeking','d','o'],['nomeking','d','o','s','tt','tw','army','b','nomes'],['o','s'],['o'],['o'],['b'],['d'],['nomeking','nomes'],['d','nomeking'],['d','royalev'],['d','royalev'],['b','nomeking'],['s'],['nomeking'],['nomeking','b'],['royalev','b'],['royalev'],['nomeking','s'],['nomeking','d','b','s'],['nomeking'],['nomes'],['tw'],['royalev'],['b'],['jinjur'],['o','army'],['ht'],['glinda','dorothy'],['d','b','tt','s','tw','cl','ht','o'],['d','unclehenry']]"
   ]
  },
  {
   "cell_type": "code",
   "execution_count": 84,
   "metadata": {},
   "outputs": [],
   "source": [
    "ooo_list = ['cover.jpg',\n",
    "'005.jpg',\n",
    "'i001.jpg',\n",
    "'i003.jpg',\n",
    "'i004.jpg',\n",
    "'i006.jpg',\n",
    "'i007.jpg',\n",
    "'i010.jpg',\n",
    "'i011.jpg',\n",
    "'i012.jpg',\n",
    "'i017.jpg',\n",
    "'i021.jpg',\n",
    "'i023.jpg',\n",
    "'i029.jpg',\n",
    "'i033.jpg',\n",
    "'i036.jpg',\n",
    "'i041.jpg',\n",
    "'i043.jpg',\n",
    "'i045.jpg',\n",
    "'i048.jpg',\n",
    "'i051.jpg',\n",
    "'i053.jpg',\n",
    "'i057.jpg',\n",
    "'i059.jpg',\n",
    "'i061.jpg',\n",
    "'i063.jpg',\n",
    "'i066.jpg',\n",
    "'i069.jpg',\n",
    "'i073.jpg',\n",
    "'i075.jpg',\n",
    "'i079.jpg',\n",
    "'i081.jpg',\n",
    "'i085.jpg',\n",
    "'i087.jpg',\n",
    "'i089.jpg',\n",
    "'i093.jpg',\n",
    "'i097.jpg',\n",
    "'i100.jpg',\n",
    "'i105.jpg',\n",
    "'i107.jpg',\n",
    "'i109.jpg',\n",
    "'i111.jpg',\n",
    "'i113.jpg',\n",
    "'i116.jpg',\n",
    "'i119.jpg',\n",
    "'i121.jpg',\n",
    "'i125.jpg',\n",
    "'i127.jpg',\n",
    "'i133.jpg',\n",
    "'i136.jpg',\n",
    "'i138.jpg',\n",
    "'i143.jpg',\n",
    "'i145.jpg',\n",
    "'i149.jpg',\n",
    "'i153.jpg',\n",
    "'i155.jpg',\n",
    "'i160.jpg',\n",
    "'i162.jpg',\n",
    "'i165.jpg',\n",
    "'i167.jpg',\n",
    "'i171.jpg',\n",
    "'i174.jpg',\n",
    "'i178.jpg',\n",
    "'i181.jpg',\n",
    "'i187.jpg',\n",
    "'i190.jpg',\n",
    "'i193.jpg',\n",
    "'i197.jpg',\n",
    "'i202.jpg',\n",
    "'i204.jpg',\n",
    "'i209.jpg',\n",
    "'i211.jpg',\n",
    "'i212.jpg',\n",
    "'i215.jpg',\n",
    "'i221.jpg',\n",
    "'i225.jpg',\n",
    "'i231.jpg',\n",
    "'i239.jpg',\n",
    "'i241.jpg',\n",
    "'i244.jpg',\n",
    "'i249.jpg',\n",
    "'i251.jpg',\n",
    "'i253.jpg',\n",
    "'i257.jpg',\n",
    "'i259.jpg',\n",
    "'i262.jpg',\n",
    "'i266.jpg',\n",
    "'i269.jpg',\n",
    "'i270.jpg']"
   ]
  },
  {
   "cell_type": "code",
   "execution_count": 113,
   "metadata": {},
   "outputs": [
    {
     "data": {
      "text/plain": [
       "['i087.jpg', 'i089.jpg', 'i121.jpg']"
      ]
     },
     "execution_count": 113,
     "metadata": {},
     "output_type": "execute_result"
    }
   ],
   "source": [
    "list_for_char('nanda')"
   ]
  },
  {
   "cell_type": "code",
   "execution_count": 134,
   "metadata": {},
   "outputs": [],
   "source": [
    "\n",
    "\n",
    "categorization_of_pics_datwio = [['d','woz','e','p'],['d','j','z'],[],['woz','mangaboo'],[],['z','gargoyle'],['p'],['ht','j','z'],['tw'],['d','z'],['d'],['j','d','z','woz'],['j','z','woz','d','e'],['d','ozma'],['sh'],['d','ozma','woz','tw','s','jp','e','z','j'],['ozma'],['d','e','tw'],['ozma','p'],['d','woz'],['d','z','j'],['d','z','e'],['woz'],['woz','j','d','z'],['army'],[],['e'],['wb'],['e','wb','tw'],['j'],[],['d','woz','z','j'],['d','e'],['d'],['gargoyle'],['j','d'],['d','e','woz','z'],['j','z','woz'],['s','tw'],['j','cl','ht'],['woz'],['tw','p'],['mangaboo','d','woz'],['mangaboo','d','woz'],['woz'],['e'],['j','z','d','e','woz'],['d','z','woz','j','e'],['braidedman','d'],['d','woz','gargoyle'],['d','woz'],['e'],['d','woz'],['s','gargoyle'],['jp'],['d'],['d','z','woz','dragonette'],['j'],[],[],['z'],['z','d','woz'],['j','sh','e'],['j'],['j'],['d','woz','z'],['woz','gargoyle'],['woz','z','d','e','j'],['woz','p'],['woz','p','ozma','e','tw','s','d'],['b']]\n",
    "\n",
    "\n",
    "\n",
    "\n",
    "\n"
   ]
  },
  {
   "cell_type": "code",
   "execution_count": 144,
   "metadata": {},
   "outputs": [
    {
     "data": {
      "text/plain": [
       "['14752747532_ecf3134192_o.jpg']"
      ]
     },
     "execution_count": 144,
     "metadata": {},
     "output_type": "execute_result"
    }
   ],
   "source": [
    "list_for_char('dragonette')"
   ]
  },
  {
   "cell_type": "code",
   "execution_count": 146,
   "metadata": {},
   "outputs": [
    {
     "name": "stdout",
     "output_type": "stream",
     "text": [
      "100\n"
     ]
    }
   ],
   "source": [
    "trto_list = ['cover.jpg',\n",
    "'14566437430_efae3f3575_o.jpg',\n",
    "'14566438690_d91ddb7936_o.jpg',\n",
    "'14566442120_5c2a7b13d1_o.jpg',\n",
    "'14566444220_23a2b204c6_o.jpg',\n",
    "'14566460208_2509216357_o.jpg',\n",
    "'14566460500_a4f8b19897_o.jpg',\n",
    "'14566460909_fca7493e31_o.jpg',\n",
    "'14566460930_1b15e3b578_o.jpg',\n",
    "'14566461619_f8bc3bc54c_o.jpg',\n",
    "'14566462858_1380c1c725_o.jpg',\n",
    "'14566466269_34aba6948a_o.jpg',\n",
    "'14566467829_cc9181b891_o.jpg',\n",
    "'14566468760_4a2b09bc78_o.jpg',\n",
    "'14566469140_22be122959_o.jpg',\n",
    "'14566473880_d6eea61aba_o.jpg',\n",
    "'14566474268_d666933884_o.jpg',\n",
    "'14566474329_b789228110_o.jpg',\n",
    "'14566478258_7facee9911_o.jpg',\n",
    "'14566486829_3d53b3cc08_o.jpg',\n",
    "'14566492328_c06fe6ec9d_o.jpg',\n",
    "'14566494018_3b757584b2_o.jpg',\n",
    "'14566497678_43bb30ffab_o.jpg',\n",
    "'14566500588_3e3510c767_o.jpg',\n",
    "'14566504258_fb0a9007d7_o.jpg',\n",
    "'14566507568_fb0262fceb_o.jpg',\n",
    "'14566511719_71afb8d999_o.jpg',\n",
    "'14566514678_522b6b70bd_o.jpg',\n",
    "'14566519398_1042beab10_o.jpg',\n",
    "'14566523809_970ff5a3c5_o.jpg',\n",
    "'14566524959_10ea0b2a87_o.jpg',\n",
    "'14566525849_71740fafbf_o.jpg',\n",
    "'14566527649_c91a6bd53f_o.jpg',\n",
    "'14566528048_e54cb02d8e_o.jpg',\n",
    "'14566672637_5fa76681fa_o.jpg',\n",
    "'14566673787_0acbee2390_o.jpg',\n",
    "'14566674107_a6a334166e_o.jpg',\n",
    "'14566675977_fec9e6631d_o.jpg',\n",
    "'14566677627_80e9dce6b4_o.jpg',\n",
    "'14566679777_10a5bc6523_o.jpg',\n",
    "'14566686067_6102b081e0_o.jpg',\n",
    "'14566687427_815a9f70b1_o.jpg',\n",
    "'14566691127_062a1d3baf_o.jpg',\n",
    "'14566700417_1bc5519182_o.jpg',\n",
    "'14566708227_6d432dc2da_o.jpg',\n",
    "'14566708617_1f0e2d41f9_o.jpg',\n",
    "'14566713057_69c8180a95_o.jpg',\n",
    "'14566716007_66bb7c7eda_o.jpg',\n",
    "'14566717087_c304c9cd6e_o.jpg',\n",
    "'14566721557_13be1ed1fc_o.jpg',\n",
    "'14566736087_d99e661897_o.jpg',\n",
    "'14730130566_5c727f8d99_o.jpg',\n",
    "'14730142946_dac06040ee_o.jpg',\n",
    "'14730161276_08c3f43567_o.jpg',\n",
    "'14730178206_425d457978_o.jpg',\n",
    "'14730179696_43f9c1f4ce_o.jpg',\n",
    "'14730182016_6ca61d3dfc_o.jpg',\n",
    "'14749975421_a13ae92558_o.jpg',\n",
    "'14749979571_1a6106f66e_o.jpg',\n",
    "'14749982681_93bcd74182_o.jpg',\n",
    "'14749991481_2c68d242c1_o.jpg',\n",
    "'14749994701_a53efea691_o.jpg',\n",
    "'14750006071_7f7aa37c1c_o.jpg',\n",
    "'14750008551_1bfe46e130_o.jpg',\n",
    "'14750778424_3d603e3a71_o.jpg',\n",
    "'14750781184_34bf3bea16_o.jpg',\n",
    "'14750787714_f96c80ae18_o.jpg',\n",
    "'14750792744_69c6a7ae2e_o.jpg',\n",
    "'14750804294_cc932bd062_o.jpg',\n",
    "'14750828724_7d99a0b9e0_o.jpg',\n",
    "'14750833444_ef66704474_o.jpg',\n",
    "'14750838594_07e069ef10_o.jpg',\n",
    "'14750841884_dece101b65_o.jpg',\n",
    "'14752812992_6666984e0a_o.jpg',\n",
    "'14752818792_7664b02d91_o.jpg',\n",
    "'14752830102_28b8382d56_o.jpg',\n",
    "'14752833312_536b11bb07_o.jpg',\n",
    "'14752840722_d0f9cd35db_o.jpg',\n",
    "'14752859752_f94dd997c3_o.jpg',\n",
    "'14752869262_a8cf33ed89_o.jpg',\n",
    "'14753118065_3f111e1089_o.jpg',\n",
    "'14753131375_cd0c37a0c9_o.jpg',\n",
    "'14753134395_0a8a5047b7_o.jpg',\n",
    "'14753146805_133dd98351_o.jpg',\n",
    "'14753153705_66042e6111_o.jpg',\n",
    "'14753158095_e3968295d7_o.jpg',\n",
    "'14753159245_8acf8019e7_o.jpg',\n",
    "'14753163595_65e72fc16d_o.jpg',\n",
    "'14753164885_566110d025_o.jpg',\n",
    "'14753168465_51cbf035a9_o.jpg',\n",
    "'14772979543_ea48c58dbb_o.jpg',\n",
    "'14772985983_ba10e5108f_o.jpg',\n",
    "'14772997163_14b4b83d4d_o.jpg',\n",
    "'14773005723_08b37ea3a6_o.jpg',\n",
    "'14773008293_d4587dfdd2_o.jpg',\n",
    "'14773026823_079d3e10b3_o.jpg',\n",
    "'14773028093_73370445fd_o.jpg',\n",
    "'14773029193_430621373d_o.jpg',\n",
    "'14773039803_17f5daabde_o.jpg',\n",
    "'14773041343_528f02a3d9_o.jpg']\n",
    "print(len(trto_list))"
   ]
  },
  {
   "cell_type": "code",
   "execution_count": 149,
   "metadata": {},
   "outputs": [],
   "source": [
    "\n",
    "categorization_of_pics_trto = [['sm'],['t','d','bb','sm'],['fox','d'],['fox'],['poly'],['jp'],['scoodler'],[],['woz'],[],[],[],['t','sm'],['sm'],['b'],['tt','bb'],['donkey'],['bb','t'],['sm'],['t'],['jd'],['d','poly'],['d','poly','t','sm'],['t','d','bb','sm','poly'],['jp'],['cl'],['cl','t'],['woz','s','tw','t','bb','d','jp'],['glinda'],['queenofmerryland','candyman'],['queenzixi'],['candyman'],['ht','cl','t','rubberbear','donkey','fox','sh'],['santa','fox','donkey','bb','kingbud','princessfluff'],['bb'],['d'],['fox'],['fox'],['d','bb','t'],['poly'],['sm','bb'],[],['sm','t','d','bb','poly'],['sm','t','d','bb','poly'],['d','t'],['poly'],['d','cl'],['sm'],['sm'],['piggies'],['t'],['donkey','d','sm','bb'],['t','scoodler'],['poly','tw','d','t','sm','bb'],['ht'],['fieldmice','ozma','santa','s','tw','jp','woz'],['woz','glinda','s','tw','cl','tiktok','jp'],['sm','bb','d','t'],['sm','bb','d','poly','t','scoodler'],['scoodler'],['sm','bb','d','poly','t'],['tiktok','b'],['sm'],['ozma','d'],['d','t'],['t','bb','d','sm'],['poly'],['sm'],['sm','d','bb','poly','t'],['s'],['braidedman'],['ozma','bearrug'],['d'],['fox'],['donkey','d','sm','bb'],['poly','scoodler'],['johnnydoit'],['tiktok','b'],['santa','knook','ryl'],['poly'],['bb','d','sm','t'],['sm'],['musicker','bb'],['t','poly','sm','bb','d'],['tw'],['ht'],['gotg','tw','t','d','bb','poly','cl'],['ozma'],['ozma','poly'],['johndough','chickthecherub','rubberbear'],['sm'],['sm'],['poly','d'],['musicker'],['scoodler','t'],['jp'],['ht'],['bearrug','dyna'],['jp'],['johndough']]\n"
   ]
  },
  {
   "cell_type": "code",
   "execution_count": 6,
   "metadata": {},
   "outputs": [
    {
     "name": "stdout",
     "output_type": "stream",
     "text": [
      "109\n",
      "109\n"
     ]
    }
   ],
   "source": [
    "print(len(categorization_of_pics_tecoo))\n",
    "print(len(tecoo_list))\n"
   ]
  },
  {
   "cell_type": "code",
   "execution_count": 12,
   "metadata": {},
   "outputs": [
    {
     "name": "stdout",
     "output_type": "stream",
     "text": [
      "{'utensils', 'd', 'nomeking', 'zebraandcrab', 'cl', 'bunny', 'mice', 'eureka', 'jp', 'flutterbudget', 'tw', 'sawhorse', 'guph', 'tiktok', 'ht', 'munchkin', 'wogglebug', 'auntem', 's', 'sm', 'glinda', 'phanfasms', 'nomes', 'b', 'buns', 'cuttenclips', 'whimsies', 'fuddles', 'aligator', 'ozma', 'woz', 't', 'unclehenry', 'ombyamby', 'growleywog', 'kangaroo', 'rigmarole', 'piggies'}\n"
     ]
    }
   ],
   "source": [
    "print(set([item for sublist in categorization_of_pics_tecoo for item in sublist]))\n"
   ]
  },
  {
   "cell_type": "code",
   "execution_count": 50,
   "metadata": {},
   "outputs": [
    {
     "data": {
      "text/plain": [
       "['i253l.jpg']"
      ]
     },
     "execution_count": 50,
     "metadata": {},
     "output_type": "execute_result"
    }
   ],
   "source": [
    "list_for_char('rigmarole')"
   ]
  },
  {
   "cell_type": "code",
   "execution_count": 11,
   "metadata": {},
   "outputs": [],
   "source": [
    "categorization_of_pics_tecoo = [['ozma','s','tw','piggies'],[],['tw','s'],['sawhorse','woz','d','ombyamby'],['mice','piggies'],['s','d','auntem','tw','ombyamby','unclehenry'],['ozma','sawhorse'],['bunny'],['bunny'],['bunny','d'],['woz'],['bunny'],['nomes'],['nomeking'],['nomeking'],['nomeking'],['unclehenry','eureka'],['d'],['unclehenry','auntem'],['munchkin','eureka'],['d','ozma'],['ozma'],['nomeking','nomes'],['nomeking','guph'],['guph'],['guph'],['d'],['auntem','unclehenry'],['ozma','ht','cl'],['d'],['guph'],['guph','whimsies'],['whimsies'],['nomes'],['d','auntem','unclehenry'],['unclehenry'],['cl','auntem','unclehenry'],['cl'],['guph'],['growleywog'],['guph'],['auntem'],['wogglebug','unclehenry','auntem','d','woz','sawhorse','ombyamby','sm'],['b'],['sm','sawhorse','d','unclehenry','auntem','woz','ombyamby'],['d','cuttenclips'],['sm','cuttenclips'],['ozma','sawhorse'],['guph'],['aligator','phanfasms','guph'],['guph','phanfasms'],['guph'],['sawhorse'],['kangaroo'],['d','woz','fuddles'],['unclehenry'],['nomeking','guph'],['nomeking'],['sawhorse','d','woz','unclehenry','ombyamby'],['sawhorse'],['auntem'],['auntem','ombyamby','woz','d','unclehenry','sm'],['zebraandcrab'],['d','t','utensils','b'],['d','t','utensils','b'],['t','utensils'],['d','t','b','utensils'],['utensils'],['d'],['buns'],['buns'],['ozma'],['d'],['bunny'],['bunny'],['d','bunny'],['bunny'],['bunny'],['d','bunny'],['bunny'],['d','b','t'],['sawhorse','woz','d','unclehenry'],['woz','rigmarole'],['d','woz','unclehenry','auntem','ombyamby'],['sawhorse','d','woz','unclehenry','ombyamby','sm'],['sawhorse','d','woz','unclehenry','ombyamby','sm'],['flutterbudget'],['ombyamby'],['tw'],['tw'],['s'],['s','tw','d','sawhorse','woz','ombyamby','unclehenry','auntem','sm'],['sawhorse','woz','d','unclehenry','auntem','jp','tw','s','ombyamby','sm'],['ozma'],['d','ozma','tw','jp','s','sawhorse','woz','wogglebug'],['s'],['d'],['jp'],['growleywog','guph'],['nomes','nomeking'],['tiktok','tw','jp','s'],['phanfasms','ozma','s','tw','jp','d','woz','unclehenry'],['nomeking'],['ozma'],['ozma'],['glinda','ozma','d'],['glinda'],[],['ozma','d','woz']]\n",
    "\n",
    "\n"
   ]
  },
  {
   "cell_type": "code",
   "execution_count": null,
   "metadata": {},
   "outputs": [],
   "source": []
  }
 ],
 "metadata": {
  "kernelspec": {
   "display_name": "Python 3",
   "language": "python",
   "name": "python3"
  },
  "language_info": {
   "codemirror_mode": {
    "name": "ipython",
    "version": 3
   },
   "file_extension": ".py",
   "mimetype": "text/x-python",
   "name": "python",
   "nbconvert_exporter": "python",
   "pygments_lexer": "ipython3",
   "version": "3.7.6"
  }
 },
 "nbformat": 4,
 "nbformat_minor": 4
}
